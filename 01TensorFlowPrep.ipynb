{
  "cells": [
    {
      "cell_type": "markdown",
      "metadata": {
        "id": "edzOOHrNdgim"
      },
      "source": [
        "#Intro To Regression with Neural Networks in TensorFlow"
      ]
    },
    {
      "cell_type": "code",
      "execution_count": null,
      "metadata": {
        "colab": {
          "base_uri": "https://localhost:8080/"
        },
        "id": "W2W7h8QQG1L6",
        "outputId": "5e09d3ec-5cc1-4c47-9eae-eb4fdd061a84"
      },
      "outputs": [
        {
          "output_type": "stream",
          "name": "stdout",
          "text": [
            "2.8.2\n"
          ]
        }
      ],
      "source": [
        "import tensorflow as tf\n",
        "import numpy as np\n",
        "import matplotlib.pyplot as plt\n",
        "print(tf.__version__)"
      ]
    },
    {
      "cell_type": "markdown",
      "metadata": {
        "id": "YDUFgx9DiVis"
      },
      "source": [
        "#Creating Data To view and fit"
      ]
    },
    {
      "cell_type": "code",
      "execution_count": null,
      "metadata": {
        "colab": {
          "base_uri": "https://localhost:8080/",
          "height": 282
        },
        "id": "VY3fp2lldyqd",
        "outputId": "6fb7bf6e-b307-4318-bfcd-0345e7ca2797"
      },
      "outputs": [
        {
          "output_type": "execute_result",
          "data": {
            "text/plain": [
              "<matplotlib.collections.PathCollection at 0x7f86bd6f45d0>"
            ]
          },
          "metadata": {},
          "execution_count": 2
        },
        {
          "output_type": "display_data",
          "data": {
            "text/plain": [
              "<Figure size 432x288 with 1 Axes>"
            ],
            "image/png": "[encoded data removed]"
          },
          "metadata": {
            "needs_background": "light"
          }
        }
      ],
      "source": [
        "X=np.array([-7.0,-4.0,-1.0,2.0,5.0,8.0,11.0])#sample input features and data\n",
        "y=np.array([3.0,6.0,9.0,12.0,15.0,18.0,21.0])\n",
        "plt.scatter(X,y) #linear prop data"
      ]
    },
    {
      "cell_type": "code",
      "execution_count": null,
      "metadata": {
        "colab": {
          "base_uri": "https://localhost:8080/"
        },
        "id": "VcOBfRNSes8w",
        "outputId": "d442987b-85ae-492e-e4f3-316111dd5bbd"
      },
      "outputs": [
        {
          "output_type": "execute_result",
          "data": {
            "text/plain": [
              "array([ True,  True,  True,  True,  True,  True,  True])"
            ]
          },
          "metadata": {},
          "execution_count": 3
        }
      ],
      "source": [
        "y==X+10"
      ]
    },
    {
      "cell_type": "markdown",
      "metadata": {
        "id": "SoX6K5P3fb3F"
      },
      "source": [
        "#Input and Output Shapes"
      ]
    },
    {
      "cell_type": "code",
      "execution_count": null,
      "metadata": {
        "colab": {
          "base_uri": "https://localhost:8080/"
        },
        "id": "SccXY6KLflut",
        "outputId": "aadfcbce-0b74-404a-91da-2d95de9fb69b"
      },
      "outputs": [
        {
          "output_type": "execute_result",
          "data": {
            "text/plain": [
              "(<tf.Tensor: shape=(3,), dtype=string, numpy=array([b'bedroom', b'bathroom', b'garage'], dtype=object)>,\n",
              " <tf.Tensor: shape=(1,), dtype=int32, numpy=array([937900], dtype=int32)>)"
            ]
          },
          "metadata": {},
          "execution_count": 4
        }
      ],
      "source": [
        "# Create a demo tensor for our housing prediction problem\n",
        "house_info=tf.constant([\"bedroom\",\"bathroom\",\"garage\"])\n",
        "house_price=tf.constant([937900])\n",
        "house_info,house_price"
      ]
    },
    {
      "cell_type": "code",
      "execution_count": null,
      "metadata": {
        "colab": {
          "base_uri": "https://localhost:8080/"
        },
        "id": "tN6RBdKzgGKk",
        "outputId": "8ab4b50c-72fa-448d-a77f-ace1b70f97d2"
      },
      "outputs": [
        {
          "output_type": "execute_result",
          "data": {
            "text/plain": [
              "(-7.0, 3.0)"
            ]
          },
          "metadata": {},
          "execution_count": 5
        }
      ],
      "source": [
        "X[0],y[0]"
      ]
    },
    {
      "cell_type": "code",
      "execution_count": null,
      "metadata": {
        "colab": {
          "base_uri": "https://localhost:8080/"
        },
        "id": "GhMoyknHgpHU",
        "outputId": "5524b861-064d-430b-828d-38d0d9f94ac5"
      },
      "outputs": [
        {
          "output_type": "execute_result",
          "data": {
            "text/plain": [
              "(-4.0, 6.0)"
            ]
          },
          "metadata": {},
          "execution_count": 6
        }
      ],
      "source": [
        "X[1],y[1]\n"
      ]
    },
    {
      "cell_type": "code",
      "execution_count": null,
      "metadata": {
        "id": "VfLXk93KgtMM"
      },
      "outputs": [],
      "source": [
        "X=tf.cast(tf.constant(X),dtype=tf.float32)\n",
        "y=tf.cast(tf.constant(y),dtype=tf.float32)"
      ]
    },
    {
      "cell_type": "code",
      "execution_count": null,
      "metadata": {
        "colab": {
          "base_uri": "https://localhost:8080/"
        },
        "id": "WqMp-VL7jN_O",
        "outputId": "4e816757-b313-4009-e839-b56ddb77de61"
      },
      "outputs": [
        {
          "output_type": "execute_result",
          "data": {
            "text/plain": [
              "(<tf.Tensor: shape=(7,), dtype=float32, numpy=array([-7., -4., -1.,  2.,  5.,  8., 11.], dtype=float32)>,\n",
              " <tf.Tensor: shape=(7,), dtype=float32, numpy=array([ 3.,  6.,  9., 12., 15., 18., 21.], dtype=float32)>)"
            ]
          },
          "metadata": {},
          "execution_count": 8
        }
      ],
      "source": [
        "X, y"
      ]
    },
    {
      "cell_type": "code",
      "execution_count": null,
      "metadata": {
        "colab": {
          "base_uri": "https://localhost:8080/",
          "height": 282
        },
        "id": "ZQWtcwLGjaGc",
        "outputId": "7f09e709-fa7e-4196-b42b-a3cef8b1364f"
      },
      "outputs": [
        {
          "output_type": "execute_result",
          "data": {
            "text/plain": [
              "<matplotlib.collections.PathCollection at 0x7f86bd1f8b90>"
            ]
          },
          "metadata": {},
          "execution_count": 8
        },
        {
          "output_type": "display_data",
          "data": {
            "text/plain": [
              "<Figure size 432x288 with 1 Axes>"
            ],
            "image/png": "[encoded data removed]"
          },
          "metadata": {
            "needs_background": "light"
          }
        }
      ],
      "source": [
        "plt.scatter(X,y)"
      ]
    },
    {
      "cell_type": "markdown",
      "metadata": {
        "id": "EZzCveqPjpTD"
      },
      "source": [
        "#Steps in Modelling with TF"
      ]
    },
    {
      "cell_type": "markdown",
      "metadata": {
        "id": "B4ZZgWOL8WfE"
      },
      "source": [
        "#1.Creating a Model:Definining the input and output layers,as well as the hidden layers\n",
        "#2.Compiling a Model:Defining it's loss function,optimizer and evaluation metrics\n",
        "#3.Fitting a model:Letting the model try to find patterns between X and y\n",
        "#(features and labels).\n",
        "#4.Evaluate the model:On the test data,\n",
        "#see how reliable our model actually is\n",
        "\n"
      ]
    },
    {
      "cell_type": "code",
      "execution_count": null,
      "metadata": {
        "colab": {
          "base_uri": "https://localhost:8080/"
        },
        "id": "JfJ-Oy_jjsGq",
        "outputId": "25763c8a-ddcd-4545-cc65-0e9283aa4d28"
      },
      "outputs": [
        {
          "output_type": "stream",
          "name": "stdout",
          "text": [
            "Epoch 1/5\n",
            "1/1 [==============================] - 0s 229ms/step - loss: 10.8599 - mae: 10.8599\n",
            "Epoch 2/5\n",
            "1/1 [==============================] - 0s 9ms/step - loss: 10.8099 - mae: 10.8099\n",
            "Epoch 3/5\n",
            "1/1 [==============================] - 0s 7ms/step - loss: 10.7599 - mae: 10.7599\n",
            "Epoch 4/5\n",
            "1/1 [==============================] - 0s 9ms/step - loss: 10.7099 - mae: 10.7099\n",
            "Epoch 5/5\n",
            "1/1 [==============================] - 0s 8ms/step - loss: 10.6599 - mae: 10.6599\n"
          ]
        },
        {
          "output_type": "execute_result",
          "data": {
            "text/plain": [
              "<keras.callbacks.History at 0x7f862a25e510>"
            ]
          },
          "metadata": {},
          "execution_count": 10
        }
      ],
      "source": [
        " tf.random.set_seed(42)\n",
        "\n",
        " #1.Create a model using the Sequential API\n",
        " model=tf.keras.Sequential([tf.keras.layers.Dense(1)]) #Creating a sequential\n",
        " #neural net with density defined as 1.\n",
        "\n",
        " #2.Compile\n",
        " model.compile(loss=tf.keras.losses.mae,\n",
        "               optimizer=tf.keras.optimizers.SGD(),\n",
        "               metrics=[\"mae\"]) \n",
        " #1.Computes the mae between labels and preds\n",
        " #2.The optimizer function is stochastic gradient descent,\n",
        " #optimizer tells how our neural network should improve.\n",
        " #3.Evaluation metrics is the mae.\n",
        "\n",
        " model.fit(tf.expand_dims(X,axis=-1),y,epochs=5)\n",
        " #Epochs means iterations of the fitting model."
      ]
    },
    {
      "cell_type": "code",
      "execution_count": null,
      "metadata": {
        "colab": {
          "base_uri": "https://localhost:8080/"
        },
        "id": "-Cj8ONWXBjia",
        "outputId": "f30a423e-24c7-4b42-8092-2fda4b90d779"
      },
      "outputs": [
        {
          "output_type": "execute_result",
          "data": {
            "text/plain": [
              "<tf.Tensor: shape=(7,), dtype=bool, numpy=array([ True,  True,  True,  True,  True,  True,  True])>"
            ]
          },
          "metadata": {},
          "execution_count": 11
        }
      ],
      "source": [
        "y==X+10"
      ]
    },
    {
      "cell_type": "code",
      "execution_count": null,
      "metadata": {
        "colab": {
          "base_uri": "https://localhost:8080/"
        },
        "id": "egp6DE-HBaRC",
        "outputId": "29ec414c-7408-40b6-c322-68947b48a889"
      },
      "outputs": [
        {
          "output_type": "execute_result",
          "data": {
            "text/plain": [
              "(<tf.Tensor: shape=(7,), dtype=float32, numpy=array([-7., -4., -1.,  2.,  5.,  8., 11.], dtype=float32)>,\n",
              " <tf.Tensor: shape=(7,), dtype=float32, numpy=array([ 3.,  6.,  9., 12., 15., 18., 21.], dtype=float32)>)"
            ]
          },
          "metadata": {},
          "execution_count": 12
        }
      ],
      "source": [
        "X,y#"
      ]
    },
    {
      "cell_type": "code",
      "execution_count": null,
      "metadata": {
        "colab": {
          "base_uri": "https://localhost:8080/"
        },
        "id": "U8AHTyGfBU5b",
        "outputId": "ccd29c1c-4769-4da0-c840-1b1377992c0a"
      },
      "outputs": [
        {
          "output_type": "execute_result",
          "data": {
            "text/plain": [
              "array([[11.441017]], dtype=float32)"
            ]
          },
          "metadata": {},
          "execution_count": 13
        }
      ],
      "source": [
        "y_pred=model.predict([17.0]) #Trying to predict y when x is put as 7\n",
        "y_pred"
      ]
    },
    {
      "cell_type": "code",
      "execution_count": null,
      "metadata": {
        "colab": {
          "base_uri": "https://localhost:8080/"
        },
        "id": "wJB4mKntB-kj",
        "outputId": "27ff6e2b-b7e1-4b3f-94e5-5ac4786419cc"
      },
      "outputs": [
        {
          "output_type": "execute_result",
          "data": {
            "text/plain": [
              "array([[22.441017]], dtype=float32)"
            ]
          },
          "metadata": {},
          "execution_count": 14
        }
      ],
      "source": [
        "y_pred + 11"
      ]
    },
    {
      "cell_type": "code",
      "execution_count": null,
      "metadata": {
        "id": "dXpsJsau_ffT"
      },
      "outputs": [],
      "source": [
        "model=tf.keras.Sequential()\n",
        "model.add(tf.keras.layers.Dense(1))\n",
        "model.add(tf.keras.layers.Dense(1))\n",
        " "
      ]
    },
    {
      "cell_type": "markdown",
      "metadata": {
        "id": "uvbKsjE6EAPr"
      },
      "source": [
        "#Improving the model's performance\n",
        "1.Creating a model:Here we might add more layers,increase the number of hidden units\n",
        "2.Compiling a model:Changing the optimization function,changing the learning rate of the function\n",
        "3.Fitting a modelLChanging the epochs to more"
      ]
    },
    {
      "cell_type": "code",
      "execution_count": null,
      "metadata": {
        "colab": {
          "base_uri": "https://localhost:8080/"
        },
        "id": "vBDGdqO1V9tl",
        "outputId": "b3fb39a2-e345-479a-cf57-5b13c0f57674"
      },
      "outputs": [
        {
          "output_type": "stream",
          "name": "stdout",
          "text": [
            "Epoch 1/100\n"
          ]
        },
        {
          "output_type": "stream",
          "name": "stderr",
          "text": [
            "/usr/local/lib/python3.7/dist-packages/keras/optimizer_v2/adam.py:105: UserWarning: The `lr` argument is deprecated, use `learning_rate` instead.\n",
            "  super(Adam, self).__init__(name, **kwargs)\n"
          ]
        },
        {
          "output_type": "stream",
          "name": "stdout",
          "text": [
            "1/1 [==============================] - 1s 596ms/step - loss: 12.3294 - mae: 12.3294\n",
            "Epoch 2/100\n",
            "1/1 [==============================] - 0s 8ms/step - loss: 10.6154 - mae: 10.6154\n",
            "Epoch 3/100\n",
            "1/1 [==============================] - 0s 8ms/step - loss: 8.8809 - mae: 8.8809\n",
            "Epoch 4/100\n",
            "1/1 [==============================] - 0s 9ms/step - loss: 8.5089 - mae: 8.5089\n",
            "Epoch 5/100\n",
            "1/1 [==============================] - 0s 9ms/step - loss: 8.7259 - mae: 8.7259\n",
            "Epoch 6/100\n",
            "1/1 [==============================] - 0s 6ms/step - loss: 7.9875 - mae: 7.9875\n",
            "Epoch 7/100\n",
            "1/1 [==============================] - 0s 11ms/step - loss: 7.6234 - mae: 7.6234\n",
            "Epoch 8/100\n",
            "1/1 [==============================] - 0s 9ms/step - loss: 7.9177 - mae: 7.9177\n",
            "Epoch 9/100\n",
            "1/1 [==============================] - 0s 8ms/step - loss: 8.0134 - mae: 8.0134\n",
            "Epoch 10/100\n",
            "1/1 [==============================] - 0s 9ms/step - loss: 7.8512 - mae: 7.8512\n",
            "Epoch 11/100\n",
            "1/1 [==============================] - 0s 7ms/step - loss: 7.4766 - mae: 7.4766\n",
            "Epoch 12/100\n",
            "1/1 [==============================] - 0s 7ms/step - loss: 7.0346 - mae: 7.0346\n",
            "Epoch 13/100\n",
            "1/1 [==============================] - 0s 9ms/step - loss: 7.0324 - mae: 7.0324\n",
            "Epoch 14/100\n",
            "1/1 [==============================] - 0s 9ms/step - loss: 6.9671 - mae: 6.9671\n",
            "Epoch 15/100\n",
            "1/1 [==============================] - 0s 9ms/step - loss: 6.9234 - mae: 6.9234\n",
            "Epoch 16/100\n",
            "1/1 [==============================] - 0s 7ms/step - loss: 6.5991 - mae: 6.5991\n",
            "Epoch 17/100\n",
            "1/1 [==============================] - 0s 14ms/step - loss: 6.3273 - mae: 6.3273\n",
            "Epoch 18/100\n",
            "1/1 [==============================] - 0s 12ms/step - loss: 6.2707 - mae: 6.2707\n",
            "Epoch 19/100\n",
            "1/1 [==============================] - 0s 11ms/step - loss: 6.1625 - mae: 6.1625\n",
            "Epoch 20/100\n",
            "1/1 [==============================] - 0s 10ms/step - loss: 5.8071 - mae: 5.8071\n",
            "Epoch 21/100\n",
            "1/1 [==============================] - 0s 10ms/step - loss: 5.5536 - mae: 5.5536\n",
            "Epoch 22/100\n",
            "1/1 [==============================] - 0s 9ms/step - loss: 5.4090 - mae: 5.4090\n",
            "Epoch 23/100\n",
            "1/1 [==============================] - 0s 10ms/step - loss: 5.1026 - mae: 5.1026\n",
            "Epoch 24/100\n",
            "1/1 [==============================] - 0s 11ms/step - loss: 4.7698 - mae: 4.7698\n",
            "Epoch 25/100\n",
            "1/1 [==============================] - 0s 6ms/step - loss: 4.3868 - mae: 4.3868\n",
            "Epoch 26/100\n",
            "1/1 [==============================] - 0s 10ms/step - loss: 4.0870 - mae: 4.0870\n",
            "Epoch 27/100\n",
            "1/1 [==============================] - 0s 9ms/step - loss: 3.6414 - mae: 3.6414\n",
            "Epoch 28/100\n",
            "1/1 [==============================] - 0s 19ms/step - loss: 3.2091 - mae: 3.2091\n",
            "Epoch 29/100\n",
            "1/1 [==============================] - 0s 10ms/step - loss: 3.0125 - mae: 3.0125\n",
            "Epoch 30/100\n",
            "1/1 [==============================] - 0s 9ms/step - loss: 2.3137 - mae: 2.3137\n",
            "Epoch 31/100\n",
            "1/1 [==============================] - 0s 9ms/step - loss: 1.6602 - mae: 1.6602\n",
            "Epoch 32/100\n",
            "1/1 [==============================] - 0s 7ms/step - loss: 1.1540 - mae: 1.1540\n",
            "Epoch 33/100\n",
            "1/1 [==============================] - 0s 8ms/step - loss: 0.2617 - mae: 0.2617\n",
            "Epoch 34/100\n",
            "1/1 [==============================] - 0s 8ms/step - loss: 1.5794 - mae: 1.5794\n",
            "Epoch 35/100\n",
            "1/1 [==============================] - 0s 9ms/step - loss: 2.1816 - mae: 2.1816\n",
            "Epoch 36/100\n",
            "1/1 [==============================] - 0s 8ms/step - loss: 2.2842 - mae: 2.2842\n",
            "Epoch 37/100\n",
            "1/1 [==============================] - 0s 10ms/step - loss: 1.8218 - mae: 1.8218\n",
            "Epoch 38/100\n",
            "1/1 [==============================] - 0s 8ms/step - loss: 2.1714 - mae: 2.1714\n",
            "Epoch 39/100\n",
            "1/1 [==============================] - 0s 8ms/step - loss: 2.3108 - mae: 2.3108\n",
            "Epoch 40/100\n",
            "1/1 [==============================] - 0s 10ms/step - loss: 1.5019 - mae: 1.5019\n",
            "Epoch 41/100\n",
            "1/1 [==============================] - 0s 8ms/step - loss: 1.2274 - mae: 1.2274\n",
            "Epoch 42/100\n",
            "1/1 [==============================] - 0s 8ms/step - loss: 1.4787 - mae: 1.4787\n",
            "Epoch 43/100\n",
            "1/1 [==============================] - 0s 8ms/step - loss: 1.1298 - mae: 1.1298\n",
            "Epoch 44/100\n",
            "1/1 [==============================] - 0s 9ms/step - loss: 0.2199 - mae: 0.2199\n",
            "Epoch 45/100\n",
            "1/1 [==============================] - 0s 7ms/step - loss: 0.7027 - mae: 0.7027\n",
            "Epoch 46/100\n",
            "1/1 [==============================] - 0s 11ms/step - loss: 0.6972 - mae: 0.6972\n",
            "Epoch 47/100\n",
            "1/1 [==============================] - 0s 6ms/step - loss: 0.4361 - mae: 0.4361\n",
            "Epoch 48/100\n",
            "1/1 [==============================] - 0s 7ms/step - loss: 0.6956 - mae: 0.6956\n",
            "Epoch 49/100\n",
            "1/1 [==============================] - 0s 9ms/step - loss: 0.3609 - mae: 0.3609\n",
            "Epoch 50/100\n",
            "1/1 [==============================] - 0s 10ms/step - loss: 0.6562 - mae: 0.6562\n",
            "Epoch 51/100\n",
            "1/1 [==============================] - 0s 13ms/step - loss: 0.7593 - mae: 0.7593\n",
            "Epoch 52/100\n",
            "1/1 [==============================] - 0s 11ms/step - loss: 0.2995 - mae: 0.2995\n",
            "Epoch 53/100\n",
            "1/1 [==============================] - 0s 8ms/step - loss: 0.4305 - mae: 0.4305\n",
            "Epoch 54/100\n",
            "1/1 [==============================] - 0s 7ms/step - loss: 0.2189 - mae: 0.2189\n",
            "Epoch 55/100\n",
            "1/1 [==============================] - 0s 7ms/step - loss: 0.5183 - mae: 0.5183\n",
            "Epoch 56/100\n",
            "1/1 [==============================] - 0s 9ms/step - loss: 0.3392 - mae: 0.3392\n",
            "Epoch 57/100\n",
            "1/1 [==============================] - 0s 10ms/step - loss: 0.5797 - mae: 0.5797\n",
            "Epoch 58/100\n",
            "1/1 [==============================] - 0s 9ms/step - loss: 0.6877 - mae: 0.6877\n",
            "Epoch 59/100\n",
            "1/1 [==============================] - 0s 9ms/step - loss: 0.2918 - mae: 0.2918\n",
            "Epoch 60/100\n",
            "1/1 [==============================] - 0s 10ms/step - loss: 0.4476 - mae: 0.4476\n",
            "Epoch 61/100\n",
            "1/1 [==============================] - 0s 9ms/step - loss: 0.2919 - mae: 0.2919\n",
            "Epoch 62/100\n",
            "1/1 [==============================] - 0s 9ms/step - loss: 0.5166 - mae: 0.5166\n",
            "Epoch 63/100\n",
            "1/1 [==============================] - 0s 7ms/step - loss: 0.5472 - mae: 0.5472\n",
            "Epoch 64/100\n",
            "1/1 [==============================] - 0s 10ms/step - loss: 0.2925 - mae: 0.2925\n",
            "Epoch 65/100\n",
            "1/1 [==============================] - 0s 7ms/step - loss: 0.4726 - mae: 0.4726\n",
            "Epoch 66/100\n",
            "1/1 [==============================] - 0s 7ms/step - loss: 0.2093 - mae: 0.2093\n",
            "Epoch 67/100\n",
            "1/1 [==============================] - 0s 9ms/step - loss: 0.0792 - mae: 0.0792\n",
            "Epoch 68/100\n",
            "1/1 [==============================] - 0s 11ms/step - loss: 0.4944 - mae: 0.4944\n",
            "Epoch 69/100\n",
            "1/1 [==============================] - 0s 7ms/step - loss: 0.3866 - mae: 0.3866\n",
            "Epoch 70/100\n",
            "1/1 [==============================] - 0s 7ms/step - loss: 0.6036 - mae: 0.6036\n",
            "Epoch 71/100\n",
            "1/1 [==============================] - 0s 10ms/step - loss: 0.7808 - mae: 0.7808\n",
            "Epoch 72/100\n",
            "1/1 [==============================] - 0s 7ms/step - loss: 0.5414 - mae: 0.5414\n",
            "Epoch 73/100\n",
            "1/1 [==============================] - 0s 9ms/step - loss: 0.1655 - mae: 0.1655\n",
            "Epoch 74/100\n",
            "1/1 [==============================] - 0s 7ms/step - loss: 0.0957 - mae: 0.0957\n",
            "Epoch 75/100\n",
            "1/1 [==============================] - 0s 9ms/step - loss: 0.5126 - mae: 0.5126\n",
            "Epoch 76/100\n",
            "1/1 [==============================] - 0s 9ms/step - loss: 0.4268 - mae: 0.4268\n",
            "Epoch 77/100\n",
            "1/1 [==============================] - 0s 7ms/step - loss: 0.4312 - mae: 0.4312\n",
            "Epoch 78/100\n",
            "1/1 [==============================] - 0s 12ms/step - loss: 0.5496 - mae: 0.5496\n",
            "Epoch 79/100\n",
            "1/1 [==============================] - 0s 10ms/step - loss: 0.1451 - mae: 0.1451\n",
            "Epoch 80/100\n",
            "1/1 [==============================] - 0s 8ms/step - loss: 0.5897 - mae: 0.5897\n",
            "Epoch 81/100\n",
            "1/1 [==============================] - 0s 10ms/step - loss: 0.6490 - mae: 0.6490\n",
            "Epoch 82/100\n",
            "1/1 [==============================] - 0s 10ms/step - loss: 0.4313 - mae: 0.4313\n",
            "Epoch 83/100\n",
            "1/1 [==============================] - 0s 7ms/step - loss: 0.6637 - mae: 0.6637\n",
            "Epoch 84/100\n",
            "1/1 [==============================] - 0s 11ms/step - loss: 0.8035 - mae: 0.8035\n",
            "Epoch 85/100\n",
            "1/1 [==============================] - 0s 11ms/step - loss: 0.3618 - mae: 0.3618\n",
            "Epoch 86/100\n",
            "1/1 [==============================] - 0s 9ms/step - loss: 0.5889 - mae: 0.5889\n",
            "Epoch 87/100\n",
            "1/1 [==============================] - 0s 12ms/step - loss: 0.8002 - mae: 0.8002\n",
            "Epoch 88/100\n",
            "1/1 [==============================] - 0s 11ms/step - loss: 0.4544 - mae: 0.4544\n",
            "Epoch 89/100\n",
            "1/1 [==============================] - 0s 7ms/step - loss: 0.4802 - mae: 0.4802\n",
            "Epoch 90/100\n",
            "1/1 [==============================] - 0s 10ms/step - loss: 0.7137 - mae: 0.7137\n",
            "Epoch 91/100\n",
            "1/1 [==============================] - 0s 9ms/step - loss: 0.3575 - mae: 0.3575\n",
            "Epoch 92/100\n",
            "1/1 [==============================] - 0s 9ms/step - loss: 0.5111 - mae: 0.5111\n",
            "Epoch 93/100\n",
            "1/1 [==============================] - 0s 9ms/step - loss: 0.6642 - mae: 0.6642\n",
            "Epoch 94/100\n",
            "1/1 [==============================] - 0s 8ms/step - loss: 0.2849 - mae: 0.2849\n",
            "Epoch 95/100\n",
            "1/1 [==============================] - 0s 10ms/step - loss: 0.6244 - mae: 0.6244\n",
            "Epoch 96/100\n",
            "1/1 [==============================] - 0s 9ms/step - loss: 0.8792 - mae: 0.8792\n",
            "Epoch 97/100\n",
            "1/1 [==============================] - 0s 10ms/step - loss: 0.5695 - mae: 0.5695\n",
            "Epoch 98/100\n",
            "1/1 [==============================] - 0s 7ms/step - loss: 0.3502 - mae: 0.3502\n",
            "Epoch 99/100\n",
            "1/1 [==============================] - 0s 7ms/step - loss: 0.7170 - mae: 0.7170\n",
            "Epoch 100/100\n",
            "1/1 [==============================] - 0s 8ms/step - loss: 0.5874 - mae: 0.5874\n"
          ]
        },
        {
          "output_type": "execute_result",
          "data": {
            "text/plain": [
              "<keras.callbacks.History at 0x7f862b2d2890>"
            ]
          },
          "metadata": {},
          "execution_count": 16
        }
      ],
      "source": [
        "model=tf.keras.Sequential([\n",
        "    tf.keras.layers.Dense(100,activation=None),\n",
        "    tf.keras.layers.Dense(100,activation=None),\n",
        "    tf.keras.layers.Dense(1)\n",
        "    ])\n",
        "\n",
        "model.compile(loss=tf.keras.losses.mae,\n",
        "              optimizer=tf.keras.optimizers.Adam(lr=0.005),\n",
        "              metrics=[\"mae\"])\n",
        "model.fit(tf.expand_dims(X,axis=-1),y,epochs=100)"
      ]
    },
    {
      "cell_type": "code",
      "execution_count": null,
      "metadata": {
        "colab": {
          "base_uri": "https://localhost:8080/"
        },
        "id": "dPS2SdSTaEHC",
        "outputId": "bc0f3aca-ece5-4f1e-fe87-28e9132d4134"
      },
      "outputs": [
        {
          "output_type": "execute_result",
          "data": {
            "text/plain": [
              "(<tf.Tensor: shape=(7,), dtype=float32, numpy=array([-7., -4., -1.,  2.,  5.,  8., 11.], dtype=float32)>,\n",
              " <tf.Tensor: shape=(7,), dtype=float32, numpy=array([ 3.,  6.,  9., 12., 15., 18., 21.], dtype=float32)>)"
            ]
          },
          "metadata": {},
          "execution_count": 17
        }
      ],
      "source": [
        "X,y"
      ]
    },
    {
      "cell_type": "code",
      "execution_count": null,
      "metadata": {
        "colab": {
          "base_uri": "https://localhost:8080/"
        },
        "id": "s_5dxZ1PYGLL",
        "outputId": "5d1fe625-e75e-476c-8d02-83fa425c1698"
      },
      "outputs": [
        {
          "output_type": "execute_result",
          "data": {
            "text/plain": [
              "array([[27.098822]], dtype=float32)"
            ]
          },
          "metadata": {},
          "execution_count": 18
        }
      ],
      "source": [
        "model.predict([17.0])"
      ]
    },
    {
      "cell_type": "markdown",
      "metadata": {
        "id": "grHUXqh4Xq9l"
      },
      "source": [
        "#Build a model,fit it then evaluate it. tweak a model\n"
      ]
    },
    {
      "cell_type": "code",
      "execution_count": null,
      "metadata": {
        "colab": {
          "base_uri": "https://localhost:8080/"
        },
        "id": "05QVW3c_djhF",
        "outputId": "e9a8b91b-b928-4529-e75b-214b33b58fd6"
      },
      "outputs": [
        {
          "output_type": "execute_result",
          "data": {
            "text/plain": [
              "<tf.Tensor: shape=(50,), dtype=int32, numpy=\n",
              "array([-100,  -96,  -92,  -88,  -84,  -80,  -76,  -72,  -68,  -64,  -60,\n",
              "        -56,  -52,  -48,  -44,  -40,  -36,  -32,  -28,  -24,  -20,  -16,\n",
              "        -12,   -8,   -4,    0,    4,    8,   12,   16,   20,   24,   28,\n",
              "         32,   36,   40,   44,   48,   52,   56,   60,   64,   68,   72,\n",
              "         76,   80,   84,   88,   92,   96], dtype=int32)>"
            ]
          },
          "metadata": {},
          "execution_count": 19
        }
      ],
      "source": [
        "X=tf.range(-100,100,4)\n",
        "X"
      ]
    },
    {
      "cell_type": "code",
      "execution_count": null,
      "metadata": {
        "colab": {
          "base_uri": "https://localhost:8080/"
        },
        "id": "WAvZfEAUe5mL",
        "outputId": "14d60fc1-688a-45d1-98f4-d4189e7a9a17"
      },
      "outputs": [
        {
          "output_type": "execute_result",
          "data": {
            "text/plain": [
              "<tf.Tensor: shape=(50,), dtype=int32, numpy=\n",
              "array([-90, -86, -82, -78, -74, -70, -66, -62, -58, -54, -50, -46, -42,\n",
              "       -38, -34, -30, -26, -22, -18, -14, -10,  -6,  -2,   2,   6,  10,\n",
              "        14,  18,  22,  26,  30,  34,  38,  42,  46,  50,  54,  58,  62,\n",
              "        66,  70,  74,  78,  82,  86,  90,  94,  98, 102, 106], dtype=int32)>"
            ]
          },
          "metadata": {},
          "execution_count": 20
        }
      ],
      "source": [
        "y=X+10\n",
        "y\n"
      ]
    },
    {
      "cell_type": "code",
      "execution_count": null,
      "metadata": {
        "colab": {
          "base_uri": "https://localhost:8080/",
          "height": 282
        },
        "id": "x4S3lgKEe_68",
        "outputId": "d6c825a1-d30c-448f-8724-578e5181bcdf"
      },
      "outputs": [
        {
          "output_type": "execute_result",
          "data": {
            "text/plain": [
              "<matplotlib.collections.PathCollection at 0x7f862a9a8390>"
            ]
          },
          "metadata": {},
          "execution_count": 21
        },
        {
          "output_type": "display_data",
          "data": {
            "text/plain": [
              "<Figure size 432x288 with 1 Axes>"
            ],
            "image/png": "[encoded data removed]"
          },
          "metadata": {
            "needs_background": "light"
          }
        }
      ],
      "source": [
        "plt.scatter(X,y)"
      ]
    },
    {
      "cell_type": "code",
      "execution_count": null,
      "metadata": {
        "id": "-g3FR_mGfHod"
      },
      "outputs": [],
      "source": [
        "from sklearn.model_selection import train_test_split"
      ]
    },
    {
      "cell_type": "code",
      "source": [
        "X,y"
      ],
      "metadata": {
        "colab": {
          "base_uri": "https://localhost:8080/"
        },
        "id": "z47Lby8s8YHi",
        "outputId": "da2c5a4c-a59c-4bef-f4bb-e35bbf9bb44b"
      },
      "execution_count": null,
      "outputs": [
        {
          "output_type": "execute_result",
          "data": {
            "text/plain": [
              "(<tf.Tensor: shape=(50,), dtype=int32, numpy=\n",
              " array([-100,  -96,  -92,  -88,  -84,  -80,  -76,  -72,  -68,  -64,  -60,\n",
              "         -56,  -52,  -48,  -44,  -40,  -36,  -32,  -28,  -24,  -20,  -16,\n",
              "         -12,   -8,   -4,    0,    4,    8,   12,   16,   20,   24,   28,\n",
              "          32,   36,   40,   44,   48,   52,   56,   60,   64,   68,   72,\n",
              "          76,   80,   84,   88,   92,   96], dtype=int32)>,\n",
              " <tf.Tensor: shape=(50,), dtype=int32, numpy=\n",
              " array([-90, -86, -82, -78, -74, -70, -66, -62, -58, -54, -50, -46, -42,\n",
              "        -38, -34, -30, -26, -22, -18, -14, -10,  -6,  -2,   2,   6,  10,\n",
              "         14,  18,  22,  26,  30,  34,  38,  42,  46,  50,  54,  58,  62,\n",
              "         66,  70,  74,  78,  82,  86,  90,  94,  98, 102, 106], dtype=int32)>)"
            ]
          },
          "metadata": {},
          "execution_count": 23
        }
      ]
    },
    {
      "cell_type": "code",
      "source": [
        "X.ndim"
      ],
      "metadata": {
        "colab": {
          "base_uri": "https://localhost:8080/"
        },
        "id": "CE3CmNnh-_gC",
        "outputId": "89e9e7f9-dc78-42ea-deff-7b34d0cb46fb"
      },
      "execution_count": null,
      "outputs": [
        {
          "output_type": "execute_result",
          "data": {
            "text/plain": [
              "1"
            ]
          },
          "metadata": {},
          "execution_count": 24
        }
      ]
    },
    {
      "cell_type": "code",
      "source": [
        "tf.shape(X)"
      ],
      "metadata": {
        "colab": {
          "base_uri": "https://localhost:8080/"
        },
        "id": "vEpu20Hk9aA0",
        "outputId": "9f69ceb6-1716-4597-d705-f24bb6662c3e"
      },
      "execution_count": null,
      "outputs": [
        {
          "output_type": "execute_result",
          "data": {
            "text/plain": [
              "<tf.Tensor: shape=(1,), dtype=int32, numpy=array([50], dtype=int32)>"
            ]
          },
          "metadata": {},
          "execution_count": 25
        }
      ]
    },
    {
      "cell_type": "code",
      "execution_count": null,
      "metadata": {
        "id": "j_JHsbGAmzp7"
      },
      "outputs": [],
      "source": [
        "X_train=X[:40]\n",
        "y_train=y[:40]\n",
        "\n",
        "X_test=X[40:]\n",
        "y_test=y[40:]"
      ]
    },
    {
      "cell_type": "code",
      "source": [
        "tf.shape(X_train)"
      ],
      "metadata": {
        "colab": {
          "base_uri": "https://localhost:8080/"
        },
        "id": "TGr7JZrJ9qlR",
        "outputId": "2b74905b-7f2e-4aae-f693-d2cc1919b5dc"
      },
      "execution_count": null,
      "outputs": [
        {
          "output_type": "execute_result",
          "data": {
            "text/plain": [
              "<tf.Tensor: shape=(1,), dtype=int32, numpy=array([40], dtype=int32)>"
            ]
          },
          "metadata": {},
          "execution_count": 27
        }
      ]
    },
    {
      "cell_type": "code",
      "execution_count": null,
      "metadata": {
        "colab": {
          "base_uri": "https://localhost:8080/"
        },
        "id": "q3e0zzVimJQ9",
        "outputId": "c2e393b6-2043-414a-aba2-701ac2e7e8c9"
      },
      "outputs": [
        {
          "output_type": "execute_result",
          "data": {
            "text/plain": [
              "(40, 10, 40, 10)"
            ]
          },
          "metadata": {},
          "execution_count": 28
        }
      ],
      "source": [
        "len(X_train) ,len(X_test), len(y_train), len(y_test)"
      ]
    },
    {
      "cell_type": "code",
      "execution_count": null,
      "metadata": {
        "id": "M-B9g0YrgBFO"
      },
      "outputs": [],
      "source": [
        "X_train=X[:40]"
      ]
    },
    {
      "cell_type": "code",
      "source": [
        "plt.figure()\n",
        "plt.scatter(X_train,y_train,c=\"b\",label=\"Training Data\")\n",
        "plt.scatter(X_test,y_test,c=\"g\",label=\"Test Data\")\n",
        "plt.legend()"
      ],
      "metadata": {
        "colab": {
          "base_uri": "https://localhost:8080/",
          "height": 282
        },
        "id": "XQ5vAc8FKwMt",
        "outputId": "9df0bfd8-7346-4f94-f02c-b495f8e1be62"
      },
      "execution_count": null,
      "outputs": [
        {
          "output_type": "execute_result",
          "data": {
            "text/plain": [
              "<matplotlib.legend.Legend at 0x7f8628e1e990>"
            ]
          },
          "metadata": {},
          "execution_count": 30
        },
        {
          "output_type": "display_data",
          "data": {
            "text/plain": [
              "<Figure size 432x288 with 1 Axes>"
            ],
            "image/png": "[encoded data removed]"
          },
          "metadata": {
            "needs_background": "light"
          }
        }
      ]
    },
    {
      "cell_type": "code",
      "source": [],
      "metadata": {
        "id": "ncKn5SFv7DPR"
      },
      "execution_count": null,
      "outputs": []
    },
    {
      "cell_type": "code",
      "source": [
        "tf.random.set_seed(42)\n",
        "\n",
        "model=tf.keras.Sequential([\n",
        "    tf.keras.layers.Dense(1,input_shape=[1],name=\"input_layer\"),#first layer\n",
        "    tf.keras.layers.Dense(100,input_shape=[1],name=\"hidden_layer1\"),#first hidden layer\n",
        "    tf.keras.layers.Dense(100,input_shape=[1],name=\"hidden_layer2\"),#second hidden layer\n",
        "    tf.keras.layers.Dense(1,input_shape=[1],name=\"output_layer\")#output layer\n",
        "],name=\"Model_1\")\n",
        "\n",
        "model.compile(loss=tf.keras.losses.mae,\n",
        "              optimizer=tf.keras.optimizers.Adam(learning_rate=0.005),\n",
        "              metrics=[\"mae\"])\n",
        "\n",
        "#model.fit(X_train,y_train,epochs=100)"
      ],
      "metadata": {
        "id": "eRuGapLTLxqE"
      },
      "execution_count": null,
      "outputs": []
    },
    {
      "cell_type": "code",
      "source": [
        "model.fit(X_train,y_train,epochs=100,verbose=1)"
      ],
      "metadata": {
        "colab": {
          "base_uri": "https://localhost:8080/"
        },
        "id": "rJOXcUWsqIBJ",
        "outputId": "cbe6895b-a832-426b-b8fd-edcc19dfb57d"
      },
      "execution_count": null,
      "outputs": [
        {
          "output_type": "stream",
          "name": "stdout",
          "text": [
            "Epoch 1/100\n",
            "2/2 [==============================] - 0s 9ms/step - loss: 41.5354 - mae: 41.5354\n",
            "Epoch 2/100\n",
            "2/2 [==============================] - 0s 7ms/step - loss: 11.8226 - mae: 11.8226\n",
            "Epoch 3/100\n",
            "2/2 [==============================] - 0s 6ms/step - loss: 20.5646 - mae: 20.5646\n",
            "Epoch 4/100\n",
            "2/2 [==============================] - 0s 6ms/step - loss: 13.6129 - mae: 13.6129\n",
            "Epoch 5/100\n",
            "2/2 [==============================] - 0s 7ms/step - loss: 7.7157 - mae: 7.7157\n",
            "Epoch 6/100\n",
            "2/2 [==============================] - 0s 6ms/step - loss: 11.1415 - mae: 11.1415\n",
            "Epoch 7/100\n",
            "2/2 [==============================] - 0s 6ms/step - loss: 8.8635 - mae: 8.8635\n",
            "Epoch 8/100\n",
            "2/2 [==============================] - 0s 6ms/step - loss: 8.1518 - mae: 8.1518\n",
            "Epoch 9/100\n",
            "2/2 [==============================] - 0s 6ms/step - loss: 8.0501 - mae: 8.0501\n",
            "Epoch 10/100\n",
            "2/2 [==============================] - 0s 8ms/step - loss: 6.6231 - mae: 6.6231\n",
            "Epoch 11/100\n",
            "2/2 [==============================] - 0s 6ms/step - loss: 6.8742 - mae: 6.8742\n",
            "Epoch 12/100\n",
            "2/2 [==============================] - 0s 7ms/step - loss: 6.1307 - mae: 6.1307\n",
            "Epoch 13/100\n",
            "2/2 [==============================] - 0s 6ms/step - loss: 6.2335 - mae: 6.2335\n",
            "Epoch 14/100\n",
            "2/2 [==============================] - 0s 8ms/step - loss: 6.1586 - mae: 6.1586\n",
            "Epoch 15/100\n",
            "2/2 [==============================] - 0s 6ms/step - loss: 6.2267 - mae: 6.2267\n",
            "Epoch 16/100\n",
            "2/2 [==============================] - 0s 6ms/step - loss: 5.3488 - mae: 5.3488\n",
            "Epoch 17/100\n",
            "2/2 [==============================] - 0s 7ms/step - loss: 5.2508 - mae: 5.2508\n",
            "Epoch 18/100\n",
            "2/2 [==============================] - 0s 7ms/step - loss: 4.8999 - mae: 4.8999\n",
            "Epoch 19/100\n",
            "2/2 [==============================] - 0s 7ms/step - loss: 4.3008 - mae: 4.3008\n",
            "Epoch 20/100\n",
            "2/2 [==============================] - 0s 6ms/step - loss: 3.9838 - mae: 3.9838\n",
            "Epoch 21/100\n",
            "2/2 [==============================] - 0s 6ms/step - loss: 3.6792 - mae: 3.6792\n",
            "Epoch 22/100\n",
            "2/2 [==============================] - 0s 7ms/step - loss: 3.5616 - mae: 3.5616\n",
            "Epoch 23/100\n",
            "2/2 [==============================] - 0s 7ms/step - loss: 3.0109 - mae: 3.0109\n",
            "Epoch 24/100\n",
            "2/2 [==============================] - 0s 6ms/step - loss: 2.5710 - mae: 2.5710\n",
            "Epoch 25/100\n",
            "2/2 [==============================] - 0s 7ms/step - loss: 2.0478 - mae: 2.0478\n",
            "Epoch 26/100\n",
            "2/2 [==============================] - 0s 7ms/step - loss: 2.0406 - mae: 2.0406\n",
            "Epoch 27/100\n",
            "2/2 [==============================] - 0s 6ms/step - loss: 1.7347 - mae: 1.7347\n",
            "Epoch 28/100\n",
            "2/2 [==============================] - 0s 6ms/step - loss: 1.0377 - mae: 1.0377\n",
            "Epoch 29/100\n",
            "2/2 [==============================] - 0s 8ms/step - loss: 4.1715 - mae: 4.1715\n",
            "Epoch 30/100\n",
            "2/2 [==============================] - 0s 6ms/step - loss: 1.6950 - mae: 1.6950\n",
            "Epoch 31/100\n",
            "2/2 [==============================] - 0s 7ms/step - loss: 1.9312 - mae: 1.9312\n",
            "Epoch 32/100\n",
            "2/2 [==============================] - 0s 6ms/step - loss: 2.9282 - mae: 2.9282\n",
            "Epoch 33/100\n",
            "2/2 [==============================] - 0s 7ms/step - loss: 1.2699 - mae: 1.2699\n",
            "Epoch 34/100\n",
            "2/2 [==============================] - 0s 11ms/step - loss: 1.0823 - mae: 1.0823\n",
            "Epoch 35/100\n",
            "2/2 [==============================] - 0s 6ms/step - loss: 2.4277 - mae: 2.4277\n",
            "Epoch 36/100\n",
            "2/2 [==============================] - 0s 6ms/step - loss: 1.4378 - mae: 1.4378\n",
            "Epoch 37/100\n",
            "2/2 [==============================] - 0s 7ms/step - loss: 1.0918 - mae: 1.0918\n",
            "Epoch 38/100\n",
            "2/2 [==============================] - 0s 6ms/step - loss: 2.0984 - mae: 2.0984\n",
            "Epoch 39/100\n",
            "2/2 [==============================] - 0s 7ms/step - loss: 1.6635 - mae: 1.6635\n",
            "Epoch 40/100\n",
            "2/2 [==============================] - 0s 7ms/step - loss: 1.2415 - mae: 1.2415\n",
            "Epoch 41/100\n",
            "2/2 [==============================] - 0s 7ms/step - loss: 2.0068 - mae: 2.0068\n",
            "Epoch 42/100\n",
            "2/2 [==============================] - 0s 6ms/step - loss: 1.1960 - mae: 1.1960\n",
            "Epoch 43/100\n",
            "2/2 [==============================] - 0s 7ms/step - loss: 0.7919 - mae: 0.7919\n",
            "Epoch 44/100\n",
            "2/2 [==============================] - 0s 7ms/step - loss: 0.9208 - mae: 0.9208\n",
            "Epoch 45/100\n",
            "2/2 [==============================] - 0s 6ms/step - loss: 1.2101 - mae: 1.2101\n",
            "Epoch 46/100\n",
            "2/2 [==============================] - 0s 6ms/step - loss: 1.7663 - mae: 1.7663\n",
            "Epoch 47/100\n",
            "2/2 [==============================] - 0s 7ms/step - loss: 0.9509 - mae: 0.9509\n",
            "Epoch 48/100\n",
            "2/2 [==============================] - 0s 7ms/step - loss: 2.2764 - mae: 2.2764\n",
            "Epoch 49/100\n",
            "2/2 [==============================] - 0s 6ms/step - loss: 1.0189 - mae: 1.0189\n",
            "Epoch 50/100\n",
            "2/2 [==============================] - 0s 6ms/step - loss: 0.8037 - mae: 0.8037\n",
            "Epoch 51/100\n",
            "2/2 [==============================] - 0s 6ms/step - loss: 1.9270 - mae: 1.9270\n",
            "Epoch 52/100\n",
            "2/2 [==============================] - 0s 6ms/step - loss: 1.9080 - mae: 1.9080\n",
            "Epoch 53/100\n",
            "2/2 [==============================] - 0s 6ms/step - loss: 1.8054 - mae: 1.8054\n",
            "Epoch 54/100\n",
            "2/2 [==============================] - 0s 6ms/step - loss: 3.6672 - mae: 3.6672\n",
            "Epoch 55/100\n",
            "2/2 [==============================] - 0s 7ms/step - loss: 4.3137 - mae: 4.3137\n",
            "Epoch 56/100\n",
            "2/2 [==============================] - 0s 7ms/step - loss: 1.0386 - mae: 1.0386\n",
            "Epoch 57/100\n",
            "2/2 [==============================] - 0s 7ms/step - loss: 2.8464 - mae: 2.8464\n",
            "Epoch 58/100\n",
            "2/2 [==============================] - 0s 6ms/step - loss: 0.6971 - mae: 0.6971\n",
            "Epoch 59/100\n",
            "2/2 [==============================] - 0s 7ms/step - loss: 1.3553 - mae: 1.3553\n",
            "Epoch 60/100\n",
            "2/2 [==============================] - 0s 7ms/step - loss: 1.4824 - mae: 1.4824\n",
            "Epoch 61/100\n",
            "2/2 [==============================] - 0s 7ms/step - loss: 0.8314 - mae: 0.8314\n",
            "Epoch 62/100\n",
            "2/2 [==============================] - 0s 7ms/step - loss: 2.2762 - mae: 2.2762\n",
            "Epoch 63/100\n",
            "2/2 [==============================] - 0s 8ms/step - loss: 0.8801 - mae: 0.8801\n",
            "Epoch 64/100\n",
            "2/2 [==============================] - 0s 7ms/step - loss: 0.9114 - mae: 0.9114\n",
            "Epoch 65/100\n",
            "2/2 [==============================] - 0s 7ms/step - loss: 0.9005 - mae: 0.9005\n",
            "Epoch 66/100\n",
            "2/2 [==============================] - 0s 10ms/step - loss: 0.3905 - mae: 0.3905\n",
            "Epoch 67/100\n",
            "2/2 [==============================] - 0s 6ms/step - loss: 0.7538 - mae: 0.7538\n",
            "Epoch 68/100\n",
            "2/2 [==============================] - 0s 7ms/step - loss: 1.0874 - mae: 1.0874\n",
            "Epoch 69/100\n",
            "2/2 [==============================] - 0s 7ms/step - loss: 1.4284 - mae: 1.4284\n",
            "Epoch 70/100\n",
            "2/2 [==============================] - 0s 7ms/step - loss: 0.8711 - mae: 0.8711\n",
            "Epoch 71/100\n",
            "2/2 [==============================] - 0s 7ms/step - loss: 1.2579 - mae: 1.2579\n",
            "Epoch 72/100\n",
            "2/2 [==============================] - 0s 7ms/step - loss: 1.9277 - mae: 1.9277\n",
            "Epoch 73/100\n",
            "2/2 [==============================] - 0s 7ms/step - loss: 1.2865 - mae: 1.2865\n",
            "Epoch 74/100\n",
            "2/2 [==============================] - 0s 6ms/step - loss: 0.2529 - mae: 0.2529\n",
            "Epoch 75/100\n",
            "2/2 [==============================] - 0s 6ms/step - loss: 0.7627 - mae: 0.7627\n",
            "Epoch 76/100\n",
            "2/2 [==============================] - 0s 7ms/step - loss: 0.5501 - mae: 0.5501\n",
            "Epoch 77/100\n",
            "2/2 [==============================] - 0s 6ms/step - loss: 0.7145 - mae: 0.7145\n",
            "Epoch 78/100\n",
            "2/2 [==============================] - 0s 7ms/step - loss: 0.6905 - mae: 0.6905\n",
            "Epoch 79/100\n",
            "2/2 [==============================] - 0s 6ms/step - loss: 0.4088 - mae: 0.4088\n",
            "Epoch 80/100\n",
            "2/2 [==============================] - 0s 6ms/step - loss: 0.5808 - mae: 0.5808\n",
            "Epoch 81/100\n",
            "2/2 [==============================] - 0s 7ms/step - loss: 1.8496 - mae: 1.8496\n",
            "Epoch 82/100\n",
            "2/2 [==============================] - 0s 7ms/step - loss: 0.5144 - mae: 0.5144\n",
            "Epoch 83/100\n",
            "2/2 [==============================] - 0s 7ms/step - loss: 0.4291 - mae: 0.4291\n",
            "Epoch 84/100\n",
            "2/2 [==============================] - 0s 8ms/step - loss: 0.3212 - mae: 0.3212\n",
            "Epoch 85/100\n",
            "2/2 [==============================] - 0s 7ms/step - loss: 0.5054 - mae: 0.5054\n",
            "Epoch 86/100\n",
            "2/2 [==============================] - 0s 6ms/step - loss: 1.0637 - mae: 1.0637\n",
            "Epoch 87/100\n",
            "2/2 [==============================] - 0s 9ms/step - loss: 0.3233 - mae: 0.3233\n",
            "Epoch 88/100\n",
            "2/2 [==============================] - 0s 7ms/step - loss: 0.8957 - mae: 0.8957\n",
            "Epoch 89/100\n",
            "2/2 [==============================] - 0s 6ms/step - loss: 0.5148 - mae: 0.5148\n",
            "Epoch 90/100\n",
            "2/2 [==============================] - 0s 6ms/step - loss: 0.7924 - mae: 0.7924\n",
            "Epoch 91/100\n",
            "2/2 [==============================] - 0s 7ms/step - loss: 0.5267 - mae: 0.5267\n",
            "Epoch 92/100\n",
            "2/2 [==============================] - 0s 7ms/step - loss: 0.9061 - mae: 0.9061\n",
            "Epoch 93/100\n",
            "2/2 [==============================] - 0s 7ms/step - loss: 0.1736 - mae: 0.1736\n",
            "Epoch 94/100\n",
            "2/2 [==============================] - 0s 7ms/step - loss: 0.7436 - mae: 0.7436\n",
            "Epoch 95/100\n",
            "2/2 [==============================] - 0s 7ms/step - loss: 1.0620 - mae: 1.0620\n",
            "Epoch 96/100\n",
            "2/2 [==============================] - 0s 11ms/step - loss: 0.5200 - mae: 0.5200\n",
            "Epoch 97/100\n",
            "2/2 [==============================] - 0s 8ms/step - loss: 1.1932 - mae: 1.1932\n",
            "Epoch 98/100\n",
            "2/2 [==============================] - 0s 8ms/step - loss: 1.1917 - mae: 1.1917\n",
            "Epoch 99/100\n",
            "2/2 [==============================] - 0s 7ms/step - loss: 0.2052 - mae: 0.2052\n",
            "Epoch 100/100\n",
            "2/2 [==============================] - 0s 6ms/step - loss: 1.0017 - mae: 1.0017\n"
          ]
        },
        {
          "output_type": "execute_result",
          "data": {
            "text/plain": [
              "<keras.callbacks.History at 0x7f862b29c2d0>"
            ]
          },
          "metadata": {},
          "execution_count": 32
        }
      ]
    },
    {
      "cell_type": "code",
      "source": [
        "#Create a model that builds automatically"
      ],
      "metadata": {
        "id": "QsU46ssSMpab"
      },
      "execution_count": null,
      "outputs": []
    },
    {
      "cell_type": "code",
      "source": [
        "model.summary()"
      ],
      "metadata": {
        "colab": {
          "base_uri": "https://localhost:8080/"
        },
        "id": "KEUSvQvWMZwM",
        "outputId": "9e816d89-64d7-4f2f-9bd2-7405d20c828d"
      },
      "execution_count": null,
      "outputs": [
        {
          "output_type": "stream",
          "name": "stdout",
          "text": [
            "Model: \"Model_1\"\n",
            "_________________________________________________________________\n",
            " Layer (type)                Output Shape              Param #   \n",
            "=================================================================\n",
            " input_layer (Dense)         (None, 1)                 2         \n",
            "                                                                 \n",
            " hidden_layer1 (Dense)       (None, 100)               200       \n",
            "                                                                 \n",
            " hidden_layer2 (Dense)       (None, 100)               10100     \n",
            "                                                                 \n",
            " output_layer (Dense)        (None, 1)                 101       \n",
            "                                                                 \n",
            "=================================================================\n",
            "Total params: 10,403\n",
            "Trainable params: 10,403\n",
            "Non-trainable params: 0\n",
            "_________________________________________________________________\n"
          ]
        }
      ]
    },
    {
      "cell_type": "code",
      "source": [
        "model.predict([-90])"
      ],
      "metadata": {
        "colab": {
          "base_uri": "https://localhost:8080/"
        },
        "id": "u1hfJLoBtktv",
        "outputId": "2a65d715-4f44-45fb-e416-f0cfed879678"
      },
      "execution_count": null,
      "outputs": [
        {
          "output_type": "execute_result",
          "data": {
            "text/plain": [
              "array([[-79.4934]], dtype=float32)"
            ]
          },
          "metadata": {},
          "execution_count": 35
        }
      ]
    },
    {
      "cell_type": "code",
      "source": [
        "#Try changing the number of hidden units in the dense layer"
      ],
      "metadata": {
        "id": "d6YMSJTro0Qk"
      },
      "execution_count": null,
      "outputs": []
    },
    {
      "cell_type": "code",
      "source": [
        "X,y"
      ],
      "metadata": {
        "colab": {
          "base_uri": "https://localhost:8080/"
        },
        "id": "O2_BV94gvB5w",
        "outputId": "4dcfe77a-322d-4ff8-b4e8-e3344a7d0e8a"
      },
      "execution_count": null,
      "outputs": [
        {
          "output_type": "execute_result",
          "data": {
            "text/plain": [
              "(<tf.Tensor: shape=(50,), dtype=int32, numpy=\n",
              " array([-100,  -96,  -92,  -88,  -84,  -80,  -76,  -72,  -68,  -64,  -60,\n",
              "         -56,  -52,  -48,  -44,  -40,  -36,  -32,  -28,  -24,  -20,  -16,\n",
              "         -12,   -8,   -4,    0,    4,    8,   12,   16,   20,   24,   28,\n",
              "          32,   36,   40,   44,   48,   52,   56,   60,   64,   68,   72,\n",
              "          76,   80,   84,   88,   92,   96], dtype=int32)>,\n",
              " <tf.Tensor: shape=(50,), dtype=int32, numpy=\n",
              " array([-90, -86, -82, -78, -74, -70, -66, -62, -58, -54, -50, -46, -42,\n",
              "        -38, -34, -30, -26, -22, -18, -14, -10,  -6,  -2,   2,   6,  10,\n",
              "         14,  18,  22,  26,  30,  34,  38,  42,  46,  50,  54,  58,  62,\n",
              "         66,  70,  74,  78,  82,  86,  90,  94,  98, 102, 106], dtype=int32)>)"
            ]
          },
          "metadata": {},
          "execution_count": 37
        }
      ]
    },
    {
      "cell_type": "code",
      "source": [
        "from tensorflow.keras.utils import plot_model"
      ],
      "metadata": {
        "id": "Irydsigsq8ij"
      },
      "execution_count": null,
      "outputs": []
    },
    {
      "cell_type": "code",
      "source": [
        "plot_model(model=model,show_shapes=True)"
      ],
      "metadata": {
        "colab": {
          "base_uri": "https://localhost:8080/",
          "height": 533
        },
        "id": "3YnDesgfrVde",
        "outputId": "c1370091-0847-4bed-edf1-cbe6a12894ed"
      },
      "execution_count": null,
      "outputs": [
        {
          "output_type": "execute_result",
          "data": {
            "image/png": "[encoded data removed]",
            "text/plain": [
              "<IPython.core.display.Image object>"
            ]
          },
          "metadata": {},
          "execution_count": 39
        }
      ]
    },
    {
      "cell_type": "code",
      "source": [],
      "metadata": {
        "id": "-pbMPLAc_sGB"
      },
      "execution_count": null,
      "outputs": []
    },
    {
      "cell_type": "code",
      "source": [
        "y_pred=model.predict(X_test)\n",
        "y_pred"
      ],
      "metadata": {
        "colab": {
          "base_uri": "https://localhost:8080/"
        },
        "id": "EExhcLSOroIv",
        "outputId": "e70f96ec-72ab-4ffd-b73a-03a8059a4f74"
      },
      "execution_count": null,
      "outputs": [
        {
          "output_type": "execute_result",
          "data": {
            "text/plain": [
              "array([[ 69.190636],\n",
              "       [ 73.15554 ],\n",
              "       [ 77.12045 ],\n",
              "       [ 81.08536 ],\n",
              "       [ 85.05027 ],\n",
              "       [ 89.01517 ],\n",
              "       [ 92.98008 ],\n",
              "       [ 96.94498 ],\n",
              "       [100.9099  ],\n",
              "       [104.8748  ]], dtype=float32)"
            ]
          },
          "metadata": {},
          "execution_count": 40
        }
      ]
    },
    {
      "cell_type": "code",
      "source": [
        "y_test"
      ],
      "metadata": {
        "colab": {
          "base_uri": "https://localhost:8080/"
        },
        "id": "W5tc5T9Jxcd_",
        "outputId": "33fd2d4c-43c9-448f-fe1b-970eb8b14715"
      },
      "execution_count": null,
      "outputs": [
        {
          "output_type": "execute_result",
          "data": {
            "text/plain": [
              "<tf.Tensor: shape=(10,), dtype=int32, numpy=array([ 70,  74,  78,  82,  86,  90,  94,  98, 102, 106], dtype=int32)>"
            ]
          },
          "metadata": {},
          "execution_count": 41
        }
      ]
    },
    {
      "cell_type": "code",
      "source": [
        "#Creating a plotting function\n",
        "def plot_preds(train_data=X_train,\n",
        "               train_labels=y_train,\n",
        "               test_data=X_test,\n",
        "               test_labels=y_test,predictions=y_pred):\n",
        "  \"\"\"\n",
        "  Plots training data,test data and compared predictions to the ground truth\n",
        "  \"\"\"\n",
        "  plt.figure(figsize=(10,10))\n",
        "  plt.scatter(train_data,train_labels,c=\"b\",label=\"Training Data\")\n",
        "  plt.scatter(test_data,test_labels,c=\"g\",label=\"Test Data\")\n",
        "  plt.scatter(test_data,predictions,c=\"r\",label=\"Predictions\")\n",
        "  plt.legend()\n"
      ],
      "metadata": {
        "id": "JsR2N16Xxiza"
      },
      "execution_count": null,
      "outputs": []
    },
    {
      "cell_type": "code",
      "source": [
        "plot_preds()"
      ],
      "metadata": {
        "colab": {
          "base_uri": "https://localhost:8080/",
          "height": 592
        },
        "id": "yw_oxXE8yvuH",
        "outputId": "3e2ae893-13c4-410b-809f-14189a2c66e0"
      },
      "execution_count": null,
      "outputs": [
        {
          "output_type": "display_data",
          "data": {
            "text/plain": [
              "<Figure size 720x720 with 1 Axes>"
            ],
            "image/png": "[encoded data removed]"
          },
          "metadata": {
            "needs_background": "light"
          }
        }
      ]
    },
    {
      "cell_type": "code",
      "source": [
        "model.evaluate(X_test,y_test)#Net mae of the model on our test data"
      ],
      "metadata": {
        "colab": {
          "base_uri": "https://localhost:8080/"
        },
        "id": "HYIImhfY_uYk",
        "outputId": "cc560717-7128-4a38-a06e-4448ef3396b2"
      },
      "execution_count": null,
      "outputs": [
        {
          "output_type": "stream",
          "name": "stdout",
          "text": [
            "1/1 [==============================] - 0s 128ms/step - loss: 0.9673 - mae: 0.9673\n"
          ]
        },
        {
          "output_type": "execute_result",
          "data": {
            "text/plain": [
              "[0.9672821164131165, 0.9672821164131165]"
            ]
          },
          "metadata": {},
          "execution_count": 44
        }
      ]
    },
    {
      "cell_type": "code",
      "source": [
        "tf.keras.losses"
      ],
      "metadata": {
        "id": "8BH_JDIORgDp",
        "colab": {
          "base_uri": "https://localhost:8080/"
        },
        "outputId": "a6dc21d6-3104-44d3-de8e-22b9602b4f2f"
      },
      "execution_count": null,
      "outputs": [
        {
          "output_type": "execute_result",
          "data": {
            "text/plain": [
              "<module 'keras.api._v2.keras.losses' from '/usr/local/lib/python3.7/dist-packages/keras/api/_v2/keras/losses/__init__.py'>"
            ]
          },
          "metadata": {},
          "execution_count": 45
        }
      ]
    },
    {
      "cell_type": "code",
      "source": [
        "y_pred#predicted value from our model"
      ],
      "metadata": {
        "colab": {
          "base_uri": "https://localhost:8080/"
        },
        "id": "YWrVO3kBR82H",
        "outputId": "4028f0d4-dd0e-4d0e-a5e3-c6a0f10c125f"
      },
      "execution_count": null,
      "outputs": [
        {
          "output_type": "execute_result",
          "data": {
            "text/plain": [
              "array([[ 69.190636],\n",
              "       [ 73.15554 ],\n",
              "       [ 77.12045 ],\n",
              "       [ 81.08536 ],\n",
              "       [ 85.05027 ],\n",
              "       [ 89.01517 ],\n",
              "       [ 92.98008 ],\n",
              "       [ 96.94498 ],\n",
              "       [100.9099  ],\n",
              "       [104.8748  ]], dtype=float32)"
            ]
          },
          "metadata": {},
          "execution_count": 46
        }
      ]
    },
    {
      "cell_type": "code",
      "source": [
        "y_pred=tf.squeeze(y_pred)"
      ],
      "metadata": {
        "id": "HWeoMSyLaF57"
      },
      "execution_count": null,
      "outputs": []
    },
    {
      "cell_type": "code",
      "source": [
        "y_test#expected ground truth value"
      ],
      "metadata": {
        "colab": {
          "base_uri": "https://localhost:8080/"
        },
        "id": "WlbwB57eR-HZ",
        "outputId": "cf29b2a3-b93f-4c82-f898-1b1529eb3880"
      },
      "execution_count": null,
      "outputs": [
        {
          "output_type": "execute_result",
          "data": {
            "text/plain": [
              "<tf.Tensor: shape=(10,), dtype=int32, numpy=array([ 70,  74,  78,  82,  86,  90,  94,  98, 102, 106], dtype=int32)>"
            ]
          },
          "metadata": {},
          "execution_count": 48
        }
      ]
    },
    {
      "cell_type": "code",
      "source": [
        "tf.keras.losses.mean_absolute_error(y_pred=tf.squeeze(y_pred),y_true=y_test)#MAE"
      ],
      "metadata": {
        "colab": {
          "base_uri": "https://localhost:8080/"
        },
        "id": "GflQ6j-tUhqc",
        "outputId": "40b93c42-ff04-48b3-9f2f-9d1d4cab7ac8"
      },
      "execution_count": null,
      "outputs": [
        {
          "output_type": "execute_result",
          "data": {
            "text/plain": [
              "<tf.Tensor: shape=(), dtype=float32, numpy=0.9672821>"
            ]
          },
          "metadata": {},
          "execution_count": 49
        }
      ]
    },
    {
      "cell_type": "code",
      "source": [
        "tf.keras.losses.MSE(y_pred=tf.squeeze(y_pred),y_true=y_test)#MSE"
      ],
      "metadata": {
        "colab": {
          "base_uri": "https://localhost:8080/"
        },
        "id": "QpAcmrm6Upnt",
        "outputId": "bac2dd82-c223-413e-8229-5b427b692cb2"
      },
      "execution_count": null,
      "outputs": [
        {
          "output_type": "execute_result",
          "data": {
            "text/plain": [
              "<tf.Tensor: shape=(), dtype=float32, numpy=0.9457947>"
            ]
          },
          "metadata": {},
          "execution_count": 50
        }
      ]
    },
    {
      "cell_type": "code",
      "source": [
        "tf.metrics.mean_squared_error(y_pred=tf.squeeze(y_pred),y_true=y_test)#MSE\n"
      ],
      "metadata": {
        "colab": {
          "base_uri": "https://localhost:8080/"
        },
        "id": "31rt94vtbk9U",
        "outputId": "f59a2152-c2fb-405b-f9ac-2f5986e6fae4"
      },
      "execution_count": null,
      "outputs": [
        {
          "output_type": "execute_result",
          "data": {
            "text/plain": [
              "<tf.Tensor: shape=(), dtype=float32, numpy=0.9457947>"
            ]
          },
          "metadata": {},
          "execution_count": 51
        }
      ]
    },
    {
      "cell_type": "code",
      "source": [
        "def mse(y_true,y_pred):\n",
        "  return(tf.keras.losses.MSE(y_true=y_true,y_pred=tf.squeeze(y_pred)))\n",
        "\n",
        "def mae(y_true,y_pred):\n",
        "  return(tf.keras.losses.MAE(y_true=y_true,y_pred=tf.squeeze(y_pred)))"
      ],
      "metadata": {
        "id": "sDt7-PjLajaa"
      },
      "execution_count": null,
      "outputs": []
    },
    {
      "cell_type": "code",
      "source": [
        "print(mae(y_test,y_pred))\n",
        "print(mse(y_test,y_pred))"
      ],
      "metadata": {
        "colab": {
          "base_uri": "https://localhost:8080/"
        },
        "id": "fWgp9lyYbT19",
        "outputId": "9da1fdc5-118a-4928-c8ff-618b80c54fa8"
      },
      "execution_count": null,
      "outputs": [
        {
          "output_type": "stream",
          "name": "stdout",
          "text": [
            "tf.Tensor(0.9672821, shape=(), dtype=float32)\n",
            "tf.Tensor(0.9457947, shape=(), dtype=float32)\n"
          ]
        }
      ]
    },
    {
      "cell_type": "code",
      "source": [
        "tf.random.set_seed(42)\n",
        "\n",
        "model_1=tf.keras.Sequential([\n",
        "    tf.keras.layers.Dense(10,input_shape=[1]),\n",
        "    tf.keras.layers.Dense(1)],name=\"model_1\")\n",
        "\n",
        "model_1.compile(loss=tf.keras.losses.mae,optimizer=tf.keras.optimizers.SGD(\n",
        "    learning_rate=0.01\n",
        "),\n",
        "              metrics=[\"mae\"])"
      ],
      "metadata": {
        "id": "-kOaVU9gb2Q_"
      },
      "execution_count": null,
      "outputs": []
    },
    {
      "cell_type": "code",
      "source": [
        "model_1.fit(X_train,y_train,epochs=100,verbose=0)"
      ],
      "metadata": {
        "colab": {
          "base_uri": "https://localhost:8080/"
        },
        "id": "TgRh-KAkfH7g",
        "outputId": "a131f14c-8d41-4e92-9dc3-089a4a3669e7"
      },
      "execution_count": null,
      "outputs": [
        {
          "output_type": "execute_result",
          "data": {
            "text/plain": [
              "<keras.callbacks.History at 0x7f862b01e090>"
            ]
          },
          "metadata": {},
          "execution_count": 55
        }
      ]
    },
    {
      "cell_type": "code",
      "source": [
        "mse1=mse(y_test,y_pred)\n",
        "mae1=mae(y_test,y_pred)"
      ],
      "metadata": {
        "id": "CrEj0n4RpM1v"
      },
      "execution_count": null,
      "outputs": []
    },
    {
      "cell_type": "code",
      "source": [
        "y_pred_2=model_1.predict(X_test)\n",
        "plot_preds(predictions=y_pred_2)"
      ],
      "metadata": {
        "colab": {
          "base_uri": "https://localhost:8080/",
          "height": 592
        },
        "id": "VdToJJd5gogW",
        "outputId": "35c37dc5-b61f-4c18-a56f-d7249761859b"
      },
      "execution_count": null,
      "outputs": [
        {
          "output_type": "display_data",
          "data": {
            "text/plain": [
              "<Figure size 720x720 with 1 Axes>"
            ],
            "image/png": "[encoded data removed]"
          },
          "metadata": {
            "needs_background": "light"
          }
        }
      ]
    },
    {
      "cell_type": "code",
      "source": [
        "mae2=mae(y_test,y_pred_2)\n",
        "mse2=mse(y_test,y_pred_2)\n",
        "mae2,mse2"
      ],
      "metadata": {
        "colab": {
          "base_uri": "https://localhost:8080/"
        },
        "id": "hgHletUViWrv",
        "outputId": "004fb4b5-34d3-4d20-af08-648d084e2b47"
      },
      "execution_count": null,
      "outputs": [
        {
          "output_type": "execute_result",
          "data": {
            "text/plain": [
              "(<tf.Tensor: shape=(), dtype=float32, numpy=3.1969466>,\n",
              " <tf.Tensor: shape=(), dtype=float32, numpy=13.070175>)"
            ]
          },
          "metadata": {},
          "execution_count": 74
        }
      ]
    },
    {
      "cell_type": "code",
      "source": [
        "plot_preds?\n"
      ],
      "metadata": {
        "colab": {
          "base_uri": "https://localhost:8080/"
        },
        "id": "IzI8X3f7hHGD",
        "outputId": "a7eabbb0-90c9-4c26-f5ba-ffeda5ffa23d"
      },
      "execution_count": null,
      "outputs": [
        {
          "output_type": "stream",
          "name": "stderr",
          "text": [
            "ERROR:root:Exception raised in ColabInspector._getdef\n",
            "Traceback (most recent call last):\n",
            "  File \"/usr/local/lib/python3.7/dist-packages/google/colab/_inspector.py\", line 385, in _getdef\n",
            "    if v.default != v.empty:\n",
            "  File \"/usr/local/lib/python3.7/dist-packages/tensorflow/python/util/traceback_utils.py\", line 153, in error_handler\n",
            "    raise e.with_traceback(filtered_tb) from None\n",
            "  File \"/usr/local/lib/python3.7/dist-packages/tensorflow/python/framework/constant_op.py\", line 102, in convert_to_eager_tensor\n",
            "    return ops.EagerTensor(value, ctx.device_name, dtype)\n",
            "ValueError: Attempt to convert a value (<class 'inspect._empty'>) with an unsupported type (<class 'type'>) to a Tensor.\n"
          ]
        }
      ]
    },
    {
      "cell_type": "code",
      "source": [
        "y_pred=model_1.predict(X_test)\n",
        "y_pred"
      ],
      "metadata": {
        "colab": {
          "base_uri": "https://localhost:8080/"
        },
        "id": "WlE5tIE3dfjj",
        "outputId": "f8028ae4-2f3b-423e-d996-13040568fd69"
      },
      "execution_count": null,
      "outputs": [
        {
          "output_type": "execute_result",
          "data": {
            "text/plain": [
              "array([[ 70.55219 ],\n",
              "       [ 75.139915],\n",
              "       [ 79.72764 ],\n",
              "       [ 84.31536 ],\n",
              "       [ 88.90308 ],\n",
              "       [ 93.49081 ],\n",
              "       [ 98.07853 ],\n",
              "       [102.66626 ],\n",
              "       [107.253975],\n",
              "       [111.841705]], dtype=float32)"
            ]
          },
          "metadata": {},
          "execution_count": 60
        }
      ]
    },
    {
      "cell_type": "code",
      "source": [
        "y_test"
      ],
      "metadata": {
        "colab": {
          "base_uri": "https://localhost:8080/"
        },
        "id": "7NKpJSj-fuiF",
        "outputId": "349a5c53-73d0-4f4b-e83b-70c384b5a20a"
      },
      "execution_count": null,
      "outputs": [
        {
          "output_type": "execute_result",
          "data": {
            "text/plain": [
              "<tf.Tensor: shape=(10,), dtype=int32, numpy=array([ 70,  74,  78,  82,  86,  90,  94,  98, 102, 106], dtype=int32)>"
            ]
          },
          "metadata": {},
          "execution_count": 61
        }
      ]
    },
    {
      "cell_type": "code",
      "source": [
        "mse(y_test,y_pred)"
      ],
      "metadata": {
        "colab": {
          "base_uri": "https://localhost:8080/"
        },
        "id": "AYm3dZClf_GV",
        "outputId": "16e4e421-b869-460b-85c7-0bb1f87f2607"
      },
      "execution_count": null,
      "outputs": [
        {
          "output_type": "execute_result",
          "data": {
            "text/plain": [
              "<tf.Tensor: shape=(), dtype=float32, numpy=13.070175>"
            ]
          },
          "metadata": {},
          "execution_count": 62
        }
      ]
    },
    {
      "cell_type": "code",
      "source": [
        "model_3=tf.keras.Sequential([\n",
        "    tf.keras.layers.Dense(1,input_shape=[1]),\n",
        "    tf.keras.layers.Dense(100,input_shape=[1]),\n",
        "    tf.keras.layers.Dense(1,input_shape=[1]),\n",
        "])"
      ],
      "metadata": {
        "id": "DTgaWFddilHf"
      },
      "execution_count": null,
      "outputs": []
    },
    {
      "cell_type": "code",
      "source": [
        "model_3.compile(loss=tf.keras.losses.mae,optimizer=tf.keras.optimizers.SGD(),\n",
        "                metrics=[\"mse\"])"
      ],
      "metadata": {
        "id": "XtMNxyu9jKpA"
      },
      "execution_count": null,
      "outputs": []
    },
    {
      "cell_type": "code",
      "source": [
        "model_3.fit(X_train,y_train,epochs=10,verbose=0)"
      ],
      "metadata": {
        "colab": {
          "base_uri": "https://localhost:8080/"
        },
        "id": "AvS_WDJHjWpq",
        "outputId": "b85d7c97-90e3-4ff9-9eeb-68aec191f507"
      },
      "execution_count": null,
      "outputs": [
        {
          "output_type": "execute_result",
          "data": {
            "text/plain": [
              "<keras.callbacks.History at 0x7f862b27f090>"
            ]
          },
          "metadata": {},
          "execution_count": 65
        }
      ]
    },
    {
      "cell_type": "code",
      "source": [],
      "metadata": {
        "id": "QJGRfMctpHOK"
      },
      "execution_count": null,
      "outputs": []
    },
    {
      "cell_type": "code",
      "source": [
        "y_pred_3=model_3.predict(X_test)\n",
        "plot_preds(predictions=y_pred_3)"
      ],
      "metadata": {
        "colab": {
          "base_uri": "https://localhost:8080/",
          "height": 629
        },
        "id": "3ZgBRkaUjg0h",
        "outputId": "9542dd54-6e84-4946-837e-1b9c3467f2ef"
      },
      "execution_count": null,
      "outputs": [
        {
          "output_type": "stream",
          "name": "stderr",
          "text": [
            "WARNING:tensorflow:6 out of the last 7 calls to <function Model.make_predict_function.<locals>.predict_function at 0x7f86b00da320> triggered tf.function retracing. Tracing is expensive and the excessive number of tracings could be due to (1) creating @tf.function repeatedly in a loop, (2) passing tensors with different shapes, (3) passing Python objects instead of tensors. For (1), please define your @tf.function outside of the loop. For (2), @tf.function has experimental_relax_shapes=True option that relaxes argument shapes that can avoid unnecessary retracing. For (3), please refer to https://www.tensorflow.org/guide/function#controlling_retracing and https://www.tensorflow.org/api_docs/python/tf/function for  more details.\n"
          ]
        },
        {
          "output_type": "display_data",
          "data": {
            "text/plain": [
              "<Figure size 720x720 with 1 Axes>"
            ],
            "image/png": "[encoded data removed]"
          },
          "metadata": {
            "needs_background": "light"
          }
        }
      ]
    },
    {
      "cell_type": "code",
      "source": [
        "mae3=mae(y_test,y_pred_3)\n",
        "mse3=mse(y_test,y_pred_3)"
      ],
      "metadata": {
        "id": "2r91oPShNKbV"
      },
      "execution_count": null,
      "outputs": []
    },
    {
      "cell_type": "code",
      "source": [
        "plot_preds(predictions=y_pred)"
      ],
      "metadata": {
        "colab": {
          "base_uri": "https://localhost:8080/",
          "height": 592
        },
        "id": "JzzQtXSOjvIA",
        "outputId": "cacebaf8-71e2-4c67-ace2-abfa180bf0a5"
      },
      "execution_count": null,
      "outputs": [
        {
          "output_type": "display_data",
          "data": {
            "text/plain": [
              "<Figure size 720x720 with 1 Axes>"
            ],
            "image/png": "[encoded data removed]"
          },
          "metadata": {
            "needs_background": "light"
          }
        }
      ]
    },
    {
      "cell_type": "code",
      "source": [
        "import pandas as pd\n",
        "\n",
        "model_resuls=[[\"model_1\",mae1.numpy(),mse1.numpy()],\n",
        "              [\"model_2\",mae2.numpy(),mse2.numpy()],\n",
        "              [\"model_3\",mae3.numpy(),mse3.numpy()]]\n",
        "\n",
        "all_results=pd.DataFrame(model_resuls,columns=[\"model\",\"mae\",\"mse\"])"
      ],
      "metadata": {
        "id": "ZovJx4rFmzHr"
      },
      "execution_count": null,
      "outputs": []
    },
    {
      "cell_type": "code",
      "source": [
        "all_results"
      ],
      "metadata": {
        "colab": {
          "base_uri": "https://localhost:8080/",
          "height": 143
        },
        "id": "5NLSxkWXNx-L",
        "outputId": "d4c57363-1dda-41ca-dc18-7afe89d15654"
      },
      "execution_count": null,
      "outputs": [
        {
          "output_type": "execute_result",
          "data": {
            "text/plain": [
              "     model        mae         mse\n",
              "0  model_1   3.196947   13.070175\n",
              "1  model_2   3.196947   13.070175\n",
              "2  model_3  30.816418  985.369995"
            ],
            "text/html": [
              "\n",
              "  <div id=\"df-58fad2b1-e8b4-4853-9d4d-7b3d3285f978\">\n",
              "    <div class=\"colab-df-container\">\n",
              "      <div>\n",
              "<style scoped>\n",
              "    .dataframe tbody tr th:only-of-type {\n",
              "        vertical-align: middle;\n",
              "    }\n",
              "\n",
              "    .dataframe tbody tr th {\n",
              "        vertical-align: top;\n",
              "    }\n",
              "\n",
              "    .dataframe thead th {\n",
              "        text-align: right;\n",
              "    }\n",
              "</style>\n",
              "<table border=\"1\" class=\"dataframe\">\n",
              "  <thead>\n",
              "    <tr style=\"text-align: right;\">\n",
              "      <th></th>\n",
              "      <th>model</th>\n",
              "      <th>mae</th>\n",
              "      <th>mse</th>\n",
              "    </tr>\n",
              "  </thead>\n",
              "  <tbody>\n",
              "    <tr>\n",
              "      <th>0</th>\n",
              "      <td>model_1</td>\n",
              "      <td>3.196947</td>\n",
              "      <td>13.070175</td>\n",
              "    </tr>\n",
              "    <tr>\n",
              "      <th>1</th>\n",
              "      <td>model_2</td>\n",
              "      <td>3.196947</td>\n",
              "      <td>13.070175</td>\n",
              "    </tr>\n",
              "    <tr>\n",
              "      <th>2</th>\n",
              "      <td>model_3</td>\n",
              "      <td>30.816418</td>\n",
              "      <td>985.369995</td>\n",
              "    </tr>\n",
              "  </tbody>\n",
              "</table>\n",
              "</div>\n",
              "      <button class=\"colab-df-convert\" onclick=\"convertToInteractive('df-58fad2b1-e8b4-4853-9d4d-7b3d3285f978')\"\n",
              "              title=\"Convert this dataframe to an interactive table.\"\n",
              "              style=\"display:none;\">\n",
              "        \n",
              "  <svg xmlns=\"http://www.w3.org/2000/svg\" height=\"24px\"viewBox=\"0 0 24 24\"\n",
              "       width=\"24px\">\n",
              "    <path d=\"M0 0h24v24H0V0z\" fill=\"none\"/>\n",
              "    <path d=\"M18.56 5.44l.94 2.06.94-2.06 2.06-.94-2.06-.94-.94-2.06-.94 2.06-2.06.94zm-11 1L8.5 8.5l.94-2.06 2.06-.94-2.06-.94L8.5 2.5l-.94 2.06-2.06.94zm10 10l.94 2.06.94-2.06 2.06-.94-2.06-.94-.94-2.06-.94 2.06-2.06.94z\"/><path d=\"M17.41 7.96l-1.37-1.37c-.4-.4-.92-.59-1.43-.59-.52 0-1.04.2-1.43.59L10.3 9.45l-7.72 7.72c-.78.78-.78 2.05 0 2.83L4 21.41c.39.39.9.59 1.41.59.51 0 1.02-.2 1.41-.59l7.78-7.78 2.81-2.81c.8-.78.8-2.07 0-2.86zM5.41 20L4 18.59l7.72-7.72 1.47 1.35L5.41 20z\"/>\n",
              "  </svg>\n",
              "      </button>\n",
              "      \n",
              "  <style>\n",
              "    .colab-df-container {\n",
              "      display:flex;\n",
              "      flex-wrap:wrap;\n",
              "      gap: 12px;\n",
              "    }\n",
              "\n",
              "    .colab-df-convert {\n",
              "      background-color: #E8F0FE;\n",
              "      border: none;\n",
              "      border-radius: 50%;\n",
              "      cursor: pointer;\n",
              "      display: none;\n",
              "      fill: #1967D2;\n",
              "      height: 32px;\n",
              "      padding: 0 0 0 0;\n",
              "      width: 32px;\n",
              "    }\n",
              "\n",
              "    .colab-df-convert:hover {\n",
              "      background-color: #E2EBFA;\n",
              "      box-shadow: 0px 1px 2px rgba(60, 64, 67, 0.3), 0px 1px 3px 1px rgba(60, 64, 67, 0.15);\n",
              "      fill: #174EA6;\n",
              "    }\n",
              "\n",
              "    [theme=dark] .colab-df-convert {\n",
              "      background-color: #3B4455;\n",
              "      fill: #D2E3FC;\n",
              "    }\n",
              "\n",
              "    [theme=dark] .colab-df-convert:hover {\n",
              "      background-color: #434B5C;\n",
              "      box-shadow: 0px 1px 3px 1px rgba(0, 0, 0, 0.15);\n",
              "      filter: drop-shadow(0px 1px 2px rgba(0, 0, 0, 0.3));\n",
              "      fill: #FFFFFF;\n",
              "    }\n",
              "  </style>\n",
              "\n",
              "      <script>\n",
              "        const buttonEl =\n",
              "          document.querySelector('#df-58fad2b1-e8b4-4853-9d4d-7b3d3285f978 button.colab-df-convert');\n",
              "        buttonEl.style.display =\n",
              "          google.colab.kernel.accessAllowed ? 'block' : 'none';\n",
              "\n",
              "        async function convertToInteractive(key) {\n",
              "          const element = document.querySelector('#df-58fad2b1-e8b4-4853-9d4d-7b3d3285f978');\n",
              "          const dataTable =\n",
              "            await google.colab.kernel.invokeFunction('convertToInteractive',\n",
              "                                                     [key], {});\n",
              "          if (!dataTable) return;\n",
              "\n",
              "          const docLinkHtml = 'Like what you see? Visit the ' +\n",
              "            '<a target=\"_blank\" href=https://colab.research.google.com/notebooks/data_table.ipynb>data table notebook</a>'\n",
              "            + ' to learn more about interactive tables.';\n",
              "          element.innerHTML = '';\n",
              "          dataTable['output_type'] = 'display_data';\n",
              "          await google.colab.output.renderOutput(dataTable, element);\n",
              "          const docLink = document.createElement('div');\n",
              "          docLink.innerHTML = docLinkHtml;\n",
              "          element.appendChild(docLink);\n",
              "        }\n",
              "      </script>\n",
              "    </div>\n",
              "  </div>\n",
              "  "
            ]
          },
          "metadata": {},
          "execution_count": 84
        }
      ]
    },
    {
      "cell_type": "code",
      "source": [
        "model.summary()"
      ],
      "metadata": {
        "colab": {
          "base_uri": "https://localhost:8080/"
        },
        "id": "j3bd5mZROEUc",
        "outputId": "34548e1a-2754-477f-821d-6257b94bbc8b"
      },
      "execution_count": null,
      "outputs": [
        {
          "output_type": "stream",
          "name": "stdout",
          "text": [
            "Model: \"Model_1\"\n",
            "_________________________________________________________________\n",
            " Layer (type)                Output Shape              Param #   \n",
            "=================================================================\n",
            " input_layer (Dense)         (None, 1)                 2         \n",
            "                                                                 \n",
            " hidden_layer1 (Dense)       (None, 100)               200       \n",
            "                                                                 \n",
            " hidden_layer2 (Dense)       (None, 100)               10100     \n",
            "                                                                 \n",
            " output_layer (Dense)        (None, 1)                 101       \n",
            "                                                                 \n",
            "=================================================================\n",
            "Total params: 10,403\n",
            "Trainable params: 10,403\n",
            "Non-trainable params: 0\n",
            "_________________________________________________________________\n"
          ]
        }
      ]
    },
    {
      "cell_type": "code",
      "source": [],
      "metadata": {
        "id": "xVDPtEdOOaRz"
      },
      "execution_count": null,
      "outputs": []
    }
  ],
  "metadata": {
    "accelerator": "GPU",
    "colab": {
      "collapsed_sections": [
        "B4ZZgWOL8WfE"
      ],
      "provenance": []
    },
    "gpuClass": "standard",
    "kernelspec": {
      "display_name": "Python 3",
      "name": "python3"
    },
    "language_info": {
      "name": "python"
    }
  },
  "nbformat": 4,
  "nbformat_minor": 0
}