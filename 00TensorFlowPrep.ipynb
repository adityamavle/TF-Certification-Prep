{
  "nbformat": 4,
  "nbformat_minor": 0,
  "metadata": {
    "colab": {
      "provenance": []
    },
    "kernelspec": {
      "name": "python3",
      "display_name": "Python 3"
    },
    "language_info": {
      "name": "python"
    },
    "accelerator": "GPU",
    "gpuClass": "standard"
  },
  "cells": [
    {
      "cell_type": "markdown",
      "source": [
        "In this notebook we'll be doing fundamentals of TF.\n"
      ],
      "metadata": {
        "id": "mB7d9FN96G4O"
      }
    },
    {
      "cell_type": "markdown",
      "source": [
        "##Intro To Tensors"
      ],
      "metadata": {
        "id": "XLUILuq3_wSk"
      }
    },
    {
      "cell_type": "code",
      "source": [
        "import tensorflow as tf\n",
        "import numpy as np"
      ],
      "metadata": {
        "id": "MrKJE1Ag6g5C"
      },
      "execution_count": null,
      "outputs": []
    },
    {
      "cell_type": "code",
      "source": [
        "print(tf.__version__)"
      ],
      "metadata": {
        "colab": {
          "base_uri": "https://localhost:8080/"
        },
        "id": "raouJpkn6mps",
        "outputId": "01902646-620c-41b3-9973-3ee2ee9a2251"
      },
      "execution_count": null,
      "outputs": [
        {
          "output_type": "stream",
          "name": "stdout",
          "text": [
            "2.8.2\n"
          ]
        }
      ]
    },
    {
      "cell_type": "markdown",
      "source": [],
      "metadata": {
        "id": "1H44q3U89G_i"
      }
    },
    {
      "cell_type": "code",
      "source": [
        "#Creating tensors with tf.constant()\n",
        "scalar=tf.constant(8)\n",
        "scalar\n"
      ],
      "metadata": {
        "colab": {
          "base_uri": "https://localhost:8080/"
        },
        "id": "OLVhkwP66tLT",
        "outputId": "45ef9087-016b-43a6-dbeb-7910b4a1d3ba"
      },
      "execution_count": null,
      "outputs": [
        {
          "output_type": "execute_result",
          "data": {
            "text/plain": [
              "<tf.Tensor: shape=(), dtype=int32, numpy=8>"
            ]
          },
          "metadata": {},
          "execution_count": 4
        }
      ]
    },
    {
      "cell_type": "code",
      "source": [
        "#Checke the number of dims of a tensor(ndim means number of dims)\n",
        "scalar.ndim"
      ],
      "metadata": {
        "colab": {
          "base_uri": "https://localhost:8080/"
        },
        "id": "tnEpVhIK7APL",
        "outputId": "0518a0e3-3887-4c5b-ae9b-5d93f6546414"
      },
      "execution_count": null,
      "outputs": [
        {
          "output_type": "execute_result",
          "data": {
            "text/plain": [
              "0"
            ]
          },
          "metadata": {},
          "execution_count": 5
        }
      ]
    },
    {
      "cell_type": "code",
      "source": [
        "vector=tf.constant([10,10])\n",
        "vector"
      ],
      "metadata": {
        "colab": {
          "base_uri": "https://localhost:8080/"
        },
        "id": "NqVcnZgA7ehc",
        "outputId": "2f389621-7b88-46c6-b938-75aba3ea2408"
      },
      "execution_count": null,
      "outputs": [
        {
          "output_type": "execute_result",
          "data": {
            "text/plain": [
              "<tf.Tensor: shape=(2,), dtype=int32, numpy=array([10, 10], dtype=int32)>"
            ]
          },
          "metadata": {},
          "execution_count": 6
        }
      ]
    },
    {
      "cell_type": "code",
      "source": [
        "vector.ndim"
      ],
      "metadata": {
        "colab": {
          "base_uri": "https://localhost:8080/"
        },
        "id": "40NUeeIA7n27",
        "outputId": "773bad88-5e3f-492b-8f87-bcfcbc5d25b9"
      },
      "execution_count": null,
      "outputs": [
        {
          "output_type": "execute_result",
          "data": {
            "text/plain": [
              "1"
            ]
          },
          "metadata": {},
          "execution_count": 7
        }
      ]
    },
    {
      "cell_type": "code",
      "source": [
        "matrix=tf.constant([[10,7],\n",
        "                    [5,6]]) #a tensor of 2 dimensions \n",
        "                    \n",
        "matrix"
      ],
      "metadata": {
        "colab": {
          "base_uri": "https://localhost:8080/"
        },
        "id": "157iq7rw7qXL",
        "outputId": "ba6a4ddb-a4cc-4949-bedc-03a6028e1442"
      },
      "execution_count": null,
      "outputs": [
        {
          "output_type": "execute_result",
          "data": {
            "text/plain": [
              "<tf.Tensor: shape=(2, 2), dtype=int32, numpy=\n",
              "array([[10,  7],\n",
              "       [ 5,  6]], dtype=int32)>"
            ]
          },
          "metadata": {},
          "execution_count": 8
        }
      ]
    },
    {
      "cell_type": "code",
      "source": [
        "matrix.ndim"
      ],
      "metadata": {
        "colab": {
          "base_uri": "https://localhost:8080/"
        },
        "id": "ui4hyaqs8A1C",
        "outputId": "a4e0b667-731f-44bd-cae6-9ecfdcc94c79"
      },
      "execution_count": null,
      "outputs": [
        {
          "output_type": "execute_result",
          "data": {
            "text/plain": [
              "2"
            ]
          },
          "metadata": {},
          "execution_count": 9
        }
      ]
    },
    {
      "cell_type": "code",
      "source": [
        "matrix2=tf.constant([[10., 6.],\n",
        "                     [4.,6.],\n",
        "                     [5.,8.]],dtype=tf.float16)\n",
        "matrix2"
      ],
      "metadata": {
        "colab": {
          "base_uri": "https://localhost:8080/"
        },
        "id": "8wY_WYnT8HF5",
        "outputId": "aaa3fe6d-165c-4223-88a7-a9d3cf436721"
      },
      "execution_count": null,
      "outputs": [
        {
          "output_type": "execute_result",
          "data": {
            "text/plain": [
              "<tf.Tensor: shape=(3, 2), dtype=float16, numpy=\n",
              "array([[10.,  6.],\n",
              "       [ 4.,  6.],\n",
              "       [ 5.,  8.]], dtype=float16)>"
            ]
          },
          "metadata": {},
          "execution_count": 10
        }
      ]
    },
    {
      "cell_type": "code",
      "source": [
        "matrix2.ndim"
      ],
      "metadata": {
        "colab": {
          "base_uri": "https://localhost:8080/"
        },
        "id": "lu8uK8mu9TXi",
        "outputId": "176efc30-47e9-4c51-febc-32cec7212cd1"
      },
      "execution_count": null,
      "outputs": [
        {
          "output_type": "execute_result",
          "data": {
            "text/plain": [
              "2"
            ]
          },
          "metadata": {},
          "execution_count": 11
        }
      ]
    },
    {
      "cell_type": "code",
      "source": [
        "#Creating a tensor\n",
        "tensor=tf.constant([[[1 ,2, 3],\n",
        "                     [4,5,6]],\n",
        "                    [[7, 8, 9],\n",
        "                     [10,11,12]],\n",
        "                    [[13,654,76],\n",
        "                     [16,75,45]]])\n",
        "tensor"
      ],
      "metadata": {
        "colab": {
          "base_uri": "https://localhost:8080/"
        },
        "id": "WqUb9nNh9slz",
        "outputId": "16d557ba-6974-4fc2-a3b3-a449bfcd35df"
      },
      "execution_count": null,
      "outputs": [
        {
          "output_type": "execute_result",
          "data": {
            "text/plain": [
              "<tf.Tensor: shape=(3, 2, 3), dtype=int32, numpy=\n",
              "array([[[  1,   2,   3],\n",
              "        [  4,   5,   6]],\n",
              "\n",
              "       [[  7,   8,   9],\n",
              "        [ 10,  11,  12]],\n",
              "\n",
              "       [[ 13, 654,  76],\n",
              "        [ 16,  75,  45]]], dtype=int32)>"
            ]
          },
          "metadata": {},
          "execution_count": 12
        }
      ]
    },
    {
      "cell_type": "code",
      "source": [
        "tensor.ndim"
      ],
      "metadata": {
        "colab": {
          "base_uri": "https://localhost:8080/"
        },
        "id": "urZfPdcl_YKh",
        "outputId": "1cbe97ec-104c-43d9-d14e-34733d86d2d8"
      },
      "execution_count": null,
      "outputs": [
        {
          "output_type": "execute_result",
          "data": {
            "text/plain": [
              "3"
            ]
          },
          "metadata": {},
          "execution_count": 13
        }
      ]
    },
    {
      "cell_type": "markdown",
      "source": [
        "*Scalar:a single number\n",
        "*Vector:A Number with direction(e.g wind speed and direction)\n",
        "*Matrix:a 2-Dimensional array of numbers\n",
        "*Tensor:an n-dimenstional array of numbers(when n can be any number)\n"
      ],
      "metadata": {
        "id": "QRf6zBMz_nmS"
      }
    },
    {
      "cell_type": "code",
      "source": [
        "tf.Variable"
      ],
      "metadata": {
        "colab": {
          "base_uri": "https://localhost:8080/"
        },
        "id": "aJ3pV0vtAIJC",
        "outputId": "c02677a9-2283-4dc8-a097-143258b5945c"
      },
      "execution_count": null,
      "outputs": [
        {
          "output_type": "execute_result",
          "data": {
            "text/plain": [
              "tensorflow.python.ops.variables.Variable"
            ]
          },
          "metadata": {},
          "execution_count": 14
        }
      ]
    },
    {
      "cell_type": "code",
      "source": [
        "changeable_tensor=tf.Variable([10,7])\n",
        "unchangeable_tensor=tf.constant([10,8])\n",
        "changeable_tensor,unchangeable_tensor"
      ],
      "metadata": {
        "id": "th2mCq0-AOSP",
        "colab": {
          "base_uri": "https://localhost:8080/"
        },
        "outputId": "f3857f8d-59f5-4224-89c5-ef4afe6b6881"
      },
      "execution_count": null,
      "outputs": [
        {
          "output_type": "execute_result",
          "data": {
            "text/plain": [
              "(<tf.Variable 'Variable:0' shape=(2,) dtype=int32, numpy=array([10,  7], dtype=int32)>,\n",
              " <tf.Tensor: shape=(2,), dtype=int32, numpy=array([10,  8], dtype=int32)>)"
            ]
          },
          "metadata": {},
          "execution_count": 15
        }
      ]
    },
    {
      "cell_type": "code",
      "source": [
        "changeable_tensor[0]"
      ],
      "metadata": {
        "colab": {
          "base_uri": "https://localhost:8080/"
        },
        "id": "AZD6t5CPdXOi",
        "outputId": "8f6285c4-29b2-46de-a61f-c75d32e5ed2d"
      },
      "execution_count": null,
      "outputs": [
        {
          "output_type": "execute_result",
          "data": {
            "text/plain": [
              "<tf.Tensor: shape=(), dtype=int32, numpy=10>"
            ]
          },
          "metadata": {},
          "execution_count": 16
        }
      ]
    },
    {
      "cell_type": "code",
      "source": [
        "unchangeable_tensor.ndim"
      ],
      "metadata": {
        "colab": {
          "base_uri": "https://localhost:8080/"
        },
        "id": "5bU5OpiYfszM",
        "outputId": "4b8867f7-736b-4857-aca6-ddd2a0ec28dd"
      },
      "execution_count": null,
      "outputs": [
        {
          "output_type": "execute_result",
          "data": {
            "text/plain": [
              "1"
            ]
          },
          "metadata": {},
          "execution_count": 17
        }
      ]
    },
    {
      "cell_type": "code",
      "source": [
        "changeable_tensor[0].assign(7)\n",
        "changeable_tensor"
      ],
      "metadata": {
        "colab": {
          "base_uri": "https://localhost:8080/"
        },
        "id": "i9ow1o2nduWQ",
        "outputId": "cc80aad5-dbbb-429e-dfb3-1df5c71c555a"
      },
      "execution_count": null,
      "outputs": [
        {
          "output_type": "execute_result",
          "data": {
            "text/plain": [
              "<tf.Variable 'Variable:0' shape=(2,) dtype=int32, numpy=array([7, 7], dtype=int32)>"
            ]
          },
          "metadata": {},
          "execution_count": 18
        }
      ]
    },
    {
      "cell_type": "code",
      "source": [
        "v=tf.Variable([[1,3,4],\n",
        "               [4,6,7],\n",
        "               [5,7,8]])\n",
        "\n",
        "#v=tf.Variable(1.,shape=tf.TensorShape(None))\n",
        "\n"
      ],
      "metadata": {
        "id": "iN7DfEekeC_j"
      },
      "execution_count": null,
      "outputs": []
    },
    {
      "cell_type": "code",
      "source": [
        "w=tf.constant([[3,6,7],\n",
        "               [4,7,8]])"
      ],
      "metadata": {
        "id": "3lFqdpAXiFhW"
      },
      "execution_count": null,
      "outputs": []
    },
    {
      "cell_type": "code",
      "source": [
        "w,v"
      ],
      "metadata": {
        "colab": {
          "base_uri": "https://localhost:8080/"
        },
        "id": "QZYkggoxitaI",
        "outputId": "b24f7a4a-7f59-40d0-bfaf-6d14dc9240de"
      },
      "execution_count": null,
      "outputs": [
        {
          "output_type": "execute_result",
          "data": {
            "text/plain": [
              "(<tf.Tensor: shape=(2, 3), dtype=int32, numpy=\n",
              " array([[3, 6, 7],\n",
              "        [4, 7, 8]], dtype=int32)>,\n",
              " <tf.Variable 'Variable:0' shape=(3, 3) dtype=int32, numpy=\n",
              " array([[1, 3, 4],\n",
              "        [4, 6, 7],\n",
              "        [5, 7, 8]], dtype=int32)>)"
            ]
          },
          "metadata": {},
          "execution_count": 21
        }
      ]
    },
    {
      "cell_type": "code",
      "source": [
        "tf.matmul(w,v)"
      ],
      "metadata": {
        "colab": {
          "base_uri": "https://localhost:8080/"
        },
        "id": "Bjbsyu2BkDbP",
        "outputId": "778c98a5-e92b-4e18-f6ce-eb71e51fd7cb"
      },
      "execution_count": null,
      "outputs": [
        {
          "output_type": "execute_result",
          "data": {
            "text/plain": [
              "<tf.Tensor: shape=(2, 3), dtype=int32, numpy=\n",
              "array([[ 62,  94, 110],\n",
              "       [ 72, 110, 129]], dtype=int32)>"
            ]
          },
          "metadata": {},
          "execution_count": 22
        }
      ]
    },
    {
      "cell_type": "markdown",
      "source": [
        "Random Tensors of some arbitrary size which contain random numbers"
      ],
      "metadata": {
        "id": "qmyZeUd6kJc1"
      }
    },
    {
      "cell_type": "code",
      "source": [
        "#Creating random tensors\n"
      ],
      "metadata": {
        "id": "wLDFzjEZkkw0"
      },
      "execution_count": null,
      "outputs": []
    },
    {
      "cell_type": "code",
      "source": [
        "random1=tf.random.Generator.from_seed(42)\n",
        "random1=random1.normal(shape=(3,2))\n",
        "random1"
      ],
      "metadata": {
        "colab": {
          "base_uri": "https://localhost:8080/"
        },
        "id": "6R-1hz5ulyxS",
        "outputId": "6f4adc7f-6c81-4e8a-b4b5-357c040a6fa7"
      },
      "execution_count": null,
      "outputs": [
        {
          "output_type": "execute_result",
          "data": {
            "text/plain": [
              "<tf.Tensor: shape=(3, 2), dtype=float32, numpy=\n",
              "array([[-0.7565803 , -0.06854702],\n",
              "       [ 0.07595026, -1.2573844 ],\n",
              "       [-0.23193765, -1.8107855 ]], dtype=float32)>"
            ]
          },
          "metadata": {},
          "execution_count": 24
        }
      ]
    },
    {
      "cell_type": "code",
      "source": [
        "random2=tf.random.Generator.from_seed(7)\n",
        "random2=random2.normal(shape=(3,2))\n",
        "random2"
      ],
      "metadata": {
        "colab": {
          "base_uri": "https://localhost:8080/"
        },
        "id": "BbZGvrEsmWVX",
        "outputId": "bf10aced-b91d-4bb6-f206-fffb7169ae15"
      },
      "execution_count": null,
      "outputs": [
        {
          "output_type": "execute_result",
          "data": {
            "text/plain": [
              "<tf.Tensor: shape=(3, 2), dtype=float32, numpy=\n",
              "array([[-1.3240396 ,  0.2878567 ],\n",
              "       [-0.8757901 , -0.08857017],\n",
              "       [ 0.69211644,  0.84215707]], dtype=float32)>"
            ]
          },
          "metadata": {},
          "execution_count": 25
        }
      ]
    },
    {
      "cell_type": "code",
      "source": [
        "random1==random2"
      ],
      "metadata": {
        "colab": {
          "base_uri": "https://localhost:8080/"
        },
        "id": "6ioMm0uFmo3Q",
        "outputId": "c4730b02-1293-4935-ef37-5c20ad16f8c4"
      },
      "execution_count": null,
      "outputs": [
        {
          "output_type": "execute_result",
          "data": {
            "text/plain": [
              "<tf.Tensor: shape=(3, 2), dtype=bool, numpy=\n",
              "array([[False, False],\n",
              "       [False, False],\n",
              "       [False, False]])>"
            ]
          },
          "metadata": {},
          "execution_count": 26
        }
      ]
    },
    {
      "cell_type": "code",
      "source": [
        "not_shuffled=tf.constant([[4,5,8],\n",
        "                          [4,89,6],\n",
        "                          [2,77,7]])\n",
        "\n",
        "\n",
        "not_shuffled.ndim"
      ],
      "metadata": {
        "colab": {
          "base_uri": "https://localhost:8080/"
        },
        "id": "VN-HbPvBjMHT",
        "outputId": "3327ce4e-fdb0-445e-a804-87e939dade5d"
      },
      "execution_count": null,
      "outputs": [
        {
          "output_type": "execute_result",
          "data": {
            "text/plain": [
              "2"
            ]
          },
          "metadata": {},
          "execution_count": 27
        }
      ]
    },
    {
      "cell_type": "code",
      "source": [
        "tf.random.set_seed(42)"
      ],
      "metadata": {
        "id": "AlF8RNkKlnKQ"
      },
      "execution_count": null,
      "outputs": []
    },
    {
      "cell_type": "code",
      "source": [
        "tf.random.set_seed(42)\n",
        "shuffled=tf.random.shuffle(not_shuffled,seed=42)\n",
        "shuffled\n"
      ],
      "metadata": {
        "colab": {
          "base_uri": "https://localhost:8080/"
        },
        "id": "85XUz7Saj6mV",
        "outputId": "eea99885-9483-4251-b53d-99a1a141d3a2"
      },
      "execution_count": null,
      "outputs": [
        {
          "output_type": "execute_result",
          "data": {
            "text/plain": [
              "<tf.Tensor: shape=(3, 3), dtype=int32, numpy=\n",
              "array([[ 4,  5,  8],\n",
              "       [ 4, 89,  6],\n",
              "       [ 2, 77,  7]], dtype=int32)>"
            ]
          },
          "metadata": {},
          "execution_count": 29
        }
      ]
    },
    {
      "cell_type": "markdown",
      "source": [
        "Read through TF docs on random seed gen\n",
        "and pract writing 5 random tensors and shuffle them"
      ],
      "metadata": {
        "id": "TOw8XsuknVZI"
      }
    },
    {
      "cell_type": "code",
      "source": [
        "t1=tf.constant([[4,5],\n",
        "                [5,7],\n",
        "                [7,9]])\n",
        "t1"
      ],
      "metadata": {
        "colab": {
          "base_uri": "https://localhost:8080/"
        },
        "id": "IWjhHLVPtbFD",
        "outputId": "516278b3-fbd3-4d23-f056-73a1d39d4e78"
      },
      "execution_count": null,
      "outputs": [
        {
          "output_type": "execute_result",
          "data": {
            "text/plain": [
              "<tf.Tensor: shape=(3, 2), dtype=int32, numpy=\n",
              "array([[4, 5],\n",
              "       [5, 7],\n",
              "       [7, 9]], dtype=int32)>"
            ]
          },
          "metadata": {},
          "execution_count": 30
        }
      ]
    },
    {
      "cell_type": "code",
      "source": [
        "tf.random.shuffle(t1)"
      ],
      "metadata": {
        "colab": {
          "base_uri": "https://localhost:8080/"
        },
        "id": "CwN8nKPCt1cF",
        "outputId": "5055bbb4-2428-4374-bf17-f98fb2d01af4"
      },
      "execution_count": null,
      "outputs": [
        {
          "output_type": "execute_result",
          "data": {
            "text/plain": [
              "<tf.Tensor: shape=(3, 2), dtype=int32, numpy=\n",
              "array([[5, 7],\n",
              "       [7, 9],\n",
              "       [4, 5]], dtype=int32)>"
            ]
          },
          "metadata": {},
          "execution_count": 31
        }
      ]
    },
    {
      "cell_type": "code",
      "source": [
        "tf.random.set_seed(1234)\n",
        "print(tf.random.uniform([2,2]))\n",
        "print(tf.random.uniform([2,2]))"
      ],
      "metadata": {
        "colab": {
          "base_uri": "https://localhost:8080/"
        },
        "id": "Td9rJKWIuyTg",
        "outputId": "86ce36cf-810c-4e5d-e52b-1dcf73817437"
      },
      "execution_count": null,
      "outputs": [
        {
          "output_type": "stream",
          "name": "stdout",
          "text": [
            "tf.Tensor(\n",
            "[[0.5380393  0.36461866]\n",
            " [0.5816301  0.24382842]], shape=(2, 2), dtype=float32)\n",
            "tf.Tensor(\n",
            "[[0.3253647  0.1387006 ]\n",
            " [0.64804935 0.30401838]], shape=(2, 2), dtype=float32)\n"
          ]
        }
      ]
    },
    {
      "cell_type": "code",
      "source": [
        "tf.Variable([1,2,3])"
      ],
      "metadata": {
        "colab": {
          "base_uri": "https://localhost:8080/"
        },
        "id": "DwL3seciwi8D",
        "outputId": "4dde6f8d-d5a7-4242-aa73-24194a636ea2"
      },
      "execution_count": null,
      "outputs": [
        {
          "output_type": "execute_result",
          "data": {
            "text/plain": [
              "<tf.Variable 'Variable:0' shape=(3,) dtype=int32, numpy=array([1, 2, 3], dtype=int32)>"
            ]
          },
          "metadata": {},
          "execution_count": 33
        }
      ]
    },
    {
      "cell_type": "code",
      "source": [
        "r1=tf.random.Generator.from_seed(42)"
      ],
      "metadata": {
        "id": "NIWY5I45xhne"
      },
      "execution_count": null,
      "outputs": []
    },
    {
      "cell_type": "code",
      "source": [
        "r1=r1.normal(shape=(2,3))"
      ],
      "metadata": {
        "id": "osqzLJhizg6f"
      },
      "execution_count": null,
      "outputs": []
    },
    {
      "cell_type": "code",
      "source": [
        "r1"
      ],
      "metadata": {
        "colab": {
          "base_uri": "https://localhost:8080/"
        },
        "id": "X-M__oj20vkl",
        "outputId": "eb9c0204-3515-4a73-d1b0-7e07790817b4"
      },
      "execution_count": null,
      "outputs": [
        {
          "output_type": "execute_result",
          "data": {
            "text/plain": [
              "<tf.Tensor: shape=(2, 3), dtype=float32, numpy=\n",
              "array([[-0.7565803 , -0.06854702,  0.07595026],\n",
              "       [-1.2573844 , -0.23193765, -1.8107855 ]], dtype=float32)>"
            ]
          },
          "metadata": {},
          "execution_count": 36
        }
      ]
    },
    {
      "cell_type": "code",
      "source": [
        "tf.random.shuffle(r1)"
      ],
      "metadata": {
        "colab": {
          "base_uri": "https://localhost:8080/"
        },
        "id": "lryITPd41EBj",
        "outputId": "8e2c6ea0-fb8a-41b6-d588-a0c5294c2b5a"
      },
      "execution_count": null,
      "outputs": [
        {
          "output_type": "execute_result",
          "data": {
            "text/plain": [
              "<tf.Tensor: shape=(2, 3), dtype=float32, numpy=\n",
              "array([[-0.7565803 , -0.06854702,  0.07595026],\n",
              "       [-1.2573844 , -0.23193765, -1.8107855 ]], dtype=float32)>"
            ]
          },
          "metadata": {},
          "execution_count": 37
        }
      ]
    },
    {
      "cell_type": "code",
      "source": [
        "r2=tf.random.Generator.from_seed(55)\n",
        "r2=r2.normal(shape=(3,3))\n",
        "tf.random.shuffle(r2)"
      ],
      "metadata": {
        "colab": {
          "base_uri": "https://localhost:8080/"
        },
        "id": "oE0G23U_1lN5",
        "outputId": "a4de4fbe-137f-4954-b098-2a7f3e3bb5ff"
      },
      "execution_count": null,
      "outputs": [
        {
          "output_type": "execute_result",
          "data": {
            "text/plain": [
              "<tf.Tensor: shape=(3, 3), dtype=float32, numpy=\n",
              "array([[ 0.33149615, -0.67958915,  0.44723678],\n",
              "       [-0.17811586,  0.24882519,  0.49689844],\n",
              "       [-0.04082382,  2.6791053 ,  1.0914806 ]], dtype=float32)>"
            ]
          },
          "metadata": {},
          "execution_count": 38
        }
      ]
    },
    {
      "cell_type": "code",
      "source": [
        "tf.random.set_seed(21)\n",
        "r3=tf.random.Generator.from_seed(20)\n",
        "r3=r3.normal(shape=(3,3,3))\n",
        "tf.random.shuffle(r3)"
      ],
      "metadata": {
        "colab": {
          "base_uri": "https://localhost:8080/"
        },
        "id": "E4TVGqcI2pRa",
        "outputId": "4d0d34d2-6b1a-4d79-98b2-d2b4d967a4bb"
      },
      "execution_count": null,
      "outputs": [
        {
          "output_type": "execute_result",
          "data": {
            "text/plain": [
              "<tf.Tensor: shape=(3, 3, 3), dtype=float32, numpy=\n",
              "array([[[-1.7166729 ,  0.3738578 , -0.14371012],\n",
              "        [-0.34646833,  1.1456194 , -0.416     ],\n",
              "        [ 0.43369916,  1.0241015 , -0.74785167]],\n",
              "\n",
              "       [[ 2.0261486 , -0.06997604,  0.85445154],\n",
              "        [ 0.1175475 ,  0.03493892, -1.5700307 ],\n",
              "        [ 0.44575813,  0.10944034, -0.8035768 ]],\n",
              "\n",
              "       [[ 0.88051325, -1.6833194 ,  0.86754173],\n",
              "        [-0.19625713, -1.322665  , -0.02279496],\n",
              "        [-0.1383193 ,  0.44207528, -0.7531523 ]]], dtype=float32)>"
            ]
          },
          "metadata": {},
          "execution_count": 39
        }
      ]
    },
    {
      "cell_type": "code",
      "source": [
        "tf.random.set_seed(420)\n",
        "r4=tf.random.Generator.from_seed(420)\n",
        "r4=r4.normal(shape=(3,3,3))\n",
        "tf.random.shuffle(r4)"
      ],
      "metadata": {
        "colab": {
          "base_uri": "https://localhost:8080/"
        },
        "id": "R9WraoAs5wto",
        "outputId": "9fa04c3e-7eaa-420f-bdbd-5ff75024ac97"
      },
      "execution_count": null,
      "outputs": [
        {
          "output_type": "execute_result",
          "data": {
            "text/plain": [
              "<tf.Tensor: shape=(3, 3, 3), dtype=float32, numpy=\n",
              "array([[[ 0.7478407 ,  0.833674  , -1.1704516 ],\n",
              "        [ 0.09289497, -0.5565577 , -1.6673356 ],\n",
              "        [-0.97270095,  0.02318937, -0.20218365]],\n",
              "\n",
              "       [[ 0.6356361 , -0.08795371, -1.3398387 ],\n",
              "        [-0.00641572, -1.1475449 ,  0.6519857 ],\n",
              "        [-0.5087066 , -0.55476016,  0.9272294 ]],\n",
              "\n",
              "       [[-0.72668934,  0.5584023 ,  0.9341211 ],\n",
              "        [-0.1929333 , -0.01480407,  0.8661827 ],\n",
              "        [-1.6809249 , -1.1837702 ,  1.6152605 ]]], dtype=float32)>"
            ]
          },
          "metadata": {},
          "execution_count": 40
        }
      ]
    },
    {
      "cell_type": "code",
      "source": [
        "r5=tf.constant([[10,6],\n",
        "                [6,8],\n",
        "                [5,3]])\n",
        "\n",
        "tf.random.shuffle(r5)"
      ],
      "metadata": {
        "id": "4tWn5zqW6Gtv",
        "colab": {
          "base_uri": "https://localhost:8080/"
        },
        "outputId": "f60fb51f-e1c8-414d-b614-fcfd5e596ca3"
      },
      "execution_count": null,
      "outputs": [
        {
          "output_type": "execute_result",
          "data": {
            "text/plain": [
              "<tf.Tensor: shape=(3, 2), dtype=int32, numpy=\n",
              "array([[10,  6],\n",
              "       [ 5,  3],\n",
              "       [ 6,  8]], dtype=int32)>"
            ]
          },
          "metadata": {},
          "execution_count": 41
        }
      ]
    },
    {
      "cell_type": "code",
      "source": [
        "#If we want our shuffled tensors to be in the same order,we've got to use the global level random seed and operation random seed\n",
        "tf.random.set_seed(42)\n",
        "tf.random.shuffle(r5,seed=41)"
      ],
      "metadata": {
        "colab": {
          "base_uri": "https://localhost:8080/"
        },
        "id": "b2XDe-QtGVBm",
        "outputId": "4c3b4828-c064-44cd-8fac-347e82641669"
      },
      "execution_count": null,
      "outputs": [
        {
          "output_type": "execute_result",
          "data": {
            "text/plain": [
              "<tf.Tensor: shape=(3, 2), dtype=int32, numpy=\n",
              "array([[ 6,  8],\n",
              "       [ 5,  3],\n",
              "       [10,  6]], dtype=int32)>"
            ]
          },
          "metadata": {},
          "execution_count": 42
        }
      ]
    },
    {
      "cell_type": "code",
      "source": [
        "tf.ones([3,3,3])"
      ],
      "metadata": {
        "colab": {
          "base_uri": "https://localhost:8080/"
        },
        "id": "nk_P1i73Gve3",
        "outputId": "b19150eb-5691-49a3-c1f6-ea975a2b4540"
      },
      "execution_count": null,
      "outputs": [
        {
          "output_type": "execute_result",
          "data": {
            "text/plain": [
              "<tf.Tensor: shape=(3, 3, 3), dtype=float32, numpy=\n",
              "array([[[1., 1., 1.],\n",
              "        [1., 1., 1.],\n",
              "        [1., 1., 1.]],\n",
              "\n",
              "       [[1., 1., 1.],\n",
              "        [1., 1., 1.],\n",
              "        [1., 1., 1.]],\n",
              "\n",
              "       [[1., 1., 1.],\n",
              "        [1., 1., 1.],\n",
              "        [1., 1., 1.]]], dtype=float32)>"
            ]
          },
          "metadata": {},
          "execution_count": 43
        }
      ]
    },
    {
      "cell_type": "code",
      "source": [
        "tf.zeros(shape=(3,3,3))"
      ],
      "metadata": {
        "colab": {
          "base_uri": "https://localhost:8080/"
        },
        "id": "gSwC1l4zJux8",
        "outputId": "129d06f6-f02b-42d0-a7d2-6bba1af29120"
      },
      "execution_count": null,
      "outputs": [
        {
          "output_type": "execute_result",
          "data": {
            "text/plain": [
              "<tf.Tensor: shape=(3, 3, 3), dtype=float32, numpy=\n",
              "array([[[0., 0., 0.],\n",
              "        [0., 0., 0.],\n",
              "        [0., 0., 0.]],\n",
              "\n",
              "       [[0., 0., 0.],\n",
              "        [0., 0., 0.],\n",
              "        [0., 0., 0.]],\n",
              "\n",
              "       [[0., 0., 0.],\n",
              "        [0., 0., 0.],\n",
              "        [0., 0., 0.]]], dtype=float32)>"
            ]
          },
          "metadata": {},
          "execution_count": 44
        }
      ]
    },
    {
      "cell_type": "code",
      "source": [
        " n1=np.arange(1,25,dtype=np.int32)\n",
        " n1"
      ],
      "metadata": {
        "colab": {
          "base_uri": "https://localhost:8080/"
        },
        "id": "jKbXjxnzJ2Qg",
        "outputId": "6b1f1947-d89d-4c3d-e5d3-bd1b2b199638"
      },
      "execution_count": null,
      "outputs": [
        {
          "output_type": "execute_result",
          "data": {
            "text/plain": [
              "array([ 1,  2,  3,  4,  5,  6,  7,  8,  9, 10, 11, 12, 13, 14, 15, 16, 17,\n",
              "       18, 19, 20, 21, 22, 23, 24], dtype=int32)"
            ]
          },
          "metadata": {},
          "execution_count": 45
        }
      ]
    },
    {
      "cell_type": "code",
      "source": [
        "a=tf.constant(n1,shape=(3,2,4)) #converting our numpy array to a tensor\n",
        "a"
      ],
      "metadata": {
        "colab": {
          "base_uri": "https://localhost:8080/"
        },
        "id": "KaTtzwFmKVH1",
        "outputId": "5489246b-0b15-4924-e6d5-ed0de1cec51b"
      },
      "execution_count": null,
      "outputs": [
        {
          "output_type": "execute_result",
          "data": {
            "text/plain": [
              "<tf.Tensor: shape=(3, 2, 4), dtype=int32, numpy=\n",
              "array([[[ 1,  2,  3,  4],\n",
              "        [ 5,  6,  7,  8]],\n",
              "\n",
              "       [[ 9, 10, 11, 12],\n",
              "        [13, 14, 15, 16]],\n",
              "\n",
              "       [[17, 18, 19, 20],\n",
              "        [21, 22, 23, 24]]], dtype=int32)>"
            ]
          },
          "metadata": {},
          "execution_count": 46
        }
      ]
    },
    {
      "cell_type": "markdown",
      "source": [
        "Shape\n",
        "Rank\n",
        "Axis or Dimension\n",
        "Size"
      ],
      "metadata": {
        "id": "VIj1tzrkKqRv"
      }
    },
    {
      "cell_type": "code",
      "source": [
        "rank3_t=tf.zeros(shape=(3,3,3))\n",
        "rank3_t"
      ],
      "metadata": {
        "colab": {
          "base_uri": "https://localhost:8080/"
        },
        "id": "q1vDbXwAOjDh",
        "outputId": "b28ff193-d343-48b3-8b42-720702906bbb"
      },
      "execution_count": null,
      "outputs": [
        {
          "output_type": "execute_result",
          "data": {
            "text/plain": [
              "<tf.Tensor: shape=(3, 3, 3), dtype=float32, numpy=\n",
              "array([[[0., 0., 0.],\n",
              "        [0., 0., 0.],\n",
              "        [0., 0., 0.]],\n",
              "\n",
              "       [[0., 0., 0.],\n",
              "        [0., 0., 0.],\n",
              "        [0., 0., 0.]],\n",
              "\n",
              "       [[0., 0., 0.],\n",
              "        [0., 0., 0.],\n",
              "        [0., 0., 0.]]], dtype=float32)>"
            ]
          },
          "metadata": {},
          "execution_count": 47
        }
      ]
    },
    {
      "cell_type": "code",
      "source": [
        "rank5_t=tf.zeros(shape=(2,2,2,2,2))\n",
        "rank5_t"
      ],
      "metadata": {
        "colab": {
          "base_uri": "https://localhost:8080/"
        },
        "id": "sc1WzJV4PLSx",
        "outputId": "029f258c-2733-4f25-85a1-69f7a6de07f1"
      },
      "execution_count": null,
      "outputs": [
        {
          "output_type": "execute_result",
          "data": {
            "text/plain": [
              "<tf.Tensor: shape=(2, 2, 2, 2, 2), dtype=float32, numpy=\n",
              "array([[[[[0., 0.],\n",
              "          [0., 0.]],\n",
              "\n",
              "         [[0., 0.],\n",
              "          [0., 0.]]],\n",
              "\n",
              "\n",
              "        [[[0., 0.],\n",
              "          [0., 0.]],\n",
              "\n",
              "         [[0., 0.],\n",
              "          [0., 0.]]]],\n",
              "\n",
              "\n",
              "\n",
              "       [[[[0., 0.],\n",
              "          [0., 0.]],\n",
              "\n",
              "         [[0., 0.],\n",
              "          [0., 0.]]],\n",
              "\n",
              "\n",
              "        [[[0., 0.],\n",
              "          [0., 0.]],\n",
              "\n",
              "         [[0., 0.],\n",
              "          [0., 0.]]]]], dtype=float32)>"
            ]
          },
          "metadata": {},
          "execution_count": 48
        }
      ]
    },
    {
      "cell_type": "code",
      "source": [
        "rank4_t=tf.zeros(shape=(3,3,3,3))\n",
        "rank4_t"
      ],
      "metadata": {
        "colab": {
          "base_uri": "https://localhost:8080/"
        },
        "id": "bzhaAeu-NvNu",
        "outputId": "a4d81b2c-f56a-4563-fbec-f8559ca20f7d"
      },
      "execution_count": null,
      "outputs": [
        {
          "output_type": "execute_result",
          "data": {
            "text/plain": [
              "<tf.Tensor: shape=(3, 3, 3, 3), dtype=float32, numpy=\n",
              "array([[[[0., 0., 0.],\n",
              "         [0., 0., 0.],\n",
              "         [0., 0., 0.]],\n",
              "\n",
              "        [[0., 0., 0.],\n",
              "         [0., 0., 0.],\n",
              "         [0., 0., 0.]],\n",
              "\n",
              "        [[0., 0., 0.],\n",
              "         [0., 0., 0.],\n",
              "         [0., 0., 0.]]],\n",
              "\n",
              "\n",
              "       [[[0., 0., 0.],\n",
              "         [0., 0., 0.],\n",
              "         [0., 0., 0.]],\n",
              "\n",
              "        [[0., 0., 0.],\n",
              "         [0., 0., 0.],\n",
              "         [0., 0., 0.]],\n",
              "\n",
              "        [[0., 0., 0.],\n",
              "         [0., 0., 0.],\n",
              "         [0., 0., 0.]]],\n",
              "\n",
              "\n",
              "       [[[0., 0., 0.],\n",
              "         [0., 0., 0.],\n",
              "         [0., 0., 0.]],\n",
              "\n",
              "        [[0., 0., 0.],\n",
              "         [0., 0., 0.],\n",
              "         [0., 0., 0.]],\n",
              "\n",
              "        [[0., 0., 0.],\n",
              "         [0., 0., 0.],\n",
              "         [0., 0., 0.]]]], dtype=float32)>"
            ]
          },
          "metadata": {},
          "execution_count": 49
        }
      ]
    },
    {
      "cell_type": "code",
      "source": [
        "rank4_t.shape,rank4_t.ndim,tf.size(rank4_t)"
      ],
      "metadata": {
        "colab": {
          "base_uri": "https://localhost:8080/"
        },
        "id": "dxdsELW0Q48H",
        "outputId": "e364fe95-ea40-4931-e793-8cdce728f878"
      },
      "execution_count": null,
      "outputs": [
        {
          "output_type": "execute_result",
          "data": {
            "text/plain": [
              "(TensorShape([3, 3, 3, 3]), 4, <tf.Tensor: shape=(), dtype=int32, numpy=81>)"
            ]
          },
          "metadata": {},
          "execution_count": 50
        }
      ]
    },
    {
      "cell_type": "code",
      "source": [
        "print(\"Datatype of every element:\",rank4_t.dtype)\n",
        "print(\"Number of dim or rank:\",rank4_t.ndim)\n",
        "print(\"Shape of our tensor\",rank4_t.shape)\n",
        "print(\"Element along the 0 axis:\",rank4_t.shape[0])\n",
        "print(\"Elements along the last axis\",rank4_t.shape[-1])\n",
        "print(\"Total number of elements in our tensor:\",tf.size(rank4_t).numpy())"
      ],
      "metadata": {
        "colab": {
          "base_uri": "https://localhost:8080/"
        },
        "id": "p_PY2oEESsBG",
        "outputId": "d8f3e1a6-0456-4097-e6c5-9c563c7584c4"
      },
      "execution_count": null,
      "outputs": [
        {
          "output_type": "stream",
          "name": "stdout",
          "text": [
            "Datatype of every element: <dtype: 'float32'>\n",
            "Number of dim or rank: 4\n",
            "Shape of our tensor (3, 3, 3, 3)\n",
            "Element along the 0 axis: 3\n",
            "Elements along the last axis 3\n",
            "Total number of elements in our tensor: 81\n"
          ]
        }
      ]
    },
    {
      "cell_type": "code",
      "source": [
        "list1=[1,2,3,4]\n",
        "list1[:2]"
      ],
      "metadata": {
        "colab": {
          "base_uri": "https://localhost:8080/"
        },
        "id": "f7cUzS7WcQBC",
        "outputId": "4fa55ce1-bf5f-403b-9e02-9b78d46f5668"
      },
      "execution_count": null,
      "outputs": [
        {
          "output_type": "execute_result",
          "data": {
            "text/plain": [
              "[1, 2]"
            ]
          },
          "metadata": {},
          "execution_count": 52
        }
      ]
    },
    {
      "cell_type": "code",
      "source": [
        "#Get the first 2 elements of each dimension\n",
        "rank4_t[:2,:2,:2,:2]\n"
      ],
      "metadata": {
        "colab": {
          "base_uri": "https://localhost:8080/"
        },
        "id": "jMArtcM7biHR",
        "outputId": "a2eda423-595f-4f67-b15e-62ba32da03f9"
      },
      "execution_count": null,
      "outputs": [
        {
          "output_type": "execute_result",
          "data": {
            "text/plain": [
              "<tf.Tensor: shape=(2, 2, 2, 2), dtype=float32, numpy=\n",
              "array([[[[0., 0.],\n",
              "         [0., 0.]],\n",
              "\n",
              "        [[0., 0.],\n",
              "         [0., 0.]]],\n",
              "\n",
              "\n",
              "       [[[0., 0.],\n",
              "         [0., 0.]],\n",
              "\n",
              "        [[0., 0.],\n",
              "         [0., 0.]]]], dtype=float32)>"
            ]
          },
          "metadata": {},
          "execution_count": 53
        }
      ]
    },
    {
      "cell_type": "code",
      "source": [
        "#Get the first element from each dimension from each index except for the final one\n",
        "rank4_t[:1,:1,:1,:]"
      ],
      "metadata": {
        "colab": {
          "base_uri": "https://localhost:8080/"
        },
        "id": "hMBdK4TNdNpa",
        "outputId": "ff443e63-157d-484e-f06f-86dcad4821fc"
      },
      "execution_count": null,
      "outputs": [
        {
          "output_type": "execute_result",
          "data": {
            "text/plain": [
              "<tf.Tensor: shape=(1, 1, 1, 3), dtype=float32, numpy=array([[[[0., 0., 0.]]]], dtype=float32)>"
            ]
          },
          "metadata": {},
          "execution_count": 54
        }
      ]
    },
    {
      "cell_type": "code",
      "source": [
        "rank2_t=tf.random.Generator.from_seed(42)\n",
        "rank2_t=rank2_t.normal(shape=(4,3))\n",
        "rank2_t"
      ],
      "metadata": {
        "colab": {
          "base_uri": "https://localhost:8080/"
        },
        "id": "YlyhtbP_doPu",
        "outputId": "abbee4b6-41d2-4f14-9950-846538dbcb75"
      },
      "execution_count": null,
      "outputs": [
        {
          "output_type": "execute_result",
          "data": {
            "text/plain": [
              "<tf.Tensor: shape=(4, 3), dtype=float32, numpy=\n",
              "array([[-0.7565803 , -0.06854702,  0.07595026],\n",
              "       [-1.2573844 , -0.23193765, -1.8107855 ],\n",
              "       [ 0.09988727, -0.50998646, -0.7535806 ],\n",
              "       [-0.5716629 ,  0.1480774 , -0.23362991]], dtype=float32)>"
            ]
          },
          "metadata": {},
          "execution_count": 55
        }
      ]
    },
    {
      "cell_type": "code",
      "source": [
        "#Get the last item of each row\n",
        "rank2_t[:,-1]"
      ],
      "metadata": {
        "colab": {
          "base_uri": "https://localhost:8080/"
        },
        "id": "jO65BjPmf01x",
        "outputId": "e0587ec2-eb04-425e-9a7a-70e9ae6b487b"
      },
      "execution_count": null,
      "outputs": [
        {
          "output_type": "execute_result",
          "data": {
            "text/plain": [
              "<tf.Tensor: shape=(4,), dtype=float32, numpy=array([ 0.07595026, -1.8107855 , -0.7535806 , -0.23362991], dtype=float32)>"
            ]
          },
          "metadata": {},
          "execution_count": 56
        }
      ]
    },
    {
      "cell_type": "code",
      "source": [
        "#Adding in extra dimension to our tensor\n",
        "rank3_t=rank2_t[...,tf.newaxis]\n",
        "rank3_t"
      ],
      "metadata": {
        "colab": {
          "base_uri": "https://localhost:8080/"
        },
        "id": "9t33ioWfg4mL",
        "outputId": "942db20a-b948-4d0f-a634-1104645b03dd"
      },
      "execution_count": null,
      "outputs": [
        {
          "output_type": "execute_result",
          "data": {
            "text/plain": [
              "<tf.Tensor: shape=(4, 3, 1), dtype=float32, numpy=\n",
              "array([[[-0.7565803 ],\n",
              "        [-0.06854702],\n",
              "        [ 0.07595026]],\n",
              "\n",
              "       [[-1.2573844 ],\n",
              "        [-0.23193765],\n",
              "        [-1.8107855 ]],\n",
              "\n",
              "       [[ 0.09988727],\n",
              "        [-0.50998646],\n",
              "        [-0.7535806 ]],\n",
              "\n",
              "       [[-0.5716629 ],\n",
              "        [ 0.1480774 ],\n",
              "        [-0.23362991]]], dtype=float32)>"
            ]
          },
          "metadata": {},
          "execution_count": 57
        }
      ]
    },
    {
      "cell_type": "markdown",
      "source": [
        "The ... is simply a replacement for : : in each line"
      ],
      "metadata": {
        "id": "boIP02IXij1N"
      }
    },
    {
      "cell_type": "code",
      "source": [
        "rank31_t=rank2_t[:,tf.newaxis,:]\n",
        "rank31_t"
      ],
      "metadata": {
        "colab": {
          "base_uri": "https://localhost:8080/"
        },
        "id": "iN4xwUR5iSty",
        "outputId": "3b2c8ce3-95d3-4349-a7fd-cfe6193c6af8"
      },
      "execution_count": null,
      "outputs": [
        {
          "output_type": "execute_result",
          "data": {
            "text/plain": [
              "<tf.Tensor: shape=(4, 1, 3), dtype=float32, numpy=\n",
              "array([[[-0.7565803 , -0.06854702,  0.07595026]],\n",
              "\n",
              "       [[-1.2573844 , -0.23193765, -1.8107855 ]],\n",
              "\n",
              "       [[ 0.09988727, -0.50998646, -0.7535806 ]],\n",
              "\n",
              "       [[-0.5716629 ,  0.1480774 , -0.23362991]]], dtype=float32)>"
            ]
          },
          "metadata": {},
          "execution_count": 58
        }
      ]
    },
    {
      "cell_type": "code",
      "source": [
        "#Alternative to tf.newaxis\n",
        "tf.expand_dims(rank2_t,axis=-1)#the axis specifies the dimension index"
      ],
      "metadata": {
        "colab": {
          "base_uri": "https://localhost:8080/"
        },
        "id": "v_2oJSb6izKB",
        "outputId": "50a7bc70-3121-47b2-cb93-c81dfa575971"
      },
      "execution_count": null,
      "outputs": [
        {
          "output_type": "execute_result",
          "data": {
            "text/plain": [
              "<tf.Tensor: shape=(4, 3, 1), dtype=float32, numpy=\n",
              "array([[[-0.7565803 ],\n",
              "        [-0.06854702],\n",
              "        [ 0.07595026]],\n",
              "\n",
              "       [[-1.2573844 ],\n",
              "        [-0.23193765],\n",
              "        [-1.8107855 ]],\n",
              "\n",
              "       [[ 0.09988727],\n",
              "        [-0.50998646],\n",
              "        [-0.7535806 ]],\n",
              "\n",
              "       [[-0.5716629 ],\n",
              "        [ 0.1480774 ],\n",
              "        [-0.23362991]]], dtype=float32)>"
            ]
          },
          "metadata": {},
          "execution_count": 59
        }
      ]
    },
    {
      "cell_type": "code",
      "source": [
        "rank2_t"
      ],
      "metadata": {
        "colab": {
          "base_uri": "https://localhost:8080/"
        },
        "id": "ouK5gadjH3SX",
        "outputId": "8acca23f-4976-4dd2-81bc-99b5cab39f2e"
      },
      "execution_count": null,
      "outputs": [
        {
          "output_type": "execute_result",
          "data": {
            "text/plain": [
              "<tf.Tensor: shape=(4, 3), dtype=float32, numpy=\n",
              "array([[-0.7565803 , -0.06854702,  0.07595026],\n",
              "       [-1.2573844 , -0.23193765, -1.8107855 ],\n",
              "       [ 0.09988727, -0.50998646, -0.7535806 ],\n",
              "       [-0.5716629 ,  0.1480774 , -0.23362991]], dtype=float32)>"
            ]
          },
          "metadata": {},
          "execution_count": 60
        }
      ]
    },
    {
      "cell_type": "code",
      "source": [
        "#get the last element of each column from our rank 2 tensor\n",
        "rank2_t[-1,:]"
      ],
      "metadata": {
        "colab": {
          "base_uri": "https://localhost:8080/"
        },
        "id": "uCXOJ04zIJGM",
        "outputId": "507266de-a886-46db-e8a8-4ccb897c8320"
      },
      "execution_count": null,
      "outputs": [
        {
          "output_type": "execute_result",
          "data": {
            "text/plain": [
              "<tf.Tensor: shape=(3,), dtype=float32, numpy=array([-0.5716629 ,  0.1480774 , -0.23362991], dtype=float32)>"
            ]
          },
          "metadata": {},
          "execution_count": 61
        }
      ]
    },
    {
      "cell_type": "code",
      "source": [
        "#Adding a new axis at the end\n",
        "rank3_tens=rank2_t[:,:,tf.newaxis]\n",
        "rank3_tens.shape"
      ],
      "metadata": {
        "colab": {
          "base_uri": "https://localhost:8080/"
        },
        "id": "7_0TBHM3Ic2Y",
        "outputId": "fed40b0c-5295-41d0-d7b6-601b03b0f226"
      },
      "execution_count": null,
      "outputs": [
        {
          "output_type": "execute_result",
          "data": {
            "text/plain": [
              "TensorShape([4, 3, 1])"
            ]
          },
          "metadata": {},
          "execution_count": 62
        }
      ]
    },
    {
      "cell_type": "code",
      "source": [
        "#Adding a new axis in the middle\n",
        "rank3_tens1=rank2_t[:,tf.newaxis,:]\n",
        "rank3_tens1.shape"
      ],
      "metadata": {
        "id": "4pNPmfdwIvQ9",
        "colab": {
          "base_uri": "https://localhost:8080/"
        },
        "outputId": "89c102e6-7cf9-4ca2-9fe5-fde39c003e31"
      },
      "execution_count": null,
      "outputs": [
        {
          "output_type": "execute_result",
          "data": {
            "text/plain": [
              "TensorShape([4, 1, 3])"
            ]
          },
          "metadata": {},
          "execution_count": 63
        }
      ]
    },
    {
      "cell_type": "code",
      "source": [
        "rank3_tens.shape"
      ],
      "metadata": {
        "colab": {
          "base_uri": "https://localhost:8080/"
        },
        "id": "VqrTZALRIqDR",
        "outputId": "20957ab0-5f14-4034-fdd1-4c5252fbc976"
      },
      "execution_count": null,
      "outputs": [
        {
          "output_type": "execute_result",
          "data": {
            "text/plain": [
              "TensorShape([4, 3, 1])"
            ]
          },
          "metadata": {},
          "execution_count": 64
        }
      ]
    },
    {
      "cell_type": "code",
      "source": [
        "rand2=tf.constant([10,5,6,7,5,4,9,2],shape=(2,2,2))#creating a constant tensor\n",
        "#of set values,then giving it a diff shape.\n",
        "rand2"
      ],
      "metadata": {
        "colab": {
          "base_uri": "https://localhost:8080/"
        },
        "id": "3G4BNoQ1LHwK",
        "outputId": "8d243350-a3f7-4bc2-8de8-b807db87007a"
      },
      "execution_count": null,
      "outputs": [
        {
          "output_type": "execute_result",
          "data": {
            "text/plain": [
              "<tf.Tensor: shape=(2, 2, 2), dtype=int32, numpy=\n",
              "array([[[10,  5],\n",
              "        [ 6,  7]],\n",
              "\n",
              "       [[ 5,  4],\n",
              "        [ 9,  2]]], dtype=int32)>"
            ]
          },
          "metadata": {},
          "execution_count": 65
        }
      ]
    },
    {
      "cell_type": "code",
      "source": [
        "#Creating a random tensor,shuffling it,getting it's attributes,finding\n",
        "#its elements by indexing,adding a new dimension to it.(initial 3d tensor)"
      ],
      "metadata": {
        "id": "z_tLVZM7KD4L"
      },
      "execution_count": null,
      "outputs": []
    },
    {
      "cell_type": "code",
      "source": [
        "rand1=tf.random.Generator.from_seed(52) #Generating a random tensor from seed\n",
        "rand1=rand1.normal(shape=(3,2,3))#Assigning a shape to it\n",
        "rand1#the tensor and it's "
      ],
      "metadata": {
        "colab": {
          "base_uri": "https://localhost:8080/"
        },
        "id": "PaduQbTVKuYZ",
        "outputId": "74e5fce8-7d03-4a63-e75d-6dcdccb7cf19"
      },
      "execution_count": null,
      "outputs": [
        {
          "output_type": "execute_result",
          "data": {
            "text/plain": [
              "<tf.Tensor: shape=(3, 2, 3), dtype=float32, numpy=\n",
              "array([[[ 1.0034493 ,  0.20857747,  0.35700995],\n",
              "        [ 1.0648885 ,  1.2432486 , -2.2173238 ]],\n",
              "\n",
              "       [[ 0.18706243,  0.6617961 ,  0.01380118],\n",
              "        [-0.24827152,  1.2111493 , -0.7199124 ]],\n",
              "\n",
              "       [[-0.04082382,  2.6791053 ,  1.0914806 ],\n",
              "        [ 0.33149615, -0.67958915,  0.44723678]]], dtype=float32)>"
            ]
          },
          "metadata": {},
          "execution_count": 67
        }
      ]
    },
    {
      "cell_type": "code",
      "source": [
        "rand1s=tf.random.shuffle(rand1)#Creating a shuffled version of rand1\n"
      ],
      "metadata": {
        "id": "VHWPV7DELfcl"
      },
      "execution_count": null,
      "outputs": []
    },
    {
      "cell_type": "code",
      "source": [
        "rand1s"
      ],
      "metadata": {
        "colab": {
          "base_uri": "https://localhost:8080/"
        },
        "id": "lsmgw0qwMN4B",
        "outputId": "faa5fa8b-d5af-46a7-adcc-3323e079c114"
      },
      "execution_count": null,
      "outputs": [
        {
          "output_type": "execute_result",
          "data": {
            "text/plain": [
              "<tf.Tensor: shape=(3, 2, 3), dtype=float32, numpy=\n",
              "array([[[ 0.18706243,  0.6617961 ,  0.01380118],\n",
              "        [-0.24827152,  1.2111493 , -0.7199124 ]],\n",
              "\n",
              "       [[-0.04082382,  2.6791053 ,  1.0914806 ],\n",
              "        [ 0.33149615, -0.67958915,  0.44723678]],\n",
              "\n",
              "       [[ 1.0034493 ,  0.20857747,  0.35700995],\n",
              "        [ 1.0648885 ,  1.2432486 , -2.2173238 ]]], dtype=float32)>"
            ]
          },
          "metadata": {},
          "execution_count": 69
        }
      ]
    },
    {
      "cell_type": "code",
      "source": [
        "#Attributes\n",
        "print(tf.size(rand1s))#the total number of elements in the tensor\n",
        "print(rand1s.shape)#the list of dimensions in a tensor\n",
        "print(rand1s.ndim)#the rank of the tensor\n",
        "print(rand1s[1])#Getting the 1st element from the first axis\n",
        "print(rand1s[:,0,:])#Getting the first row from each matrix(in our cube)\n",
        "print(rand1s[-1,:,:])#Getting all the rows and columns from the last matrix\n",
        "#from our cube"
      ],
      "metadata": {
        "colab": {
          "base_uri": "https://localhost:8080/"
        },
        "id": "mKXU3karMhHv",
        "outputId": "db51fd2d-73f5-4d2f-ccc1-6605738faa07"
      },
      "execution_count": null,
      "outputs": [
        {
          "output_type": "stream",
          "name": "stdout",
          "text": [
            "tf.Tensor(18, shape=(), dtype=int32)\n",
            "(3, 2, 3)\n",
            "3\n",
            "tf.Tensor(\n",
            "[[-0.04082382  2.6791053   1.0914806 ]\n",
            " [ 0.33149615 -0.67958915  0.44723678]], shape=(2, 3), dtype=float32)\n",
            "tf.Tensor(\n",
            "[[ 0.18706243  0.6617961   0.01380118]\n",
            " [-0.04082382  2.6791053   1.0914806 ]\n",
            " [ 1.0034493   0.20857747  0.35700995]], shape=(3, 3), dtype=float32)\n",
            "tf.Tensor(\n",
            "[[ 1.0034493   0.20857747  0.35700995]\n",
            " [ 1.0648885   1.2432486  -2.2173238 ]], shape=(2, 3), dtype=float32)\n"
          ]
        }
      ]
    },
    {
      "cell_type": "markdown",
      "source": [
        "# Manipulating tensors(tensor operations)"
      ],
      "metadata": {
        "id": "a1uyroBQM_qS"
      }
    },
    {
      "cell_type": "code",
      "source": [
        "tensor1=tf.constant([[10,5], \n",
        "                  [5,8],\n",
        "                  [3,3]])\n",
        "tensor1+10"
      ],
      "metadata": {
        "colab": {
          "base_uri": "https://localhost:8080/"
        },
        "id": "U0gT5CisR_oH",
        "outputId": "43eca2fb-1ff8-47d1-d354-7a33bd22209d"
      },
      "execution_count": null,
      "outputs": [
        {
          "output_type": "execute_result",
          "data": {
            "text/plain": [
              "<tf.Tensor: shape=(3, 2), dtype=int32, numpy=\n",
              "array([[20, 15],\n",
              "       [15, 18],\n",
              "       [13, 13]], dtype=int32)>"
            ]
          },
          "metadata": {},
          "execution_count": 71
        }
      ]
    },
    {
      "cell_type": "code",
      "source": [
        "tf.multiply(tensor1,10\n",
        "           )"
      ],
      "metadata": {
        "colab": {
          "base_uri": "https://localhost:8080/"
        },
        "id": "LcByxE3dSuiw",
        "outputId": "d2538cb0-4c8b-411b-ffe6-49393dfa2096"
      },
      "execution_count": null,
      "outputs": [
        {
          "output_type": "execute_result",
          "data": {
            "text/plain": [
              "<tf.Tensor: shape=(3, 2), dtype=int32, numpy=\n",
              "array([[100,  50],\n",
              "       [ 50,  80],\n",
              "       [ 30,  30]], dtype=int32)>"
            ]
          },
          "metadata": {},
          "execution_count": 72
        }
      ]
    },
    {
      "cell_type": "code",
      "source": [
        "#reshaping the matrix\n",
        "tensor2=tf.reshape(tensor1,shape=(2,3))"
      ],
      "metadata": {
        "id": "nTgTwMsaUK4f"
      },
      "execution_count": null,
      "outputs": []
    },
    {
      "cell_type": "code",
      "source": [
        "tf.matmul(tensor1,tensor2) "
      ],
      "metadata": {
        "colab": {
          "base_uri": "https://localhost:8080/"
        },
        "id": "dces_Lu2VVNa",
        "outputId": "fcb7a384-55f2-4ed0-f83a-fd059ac3b532"
      },
      "execution_count": null,
      "outputs": [
        {
          "output_type": "execute_result",
          "data": {
            "text/plain": [
              "<tf.Tensor: shape=(3, 3), dtype=int32, numpy=\n",
              "array([[140,  65,  65],\n",
              "       [114,  49,  49],\n",
              "       [ 54,  24,  24]], dtype=int32)>"
            ]
          },
          "metadata": {},
          "execution_count": 74
        }
      ]
    },
    {
      "cell_type": "code",
      "source": [
        "tensor1t=tf.transpose(tensor1)"
      ],
      "metadata": {
        "id": "FUpd3202W4AV"
      },
      "execution_count": null,
      "outputs": []
    },
    {
      "cell_type": "code",
      "source": [
        "tf.matmul(tensor1,tensor1t)"
      ],
      "metadata": {
        "colab": {
          "base_uri": "https://localhost:8080/"
        },
        "id": "dQ6iGs7TXLhf",
        "outputId": "0a63b046-ddf8-4307-d5a0-4c47c86cf81a"
      },
      "execution_count": null,
      "outputs": [
        {
          "output_type": "execute_result",
          "data": {
            "text/plain": [
              "<tf.Tensor: shape=(3, 3), dtype=int32, numpy=\n",
              "array([[125,  90,  45],\n",
              "       [ 90,  89,  39],\n",
              "       [ 45,  39,  18]], dtype=int32)>"
            ]
          },
          "metadata": {},
          "execution_count": 76
        }
      ]
    },
    {
      "cell_type": "code",
      "source": [
        "tf.tensordot(tensor1,tensor1t,axes=1)"
      ],
      "metadata": {
        "colab": {
          "base_uri": "https://localhost:8080/"
        },
        "id": "5yzqIQtcWwiN",
        "outputId": "f0001fab-b31d-4627-fab0-d301d7c98964"
      },
      "execution_count": null,
      "outputs": [
        {
          "output_type": "execute_result",
          "data": {
            "text/plain": [
              "<tf.Tensor: shape=(3, 3), dtype=int32, numpy=\n",
              "array([[125,  90,  45],\n",
              "       [ 90,  89,  39],\n",
              "       [ 45,  39,  18]], dtype=int32)>"
            ]
          },
          "metadata": {},
          "execution_count": 77
        }
      ]
    },
    {
      "cell_type": "code",
      "source": [
        "tf.matmul(tensor1,tensor2)"
      ],
      "metadata": {
        "colab": {
          "base_uri": "https://localhost:8080/"
        },
        "id": "JvHD1J9GXai-",
        "outputId": "21cc7ca7-6f15-469b-cff9-a35f71230cd5"
      },
      "execution_count": null,
      "outputs": [
        {
          "output_type": "execute_result",
          "data": {
            "text/plain": [
              "<tf.Tensor: shape=(3, 3), dtype=int32, numpy=\n",
              "array([[140,  65,  65],\n",
              "       [114,  49,  49],\n",
              "       [ 54,  24,  24]], dtype=int32)>"
            ]
          },
          "metadata": {},
          "execution_count": 78
        }
      ]
    },
    {
      "cell_type": "code",
      "source": [
        "tf.matmul(tensor1,tensor1t)"
      ],
      "metadata": {
        "colab": {
          "base_uri": "https://localhost:8080/"
        },
        "id": "1YMh84PoXpab",
        "outputId": "a673e5c2-0b46-46a0-a291-6d25d5b7d2a5"
      },
      "execution_count": null,
      "outputs": [
        {
          "output_type": "execute_result",
          "data": {
            "text/plain": [
              "<tf.Tensor: shape=(3, 3), dtype=int32, numpy=\n",
              "array([[125,  90,  45],\n",
              "       [ 90,  89,  39],\n",
              "       [ 45,  39,  18]], dtype=int32)>"
            ]
          },
          "metadata": {},
          "execution_count": 79
        }
      ]
    },
    {
      "cell_type": "code",
      "source": [
        "#create a new float tensor\n",
        "B=tf.constant([[1.5,6.7],[3.6,7.8]])"
      ],
      "metadata": {
        "id": "3Z0MdEU0hyhx"
      },
      "execution_count": null,
      "outputs": []
    },
    {
      "cell_type": "code",
      "source": [
        "B.dtype"
      ],
      "metadata": {
        "colab": {
          "base_uri": "https://localhost:8080/"
        },
        "id": "mH1YUFUgiD9y",
        "outputId": "cc394690-e8f8-46f1-e199-60028f8e4e5f"
      },
      "execution_count": null,
      "outputs": [
        {
          "output_type": "execute_result",
          "data": {
            "text/plain": [
              "tf.float32"
            ]
          },
          "metadata": {},
          "execution_count": 81
        }
      ]
    },
    {
      "cell_type": "code",
      "source": [
        "#CHange the float32 to float16 \n",
        "C=tf.cast(B,dtype=tf.float16)\n",
        "C.dtype"
      ],
      "metadata": {
        "colab": {
          "base_uri": "https://localhost:8080/"
        },
        "id": "QO-tVzRbjYft",
        "outputId": "e1d3cabf-5118-49c4-88d9-50ae062a54b6"
      },
      "execution_count": null,
      "outputs": [
        {
          "output_type": "execute_result",
          "data": {
            "text/plain": [
              "tf.float16"
            ]
          },
          "metadata": {},
          "execution_count": 82
        }
      ]
    },
    {
      "cell_type": "markdown",
      "source": [
        "# Aggreagating Tensors"
      ],
      "metadata": {
        "id": "vt9oi0qVjk1q"
      }
    },
    {
      "cell_type": "code",
      "source": [
        "random1=tf.random.Generator.from_seed(52)\n",
        "random1=random1.normal(shape=(4,3,2))\n",
        "random1"
      ],
      "metadata": {
        "colab": {
          "base_uri": "https://localhost:8080/"
        },
        "id": "1OCqKloNkE0Y",
        "outputId": "056abfad-733f-41ff-c54b-3871b196aa31"
      },
      "execution_count": null,
      "outputs": [
        {
          "output_type": "execute_result",
          "data": {
            "text/plain": [
              "<tf.Tensor: shape=(4, 3, 2), dtype=float32, numpy=\n",
              "array([[[ 1.0034493 ,  0.20857747],\n",
              "        [ 0.35700995,  1.0648885 ],\n",
              "        [ 1.2432486 , -2.2173238 ]],\n",
              "\n",
              "       [[ 0.18706243,  0.6617961 ],\n",
              "        [ 0.01380118, -0.24827152],\n",
              "        [ 1.2111493 , -0.7199124 ]],\n",
              "\n",
              "       [[-0.04082382,  2.6791053 ],\n",
              "        [ 1.0914806 ,  0.33149615],\n",
              "        [-0.67958915,  0.44723678]],\n",
              "\n",
              "       [[-0.17811586,  0.24882519],\n",
              "        [ 0.49689844,  0.8259971 ],\n",
              "        [ 1.0340209 , -0.24918638]]], dtype=float32)>"
            ]
          },
          "metadata": {},
          "execution_count": 83
        }
      ]
    },
    {
      "cell_type": "code",
      "source": [
        "tf.reduce_max(random1)"
      ],
      "metadata": {
        "colab": {
          "base_uri": "https://localhost:8080/"
        },
        "id": "gafL7kwnl3EF",
        "outputId": "57d27292-b5a4-430b-93a0-81f22c8ce4c9"
      },
      "execution_count": null,
      "outputs": [
        {
          "output_type": "execute_result",
          "data": {
            "text/plain": [
              "<tf.Tensor: shape=(), dtype=float32, numpy=2.6791053>"
            ]
          },
          "metadata": {},
          "execution_count": 84
        }
      ]
    },
    {
      "cell_type": "code",
      "source": [
        "tensor2=tf.random.Generator.from_seed(52)\n",
        "tensor2=tensor2.normal(shape=(3,3,3))\n",
        "tensor2"
      ],
      "metadata": {
        "colab": {
          "base_uri": "https://localhost:8080/"
        },
        "id": "t0zMU5cjdmCn",
        "outputId": "7f75230d-4dc3-4226-e78b-acaf1ca5b89b"
      },
      "execution_count": null,
      "outputs": [
        {
          "output_type": "execute_result",
          "data": {
            "text/plain": [
              "<tf.Tensor: shape=(3, 3, 3), dtype=float32, numpy=\n",
              "array([[[ 1.0034493 ,  0.20857747,  0.35700995],\n",
              "        [ 1.0648885 ,  1.2432486 , -2.2173238 ],\n",
              "        [ 0.18706243,  0.6617961 ,  0.01380118]],\n",
              "\n",
              "       [[-0.24827152,  1.2111493 , -0.7199124 ],\n",
              "        [-0.04082382,  2.6791053 ,  1.0914806 ],\n",
              "        [ 0.33149615, -0.67958915,  0.44723678]],\n",
              "\n",
              "       [[-0.17811586,  0.24882519,  0.49689844],\n",
              "        [ 0.8259971 ,  1.0340209 , -0.24918638],\n",
              "        [-1.5780283 , -0.92161775,  0.268676  ]]], dtype=float32)>"
            ]
          },
          "metadata": {},
          "execution_count": 85
        }
      ]
    },
    {
      "cell_type": "markdown",
      "source": [
        "#Min,Max,Mean,Sum"
      ],
      "metadata": {
        "id": "KjUiXGY0eFKR"
      }
    },
    {
      "cell_type": "code",
      "source": [
        "numpy1=np.arange(9)\n",
        "numpy1"
      ],
      "metadata": {
        "colab": {
          "base_uri": "https://localhost:8080/"
        },
        "id": "8-pdsLNtf9CC",
        "outputId": "bc1e57e9-8139-4866-863a-9c70f9d799a5"
      },
      "execution_count": null,
      "outputs": [
        {
          "output_type": "execute_result",
          "data": {
            "text/plain": [
              "array([0, 1, 2, 3, 4, 5, 6, 7, 8])"
            ]
          },
          "metadata": {},
          "execution_count": 86
        }
      ]
    },
    {
      "cell_type": "code",
      "source": [
        "tens1=tf.convert_to_tensor(numpy1)"
      ],
      "metadata": {
        "id": "1mKni7lcgOjy"
      },
      "execution_count": null,
      "outputs": []
    },
    {
      "cell_type": "code",
      "source": [
        "tens1=tf.reshape(tens1,shape=(3,3))\n",
        "tens1"
      ],
      "metadata": {
        "colab": {
          "base_uri": "https://localhost:8080/"
        },
        "id": "3X0LykYHgfcq",
        "outputId": "9ce83c3d-4feb-40c7-ac39-a5750d6d6250"
      },
      "execution_count": null,
      "outputs": [
        {
          "output_type": "execute_result",
          "data": {
            "text/plain": [
              "<tf.Tensor: shape=(3, 3), dtype=int64, numpy=\n",
              "array([[0, 1, 2],\n",
              "       [3, 4, 5],\n",
              "       [6, 7, 8]])>"
            ]
          },
          "metadata": {},
          "execution_count": 88
        }
      ]
    },
    {
      "cell_type": "code",
      "source": [
        "tens2=tf.constant([[0.,1.,2.],\n",
        "                  [3.,4.,5.],\n",
        "                  [6.,7.,8.],\n",
        "                   [2.,3.,4.]])"
      ],
      "metadata": {
        "id": "Bf2xmV4xjE4T"
      },
      "execution_count": null,
      "outputs": []
    },
    {
      "cell_type": "code",
      "source": [
        "tf.reduce_mean(tens2,1)"
      ],
      "metadata": {
        "colab": {
          "base_uri": "https://localhost:8080/"
        },
        "id": "vcsSgSSVkMgJ",
        "outputId": "0b799d7c-945d-4c88-dedc-adb9578b6ee3"
      },
      "execution_count": null,
      "outputs": [
        {
          "output_type": "execute_result",
          "data": {
            "text/plain": [
              "<tf.Tensor: shape=(4,), dtype=float32, numpy=array([1., 4., 7., 3.], dtype=float32)>"
            ]
          },
          "metadata": {},
          "execution_count": 90
        }
      ]
    },
    {
      "cell_type": "code",
      "source": [
        "tf.reduce_min(tens2)"
      ],
      "metadata": {
        "colab": {
          "base_uri": "https://localhost:8080/"
        },
        "id": "D1BJILUylqjT",
        "outputId": "3cbbfde1-6e95-4c2e-ec4f-ca4aeca78b6f"
      },
      "execution_count": null,
      "outputs": [
        {
          "output_type": "execute_result",
          "data": {
            "text/plain": [
              "<tf.Tensor: shape=(), dtype=float32, numpy=0.0>"
            ]
          },
          "metadata": {},
          "execution_count": 91
        }
      ]
    },
    {
      "cell_type": "code",
      "source": [
        "tf.reduce_prod(tens2)"
      ],
      "metadata": {
        "colab": {
          "base_uri": "https://localhost:8080/"
        },
        "id": "XrrV7xUOmJu5",
        "outputId": "c5eff118-0700-42c4-9f57-e562e73de068"
      },
      "execution_count": null,
      "outputs": [
        {
          "output_type": "execute_result",
          "data": {
            "text/plain": [
              "<tf.Tensor: shape=(), dtype=float32, numpy=0.0>"
            ]
          },
          "metadata": {},
          "execution_count": 92
        }
      ]
    },
    {
      "cell_type": "code",
      "source": [],
      "metadata": {
        "id": "du73cT-zl9t-"
      },
      "execution_count": null,
      "outputs": []
    },
    {
      "cell_type": "code",
      "source": [
        "#Operations to Find the mean of a tensor\n",
        "#0th axis is rows and 1th axis is columns in a 2d tensor\n",
        "tf.reduce_mean(tens1,)"
      ],
      "metadata": {
        "id": "vJmr0UuIeLxw",
        "colab": {
          "base_uri": "https://localhost:8080/"
        },
        "outputId": "9b1ac800-009c-420e-ae52-9d6a334b5271"
      },
      "execution_count": null,
      "outputs": [
        {
          "output_type": "execute_result",
          "data": {
            "text/plain": [
              "<tf.Tensor: shape=(), dtype=int64, numpy=4>"
            ]
          },
          "metadata": {},
          "execution_count": 93
        }
      ]
    },
    {
      "cell_type": "code",
      "source": [
        "tf.reduce_mean(tens1,1)#computes the mean of the elements by their axes\n",
        "#itc the tensor mean about it's 0th axis,i.e about the axis of the rows is \n",
        "#computed."
      ],
      "metadata": {
        "colab": {
          "base_uri": "https://localhost:8080/"
        },
        "id": "ZrX1zycfhgBp",
        "outputId": "eb7165b5-b474-461a-8d11-78ceddfd470a"
      },
      "execution_count": null,
      "outputs": [
        {
          "output_type": "execute_result",
          "data": {
            "text/plain": [
              "<tf.Tensor: shape=(3,), dtype=int64, numpy=array([1, 4, 7])>"
            ]
          },
          "metadata": {},
          "execution_count": 94
        }
      ]
    },
    {
      "cell_type": "code",
      "source": [],
      "metadata": {
        "id": "fefTvkvHhlXa"
      },
      "execution_count": null,
      "outputs": []
    },
    {
      "cell_type": "markdown",
      "source": [
        "#Exercise to find the variance and standard deviation of our Tensor using\n",
        "#TensorFlow methods"
      ],
      "metadata": {
        "id": "ZzTfcQWKdzu-"
      }
    },
    {
      "cell_type": "code",
      "source": [
        "a=tf.math.reduce_std(tens2) "
      ],
      "metadata": {
        "id": "H7oJ3cfmd-5z"
      },
      "execution_count": null,
      "outputs": []
    },
    {
      "cell_type": "code",
      "source": [
        "tf.math.reduce_variance(tens2)"
      ],
      "metadata": {
        "colab": {
          "base_uri": "https://localhost:8080/"
        },
        "id": "N3EpJly7q_8Y",
        "outputId": "b439a64a-09d7-4ee0-a1fb-a93c24786ab2"
      },
      "execution_count": null,
      "outputs": [
        {
          "output_type": "execute_result",
          "data": {
            "text/plain": [
              "<tf.Tensor: shape=(), dtype=float32, numpy=5.3541665>"
            ]
          },
          "metadata": {},
          "execution_count": 96
        }
      ]
    },
    {
      "cell_type": "code",
      "source": [
        "var=a*a\n",
        "var"
      ],
      "metadata": {
        "colab": {
          "base_uri": "https://localhost:8080/"
        },
        "id": "IeSLEOeYphB-",
        "outputId": "2766f4de-8be0-4ce2-f3a1-c678cf21d193"
      },
      "execution_count": null,
      "outputs": [
        {
          "output_type": "execute_result",
          "data": {
            "text/plain": [
              "<tf.Tensor: shape=(), dtype=float32, numpy=5.3541665>"
            ]
          },
          "metadata": {},
          "execution_count": 97
        }
      ]
    },
    {
      "cell_type": "code",
      "source": [
        "tens2"
      ],
      "metadata": {
        "colab": {
          "base_uri": "https://localhost:8080/"
        },
        "id": "fl4hwE8oqIFi",
        "outputId": "82bacb9b-da51-40d2-b36b-6fef5bed310d"
      },
      "execution_count": null,
      "outputs": [
        {
          "output_type": "execute_result",
          "data": {
            "text/plain": [
              "<tf.Tensor: shape=(4, 3), dtype=float32, numpy=\n",
              "array([[0., 1., 2.],\n",
              "       [3., 4., 5.],\n",
              "       [6., 7., 8.],\n",
              "       [2., 3., 4.]], dtype=float32)>"
            ]
          },
          "metadata": {},
          "execution_count": 98
        }
      ]
    },
    {
      "cell_type": "code",
      "source": [
        "import tensorflow_probability as tfp\n",
        "tfp.stats.variance(tens2,sample_axis=0)"
      ],
      "metadata": {
        "colab": {
          "base_uri": "https://localhost:8080/"
        },
        "id": "jqkHIaXpp5kD",
        "outputId": "fa62c153-74d5-46ee-c93d-8e25fb99cbd4"
      },
      "execution_count": null,
      "outputs": [
        {
          "output_type": "execute_result",
          "data": {
            "text/plain": [
              "<tf.Tensor: shape=(3,), dtype=float32, numpy=array([4.6875, 4.6875, 4.6875], dtype=float32)>"
            ]
          },
          "metadata": {},
          "execution_count": 99
        }
      ]
    },
    {
      "cell_type": "markdown",
      "source": [
        "#Find the positional maximum and minimum"
      ],
      "metadata": {
        "id": "Fyb6j3RRq8xX"
      }
    },
    {
      "cell_type": "code",
      "source": [
        "tensor3=tf.random.Generator.from_seed(42)\n",
        "tensor3=tensor3.normal(shape=(10,2))\n",
        "tensor3"
      ],
      "metadata": {
        "colab": {
          "base_uri": "https://localhost:8080/"
        },
        "id": "bkG-1ByXsFeY",
        "outputId": "319cc7fe-5546-414d-8389-2bb865743f8c"
      },
      "execution_count": null,
      "outputs": [
        {
          "output_type": "execute_result",
          "data": {
            "text/plain": [
              "<tf.Tensor: shape=(10, 2), dtype=float32, numpy=\n",
              "array([[-0.7565803 , -0.06854702],\n",
              "       [ 0.07595026, -1.2573844 ],\n",
              "       [-0.23193765, -1.8107855 ],\n",
              "       [ 0.09988727, -0.50998646],\n",
              "       [-0.7535806 , -0.5716629 ],\n",
              "       [ 0.1480774 , -0.23362991],\n",
              "       [-0.3522796 ,  0.40621266],\n",
              "       [-1.0523509 ,  1.2054597 ],\n",
              "       [ 1.6874489 , -0.44629744],\n",
              "       [-2.3410842 ,  0.99009085]], dtype=float32)>"
            ]
          },
          "metadata": {},
          "execution_count": 100
        }
      ]
    },
    {
      "cell_type": "code",
      "source": [
        "tf.argmax(tensor3)#Returns the position of the maximum about the x-axis\n",
        "#or 0th axis or matrix axis."
      ],
      "metadata": {
        "colab": {
          "base_uri": "https://localhost:8080/"
        },
        "id": "XZrAEpcHsldh",
        "outputId": "e78266f0-7c31-48c4-bb0a-7b2a180979de"
      },
      "execution_count": null,
      "outputs": [
        {
          "output_type": "execute_result",
          "data": {
            "text/plain": [
              "<tf.Tensor: shape=(2,), dtype=int64, numpy=array([8, 7])>"
            ]
          },
          "metadata": {},
          "execution_count": 101
        }
      ]
    },
    {
      "cell_type": "code",
      "source": [
        "tf.argmax(tensor3,axis=0)"
      ],
      "metadata": {
        "colab": {
          "base_uri": "https://localhost:8080/"
        },
        "id": "_MQEuSiDuiHL",
        "outputId": "765929a0-1c16-41e5-d526-23c2e4495b48"
      },
      "execution_count": null,
      "outputs": [
        {
          "output_type": "execute_result",
          "data": {
            "text/plain": [
              "<tf.Tensor: shape=(2,), dtype=int64, numpy=array([8, 7])>"
            ]
          },
          "metadata": {},
          "execution_count": 102
        }
      ]
    },
    {
      "cell_type": "code",
      "source": [
        "tf.argmax(tensor3,axis=1)#Return the position of the maximum about the y-axis\n",
        "#or 1st axis or column-axis"
      ],
      "metadata": {
        "colab": {
          "base_uri": "https://localhost:8080/"
        },
        "id": "lSOLEGD8up63",
        "outputId": "65d5fb8a-5b63-49c6-dfcf-26a5861700e5"
      },
      "execution_count": null,
      "outputs": [
        {
          "output_type": "execute_result",
          "data": {
            "text/plain": [
              "<tf.Tensor: shape=(10,), dtype=int64, numpy=array([1, 0, 0, 0, 1, 0, 1, 1, 0, 1])>"
            ]
          },
          "metadata": {},
          "execution_count": 103
        }
      ]
    },
    {
      "cell_type": "code",
      "source": [
        "tensor4=tf.random.Generator.from_seed(42)\n",
        "tensor4=tensor4.normal(shape=(3,3,3))\n",
        "tensor4"
      ],
      "metadata": {
        "colab": {
          "base_uri": "https://localhost:8080/"
        },
        "id": "2MgkR5hyvkBL",
        "outputId": "52c2d78f-ab7a-45f0-d7ab-98da3791539c"
      },
      "execution_count": null,
      "outputs": [
        {
          "output_type": "execute_result",
          "data": {
            "text/plain": [
              "<tf.Tensor: shape=(3, 3, 3), dtype=float32, numpy=\n",
              "array([[[-0.7565803 , -0.06854702,  0.07595026],\n",
              "        [-1.2573844 , -0.23193765, -1.8107855 ],\n",
              "        [ 0.09988727, -0.50998646, -0.7535806 ]],\n",
              "\n",
              "       [[-0.5716629 ,  0.1480774 , -0.23362991],\n",
              "        [-0.3522796 ,  0.40621266, -1.0523509 ],\n",
              "        [ 1.2054597 ,  1.6874489 , -0.44629744]],\n",
              "\n",
              "       [[-2.3410842 ,  0.99009085, -0.08763231],\n",
              "        [-0.635568  , -0.6161736 , -1.9441465 ],\n",
              "        [-0.48293006, -0.5244748 , -1.0345329 ]]], dtype=float32)>"
            ]
          },
          "metadata": {},
          "execution_count": 104
        }
      ]
    },
    {
      "cell_type": "code",
      "source": [
        "tf.reduce_max(tensor4,axis=0)"
      ],
      "metadata": {
        "colab": {
          "base_uri": "https://localhost:8080/"
        },
        "id": "rod0Qblgx9qN",
        "outputId": "448879cc-9a96-4bc2-d3f1-a6dc95b3b65f"
      },
      "execution_count": null,
      "outputs": [
        {
          "output_type": "execute_result",
          "data": {
            "text/plain": [
              "<tf.Tensor: shape=(3, 3), dtype=float32, numpy=\n",
              "array([[-0.5716629 ,  0.99009085,  0.07595026],\n",
              "       [-0.3522796 ,  0.40621266, -1.0523509 ],\n",
              "       [ 1.2054597 ,  1.6874489 , -0.44629744]], dtype=float32)>"
            ]
          },
          "metadata": {},
          "execution_count": 105
        }
      ]
    },
    {
      "cell_type": "code",
      "source": [
        "tf.reduce_max(tensor4,axis=1)\n",
        "#in this case "
      ],
      "metadata": {
        "colab": {
          "base_uri": "https://localhost:8080/"
        },
        "id": "UxDa1Nw_3863",
        "outputId": "6ce37359-892c-4f4f-b44d-1462bd28cd45"
      },
      "execution_count": null,
      "outputs": [
        {
          "output_type": "execute_result",
          "data": {
            "text/plain": [
              "<tf.Tensor: shape=(3, 3), dtype=float32, numpy=\n",
              "array([[ 0.09988727, -0.06854702,  0.07595026],\n",
              "       [ 1.2054597 ,  1.6874489 , -0.23362991],\n",
              "       [-0.48293006,  0.99009085, -0.08763231]], dtype=float32)>"
            ]
          },
          "metadata": {},
          "execution_count": 106
        }
      ]
    },
    {
      "cell_type": "code",
      "source": [
        "tf.argmax(tensor4,axis=1)\n",
        "#in this case the 1st axis which is the row axis is fixed, and the max for each position location is computed"
      ],
      "metadata": {
        "colab": {
          "base_uri": "https://localhost:8080/"
        },
        "id": "bcVPhEY98GfC",
        "outputId": "8584e7da-3791-4e67-cea6-edabf102b48e"
      },
      "execution_count": null,
      "outputs": [
        {
          "output_type": "execute_result",
          "data": {
            "text/plain": [
              "<tf.Tensor: shape=(3, 3), dtype=int64, numpy=\n",
              "array([[2, 0, 0],\n",
              "       [2, 2, 0],\n",
              "       [2, 0, 0]])>"
            ]
          },
          "metadata": {},
          "execution_count": 107
        }
      ]
    },
    {
      "cell_type": "code",
      "source": [
        "tf.reduce_max(tensor4,axis=2)"
      ],
      "metadata": {
        "colab": {
          "base_uri": "https://localhost:8080/"
        },
        "id": "bWMm6i4o4XRK",
        "outputId": "afbe4d5b-4246-400f-de14-ac969d5cd2da"
      },
      "execution_count": null,
      "outputs": [
        {
          "output_type": "execute_result",
          "data": {
            "text/plain": [
              "<tf.Tensor: shape=(3, 3), dtype=float32, numpy=\n",
              "array([[ 0.07595026, -0.23193765,  0.09988727],\n",
              "       [ 0.1480774 ,  0.40621266,  1.6874489 ],\n",
              "       [ 0.99009085, -0.6161736 , -0.48293006]], dtype=float32)>"
            ]
          },
          "metadata": {},
          "execution_count": 108
        }
      ]
    },
    {
      "cell_type": "code",
      "source": [
        "tf.argmax(tensor4,axis=0)\n",
        "#in this case -0.57 at posn (1,1) is the greatest in all 3 matrices defo its\n",
        "#position being second output is given as 1\n",
        "#in next case at posn (1,2) is the greatest in all 3 matrices at the position \n",
        "#of (1,2) therefore the index of the matrix"
      ],
      "metadata": {
        "colab": {
          "base_uri": "https://localhost:8080/"
        },
        "id": "X4s8ekRzwPTK",
        "outputId": "410a1113-25ae-4fd6-a157-ff7d37f6fcbe"
      },
      "execution_count": null,
      "outputs": [
        {
          "output_type": "execute_result",
          "data": {
            "text/plain": [
              "<tf.Tensor: shape=(3, 3), dtype=int64, numpy=\n",
              "array([[1, 2, 0],\n",
              "       [1, 1, 1],\n",
              "       [1, 1, 1]])>"
            ]
          },
          "metadata": {},
          "execution_count": 109
        }
      ]
    },
    {
      "cell_type": "code",
      "source": [
        "tf.argmax(tensor4,axis=1)\n"
      ],
      "metadata": {
        "colab": {
          "base_uri": "https://localhost:8080/"
        },
        "id": "rmKbwtN5wThN",
        "outputId": "9e1ee581-eb96-4e80-a45e-d2833258c53f"
      },
      "execution_count": null,
      "outputs": [
        {
          "output_type": "execute_result",
          "data": {
            "text/plain": [
              "<tf.Tensor: shape=(3, 3), dtype=int64, numpy=\n",
              "array([[2, 0, 0],\n",
              "       [2, 2, 0],\n",
              "       [2, 0, 0]])>"
            ]
          },
          "metadata": {},
          "execution_count": 110
        }
      ]
    },
    {
      "cell_type": "code",
      "source": [
        "tf.argmax(tensor4,axis=2)"
      ],
      "metadata": {
        "colab": {
          "base_uri": "https://localhost:8080/"
        },
        "id": "QU_-TBwfwXdD",
        "outputId": "4d71588f-7a14-4a9c-9c25-637149a28c96"
      },
      "execution_count": null,
      "outputs": [
        {
          "output_type": "execute_result",
          "data": {
            "text/plain": [
              "<tf.Tensor: shape=(3, 3), dtype=int64, numpy=\n",
              "array([[2, 1, 0],\n",
              "       [1, 1, 1],\n",
              "       [1, 1, 0]])>"
            ]
          },
          "metadata": {},
          "execution_count": 111
        }
      ]
    },
    {
      "cell_type": "markdown",
      "source": [
        "#Squezing a tensor(removing all single dims)\n"
      ],
      "metadata": {
        "id": "whACVWy09P99"
      }
    },
    {
      "cell_type": "code",
      "source": [
        " tensor5=tf.constant(tf.random.uniform(shape=[50]),shape=(1,1,1,1,50))"
      ],
      "metadata": {
        "id": "tryKzZJf9goK"
      },
      "execution_count": null,
      "outputs": []
    },
    {
      "cell_type": "code",
      "source": [
        "tensor5"
      ],
      "metadata": {
        "colab": {
          "base_uri": "https://localhost:8080/"
        },
        "id": "KNq5HQuB-ClZ",
        "outputId": "c8593da1-cb1c-47de-d2a6-f464bd6d407e"
      },
      "execution_count": null,
      "outputs": [
        {
          "output_type": "execute_result",
          "data": {
            "text/plain": [
              "<tf.Tensor: shape=(1, 1, 1, 1, 50), dtype=float32, numpy=\n",
              "array([[[[[0.68789124, 0.48447883, 0.9309944 , 0.252187  , 0.73115396,\n",
              "           0.89256823, 0.94674826, 0.7493341 , 0.34925628, 0.54718256,\n",
              "           0.26160395, 0.69734323, 0.11962581, 0.53484344, 0.7148968 ,\n",
              "           0.87501776, 0.33967495, 0.17377627, 0.4418521 , 0.9008261 ,\n",
              "           0.13803864, 0.12217975, 0.5754491 , 0.9417181 , 0.9186585 ,\n",
              "           0.59708476, 0.6109482 , 0.82086265, 0.83269787, 0.8915849 ,\n",
              "           0.01377225, 0.49807465, 0.57503664, 0.6856195 , 0.75972784,\n",
              "           0.908944  , 0.40900218, 0.8765154 , 0.53890026, 0.42733097,\n",
              "           0.401173  , 0.66623247, 0.16348064, 0.18220246, 0.97040176,\n",
              "           0.06139731, 0.53034747, 0.9869994 , 0.4746945 , 0.8646754 ]]]]],\n",
              "      dtype=float32)>"
            ]
          },
          "metadata": {},
          "execution_count": 113
        }
      ]
    },
    {
      "cell_type": "code",
      "source": [
        "tensor5.shape"
      ],
      "metadata": {
        "colab": {
          "base_uri": "https://localhost:8080/"
        },
        "id": "vR0a4o-S-Ygx",
        "outputId": "add58ad1-84fd-4d39-d8a2-c96cd6e2fcc0"
      },
      "execution_count": null,
      "outputs": [
        {
          "output_type": "execute_result",
          "data": {
            "text/plain": [
              "TensorShape([1, 1, 1, 1, 50])"
            ]
          },
          "metadata": {},
          "execution_count": 114
        }
      ]
    },
    {
      "cell_type": "code",
      "source": [
        "#tensor5.squeeze removes dimensions of size 1 from the shape of a tensor\n",
        "tensor5_squeezed=tf.squeeze(tensor5)"
      ],
      "metadata": {
        "id": "eFNumrDP-bJe"
      },
      "execution_count": null,
      "outputs": []
    },
    {
      "cell_type": "code",
      "source": [
        "tensor5_squeezed"
      ],
      "metadata": {
        "colab": {
          "base_uri": "https://localhost:8080/"
        },
        "id": "CnIxnrM--mhL",
        "outputId": "12675259-3115-4109-9226-8ec92af3e181"
      },
      "execution_count": null,
      "outputs": [
        {
          "output_type": "execute_result",
          "data": {
            "text/plain": [
              "<tf.Tensor: shape=(50,), dtype=float32, numpy=\n",
              "array([0.68789124, 0.48447883, 0.9309944 , 0.252187  , 0.73115396,\n",
              "       0.89256823, 0.94674826, 0.7493341 , 0.34925628, 0.54718256,\n",
              "       0.26160395, 0.69734323, 0.11962581, 0.53484344, 0.7148968 ,\n",
              "       0.87501776, 0.33967495, 0.17377627, 0.4418521 , 0.9008261 ,\n",
              "       0.13803864, 0.12217975, 0.5754491 , 0.9417181 , 0.9186585 ,\n",
              "       0.59708476, 0.6109482 , 0.82086265, 0.83269787, 0.8915849 ,\n",
              "       0.01377225, 0.49807465, 0.57503664, 0.6856195 , 0.75972784,\n",
              "       0.908944  , 0.40900218, 0.8765154 , 0.53890026, 0.42733097,\n",
              "       0.401173  , 0.66623247, 0.16348064, 0.18220246, 0.97040176,\n",
              "       0.06139731, 0.53034747, 0.9869994 , 0.4746945 , 0.8646754 ],\n",
              "      dtype=float32)>"
            ]
          },
          "metadata": {},
          "execution_count": 116
        }
      ]
    },
    {
      "cell_type": "markdown",
      "source": [
        "#One Hot Encoding Tensors"
      ],
      "metadata": {
        "id": "cCDMgwETBTZ4"
      }
    },
    {
      "cell_type": "code",
      "source": [
        "some_list=[0,1,2,3]\n",
        "\n",
        "tf.one_hot(some_list,depth=4)"
      ],
      "metadata": {
        "colab": {
          "base_uri": "https://localhost:8080/"
        },
        "id": "K39qjwW7BZUX",
        "outputId": "9585a9b1-4710-4220-bdd5-bb7c4a3e5ca0"
      },
      "execution_count": null,
      "outputs": [
        {
          "output_type": "execute_result",
          "data": {
            "text/plain": [
              "<tf.Tensor: shape=(4, 4), dtype=float32, numpy=\n",
              "array([[1., 0., 0., 0.],\n",
              "       [0., 1., 0., 0.],\n",
              "       [0., 0., 1., 0.],\n",
              "       [0., 0., 0., 1.]], dtype=float32)>"
            ]
          },
          "metadata": {},
          "execution_count": 117
        }
      ]
    },
    {
      "cell_type": "code",
      "source": [
        "#Specifying custom values for one hot encoding\n",
        "tf.one_hot(some_list,depth=4,on_value=\"on\",off_value=\"off\")"
      ],
      "metadata": {
        "colab": {
          "base_uri": "https://localhost:8080/"
        },
        "id": "NFsDXnmAByJz",
        "outputId": "ed873137-3d33-4011-b13b-6bee3c5d8ce2"
      },
      "execution_count": null,
      "outputs": [
        {
          "output_type": "execute_result",
          "data": {
            "text/plain": [
              "<tf.Tensor: shape=(4, 4), dtype=string, numpy=\n",
              "array([[b'on', b'off', b'off', b'off'],\n",
              "       [b'off', b'on', b'off', b'off'],\n",
              "       [b'off', b'off', b'on', b'off'],\n",
              "       [b'off', b'off', b'off', b'on']], dtype=object)>"
            ]
          },
          "metadata": {},
          "execution_count": 118
        }
      ]
    },
    {
      "cell_type": "code",
      "source": [
        "vect1=[[0,1],\n",
        "       [2,3]]\n",
        "tf.one_hot(vect1,depth=4)"
      ],
      "metadata": {
        "colab": {
          "base_uri": "https://localhost:8080/"
        },
        "id": "PyT8KWL8CG81",
        "outputId": "13c4d4dc-46a3-43c7-c504-97bfb4cbc2c6"
      },
      "execution_count": null,
      "outputs": [
        {
          "output_type": "execute_result",
          "data": {
            "text/plain": [
              "<tf.Tensor: shape=(2, 2, 4), dtype=float32, numpy=\n",
              "array([[[1., 0., 0., 0.],\n",
              "        [0., 1., 0., 0.]],\n",
              "\n",
              "       [[0., 0., 1., 0.],\n",
              "        [0., 0., 0., 1.]]], dtype=float32)>"
            ]
          },
          "metadata": {},
          "execution_count": 119
        }
      ]
    },
    {
      "cell_type": "code",
      "source": [
        "cube1=tf.constant([[ [0,1],\n",
        "                     [2,3] ],\n",
        "                   [ [4,5],\n",
        "                     [6,7] ]])"
      ],
      "metadata": {
        "id": "XCkXv0phEqgU"
      },
      "execution_count": null,
      "outputs": []
    },
    {
      "cell_type": "code",
      "source": [
        "cube1"
      ],
      "metadata": {
        "colab": {
          "base_uri": "https://localhost:8080/"
        },
        "id": "SUDsjKbTF0u3",
        "outputId": "e563966c-b08a-49c6-d15c-12dd8ecf3ac4"
      },
      "execution_count": null,
      "outputs": [
        {
          "output_type": "execute_result",
          "data": {
            "text/plain": [
              "<tf.Tensor: shape=(2, 2, 2), dtype=int32, numpy=\n",
              "array([[[0, 1],\n",
              "        [2, 3]],\n",
              "\n",
              "       [[4, 5],\n",
              "        [6, 7]]], dtype=int32)>"
            ]
          },
          "metadata": {},
          "execution_count": 121
        }
      ]
    },
    {
      "cell_type": "code",
      "source": [
        "tf.one_hot(cube1,depth=8)"
      ],
      "metadata": {
        "colab": {
          "base_uri": "https://localhost:8080/"
        },
        "id": "NguWiY0LF2id",
        "outputId": "c9454d40-6eee-40aa-be2d-68c71b799eef"
      },
      "execution_count": null,
      "outputs": [
        {
          "output_type": "execute_result",
          "data": {
            "text/plain": [
              "<tf.Tensor: shape=(2, 2, 2, 8), dtype=float32, numpy=\n",
              "array([[[[1., 0., 0., 0., 0., 0., 0., 0.],\n",
              "         [0., 1., 0., 0., 0., 0., 0., 0.]],\n",
              "\n",
              "        [[0., 0., 1., 0., 0., 0., 0., 0.],\n",
              "         [0., 0., 0., 1., 0., 0., 0., 0.]]],\n",
              "\n",
              "\n",
              "       [[[0., 0., 0., 0., 1., 0., 0., 0.],\n",
              "         [0., 0., 0., 0., 0., 1., 0., 0.]],\n",
              "\n",
              "        [[0., 0., 0., 0., 0., 0., 1., 0.],\n",
              "         [0., 0., 0., 0., 0., 0., 0., 1.]]]], dtype=float32)>"
            ]
          },
          "metadata": {},
          "execution_count": 122
        }
      ]
    },
    {
      "cell_type": "markdown",
      "source": [
        "#More Math Ops"
      ],
      "metadata": {
        "id": "qQuHHFLwGAtH"
      }
    },
    {
      "cell_type": "code",
      "source": [
        "math1=tf.range(0,9)\n",
        "math1"
      ],
      "metadata": {
        "colab": {
          "base_uri": "https://localhost:8080/"
        },
        "id": "GA5tEHhTGMiX",
        "outputId": "9322b43a-3356-499d-ecdb-7dd09272427b"
      },
      "execution_count": null,
      "outputs": [
        {
          "output_type": "execute_result",
          "data": {
            "text/plain": [
              "<tf.Tensor: shape=(9,), dtype=int32, numpy=array([0, 1, 2, 3, 4, 5, 6, 7, 8], dtype=int32)>"
            ]
          },
          "metadata": {},
          "execution_count": 123
        }
      ]
    },
    {
      "cell_type": "code",
      "source": [
        "math1=tf.reshape(math1,shape=(3,3,))\n",
        "math1"
      ],
      "metadata": {
        "colab": {
          "base_uri": "https://localhost:8080/"
        },
        "id": "muM8nAPGGusg",
        "outputId": "ff59f995-7695-451e-dbde-b0d6c814f040"
      },
      "execution_count": null,
      "outputs": [
        {
          "output_type": "execute_result",
          "data": {
            "text/plain": [
              "<tf.Tensor: shape=(3, 3), dtype=int32, numpy=\n",
              "array([[0, 1, 2],\n",
              "       [3, 4, 5],\n",
              "       [6, 7, 8]], dtype=int32)>"
            ]
          },
          "metadata": {},
          "execution_count": 124
        }
      ]
    },
    {
      "cell_type": "code",
      "source": [
        "tf.sqrt(tf.cast(math1,dtype=tf.float32))"
      ],
      "metadata": {
        "colab": {
          "base_uri": "https://localhost:8080/"
        },
        "id": "pWo8o2NOHQyE",
        "outputId": "a310fc35-4790-4bc5-f063-6739b543cc1b"
      },
      "execution_count": null,
      "outputs": [
        {
          "output_type": "execute_result",
          "data": {
            "text/plain": [
              "<tf.Tensor: shape=(3, 3), dtype=float32, numpy=\n",
              "array([[0.       , 1.       , 1.4142135],\n",
              "       [1.7320508, 2.       , 2.2360678],\n",
              "       [2.4494896, 2.6457512, 2.828427 ]], dtype=float32)>"
            ]
          },
          "metadata": {},
          "execution_count": 125
        }
      ]
    },
    {
      "cell_type": "code",
      "source": [
        "tf.math.log(tf.cast(math1,dtype=tf.float32))\n"
      ],
      "metadata": {
        "colab": {
          "base_uri": "https://localhost:8080/"
        },
        "id": "YcI1RjtGHaJ4",
        "outputId": "45a06502-fd56-49ee-e133-cc8f8ed3e693"
      },
      "execution_count": null,
      "outputs": [
        {
          "output_type": "execute_result",
          "data": {
            "text/plain": [
              "<tf.Tensor: shape=(3, 3), dtype=float32, numpy=\n",
              "array([[     -inf, 0.       , 0.6931472],\n",
              "       [1.0986123, 1.3862944, 1.609438 ],\n",
              "       [1.7917595, 1.9459102, 2.0794415]], dtype=float32)>"
            ]
          },
          "metadata": {},
          "execution_count": 126
        }
      ]
    },
    {
      "cell_type": "markdown",
      "source": [
        "#Check GPU and TPU usage statuses"
      ],
      "metadata": {
        "id": "snmHAKq6Hkfj"
      }
    },
    {
      "cell_type": "markdown",
      "source": [],
      "metadata": {
        "id": "SBXEMfawKzNh"
      }
    },
    {
      "cell_type": "code",
      "source": [
        "tf.config.list_physical_devices()"
      ],
      "metadata": {
        "colab": {
          "base_uri": "https://localhost:8080/"
        },
        "id": "1LjJXr-RJbJO",
        "outputId": "7ff3221e-0d89-4f01-f2b9-a8bdba60383b"
      },
      "execution_count": null,
      "outputs": [
        {
          "output_type": "execute_result",
          "data": {
            "text/plain": [
              "[PhysicalDevice(name='/physical_device:CPU:0', device_type='CPU'),\n",
              " PhysicalDevice(name='/physical_device:GPU:0', device_type='GPU')]"
            ]
          },
          "metadata": {},
          "execution_count": 127
        }
      ]
    },
    {
      "cell_type": "code",
      "source": [
        "!nvidia-smi"
      ],
      "metadata": {
        "colab": {
          "base_uri": "https://localhost:8080/"
        },
        "id": "uDjO4Q1rJoBd",
        "outputId": "32354b61-6d3e-46d3-dd68-710ff33f3c3a"
      },
      "execution_count": null,
      "outputs": [
        {
          "output_type": "stream",
          "name": "stdout",
          "text": [
            "Sun Aug 21 06:52:34 2022       \n",
            "+-----------------------------------------------------------------------------+\n",
            "| NVIDIA-SMI 460.32.03    Driver Version: 460.32.03    CUDA Version: 11.2     |\n",
            "|-------------------------------+----------------------+----------------------+\n",
            "| GPU  Name        Persistence-M| Bus-Id        Disp.A | Volatile Uncorr. ECC |\n",
            "| Fan  Temp  Perf  Pwr:Usage/Cap|         Memory-Usage | GPU-Util  Compute M. |\n",
            "|                               |                      |               MIG M. |\n",
            "|===============================+======================+======================|\n",
            "|   0  Tesla T4            Off  | 00000000:00:04.0 Off |                    0 |\n",
            "| N/A   62C    P0    29W /  70W |    286MiB / 15109MiB |      0%      Default |\n",
            "|                               |                      |                  N/A |\n",
            "+-------------------------------+----------------------+----------------------+\n",
            "                                                                               \n",
            "+-----------------------------------------------------------------------------+\n",
            "| Processes:                                                                  |\n",
            "|  GPU   GI   CI        PID   Type   Process name                  GPU Memory |\n",
            "|        ID   ID                                                   Usage      |\n",
            "|=============================================================================|\n",
            "+-----------------------------------------------------------------------------+\n"
          ]
        }
      ]
    },
    {
      "cell_type": "markdown",
      "source": [
        "#00TensorFlow Fundamental Exercises"
      ],
      "metadata": {
        "id": "3u6DTCzoLW3c"
      }
    },
    {
      "cell_type": "code",
      "source": [
        "vector=tf.constant([1])\n",
        "vector"
      ],
      "metadata": {
        "colab": {
          "base_uri": "https://localhost:8080/"
        },
        "id": "WEfFUdI7NBpD",
        "outputId": "1d6584fa-b6db-46d8-ef59-3cd5d9c8cced"
      },
      "execution_count": null,
      "outputs": [
        {
          "output_type": "execute_result",
          "data": {
            "text/plain": [
              "<tf.Tensor: shape=(1,), dtype=int32, numpy=array([1], dtype=int32)>"
            ]
          },
          "metadata": {},
          "execution_count": 133
        }
      ]
    },
    {
      "cell_type": "code",
      "source": [
        "scalar=tf.constant(2)\n",
        "#scalar\n",
        "print(scalar.shape)\n",
        "print(scalar.ndim)\n",
        "print(tf.size(scalar))"
      ],
      "metadata": {
        "colab": {
          "base_uri": "https://localhost:8080/"
        },
        "id": "FsafjnqFNJ_D",
        "outputId": "3ba9ea3f-8af5-4b41-f24e-670bc81b10a0"
      },
      "execution_count": null,
      "outputs": [
        {
          "output_type": "stream",
          "name": "stdout",
          "text": [
            "()\n",
            "0\n",
            "tf.Tensor(1, shape=(), dtype=int32)\n"
          ]
        }
      ]
    },
    {
      "cell_type": "code",
      "source": [
        "matrix=tf.constant([0,1,2,434,44,535,5,7,7])\n",
        "matrix=tf.reshape(matrix,shape=(3,3))\n",
        "matrix\n"
      ],
      "metadata": {
        "colab": {
          "base_uri": "https://localhost:8080/"
        },
        "id": "t9VzRJyHNV7D",
        "outputId": "b60b4670-a39d-4266-a8c8-3b7bcf005b1c"
      },
      "execution_count": null,
      "outputs": [
        {
          "output_type": "execute_result",
          "data": {
            "text/plain": [
              "<tf.Tensor: shape=(3, 3), dtype=int32, numpy=\n",
              "array([[  0,   1,   2],\n",
              "       [434,  44, 535],\n",
              "       [  5,   7,   7]], dtype=int32)>"
            ]
          },
          "metadata": {},
          "execution_count": 136
        }
      ]
    },
    {
      "cell_type": "code",
      "source": [
        "#Create two tensors containing random values between 0 and 1 with shape [5, 300]\n",
        "op1=tf.random.uniform(shape=(5,300),minval=0,maxval=1)\n",
        "op1"
      ],
      "metadata": {
        "colab": {
          "base_uri": "https://localhost:8080/"
        },
        "id": "qsx9Jpk0Nyfj",
        "outputId": "438b165f-87b6-4a80-ab3e-4133de92e452"
      },
      "execution_count": null,
      "outputs": [
        {
          "output_type": "execute_result",
          "data": {
            "text/plain": [
              "<tf.Tensor: shape=(5, 300), dtype=float32, numpy=\n",
              "array([[0.7402308 , 0.33938193, 0.5692506 , ..., 0.08656633, 0.19666708,\n",
              "        0.7110305 ],\n",
              "       [0.13257599, 0.81292987, 0.01284087, ..., 0.02695906, 0.2927854 ,\n",
              "        0.06227863],\n",
              "       [0.282601  , 0.47868013, 0.77569485, ..., 0.28239357, 0.632112  ,\n",
              "        0.44452012],\n",
              "       [0.02029276, 0.7841259 , 0.16919017, ..., 0.26143157, 0.43055534,\n",
              "        0.47421408],\n",
              "       [0.2616079 , 0.00913954, 0.20257103, ..., 0.3548187 , 0.9939178 ,\n",
              "        0.35239196]], dtype=float32)>"
            ]
          },
          "metadata": {},
          "execution_count": 144
        }
      ]
    },
    {
      "cell_type": "code",
      "source": [
        "op2=tf.random.uniform(shape=(5,300),minval=0,maxval=1)\n",
        "op2"
      ],
      "metadata": {
        "colab": {
          "base_uri": "https://localhost:8080/"
        },
        "id": "73fLfQ2eOMX7",
        "outputId": "775d59b3-deac-4411-ce8d-c408dbfdfab8"
      },
      "execution_count": null,
      "outputs": [
        {
          "output_type": "execute_result",
          "data": {
            "text/plain": [
              "<tf.Tensor: shape=(5, 300), dtype=float32, numpy=\n",
              "array([[0.803156  , 0.49777734, 0.37054038, ..., 0.42893624, 0.49179256,\n",
              "        0.39297235],\n",
              "       [0.14517438, 0.72666824, 0.80103934, ..., 0.832801  , 0.649397  ,\n",
              "        0.29312778],\n",
              "       [0.4216962 , 0.6768439 , 0.5627917 , ..., 0.56929183, 0.90308595,\n",
              "        0.31530714],\n",
              "       [0.6198498 , 0.70206463, 0.994668  , ..., 0.03745186, 0.23192072,\n",
              "        0.23984468],\n",
              "       [0.01790595, 0.40531397, 0.5369972 , ..., 0.62693167, 0.47887897,\n",
              "        0.25383985]], dtype=float32)>"
            ]
          },
          "metadata": {},
          "execution_count": 145
        }
      ]
    },
    {
      "cell_type": "code",
      "source": [
        "mul1=op1 @ tf.transpose(op2)"
      ],
      "metadata": {
        "id": "XqPzhB0qOvUr"
      },
      "execution_count": null,
      "outputs": []
    },
    {
      "cell_type": "code",
      "source": [
        "mul1"
      ],
      "metadata": {
        "colab": {
          "base_uri": "https://localhost:8080/"
        },
        "id": "-49KMrvoO4ur",
        "outputId": "b980fc64-52e5-4c28-e90a-4f47263c89ee"
      },
      "execution_count": null,
      "outputs": [
        {
          "output_type": "execute_result",
          "data": {
            "text/plain": [
              "<tf.Tensor: shape=(5, 5), dtype=float32, numpy=\n",
              "array([[72.3417  , 73.84331 , 71.99731 , 69.78643 , 68.59812 ],\n",
              "       [76.2998  , 75.77642 , 71.65502 , 72.10436 , 75.2994  ],\n",
              "       [72.80917 , 75.74102 , 71.199   , 73.04656 , 71.71449 ],\n",
              "       [74.654816, 76.64434 , 73.32848 , 72.21241 , 73.309074],\n",
              "       [77.44371 , 78.68229 , 71.98376 , 72.70095 , 72.917274]],\n",
              "      dtype=float32)>"
            ]
          },
          "metadata": {},
          "execution_count": 147
        }
      ]
    },
    {
      "cell_type": "code",
      "source": [
        "mul2=op1 * op2"
      ],
      "metadata": {
        "id": "tVfV9RFfO8nT"
      },
      "execution_count": null,
      "outputs": []
    },
    {
      "cell_type": "code",
      "source": [
        "mul2"
      ],
      "metadata": {
        "colab": {
          "base_uri": "https://localhost:8080/"
        },
        "id": "2YySnliGPdJC",
        "outputId": "ba7d32a3-c404-439e-a1c3-463ac62dfc4d"
      },
      "execution_count": null,
      "outputs": [
        {
          "output_type": "execute_result",
          "data": {
            "text/plain": [
              "<tf.Tensor: shape=(5, 300), dtype=float32, numpy=\n",
              "array([[0.5945208 , 0.16893664, 0.21093033, ..., 0.03713144, 0.09671941,\n",
              "        0.2794153 ],\n",
              "       [0.01924664, 0.5907303 , 0.01028604, ..., 0.02245153, 0.19013397,\n",
              "        0.0182556 ],\n",
              "       [0.11917176, 0.32399172, 0.43655464, ..., 0.16076435, 0.5708515 ,\n",
              "        0.14016037],\n",
              "       [0.01257846, 0.55050707, 0.16828805, ..., 0.0097911 , 0.09985471,\n",
              "        0.11373772],\n",
              "       [0.00468434, 0.00370438, 0.10878008, ..., 0.22244708, 0.47596633,\n",
              "        0.08945112]], dtype=float32)>"
            ]
          },
          "metadata": {},
          "execution_count": 150
        }
      ]
    },
    {
      "cell_type": "code",
      "source": [
        "op4=tf.random.uniform(shape=(1,224,224,3),minval=0,maxval=1)\n",
        "tf.squeeze(op4)"
      ],
      "metadata": {
        "colab": {
          "base_uri": "https://localhost:8080/"
        },
        "id": "-hsGiab0PiIm",
        "outputId": "5e78949f-4886-4bff-ef63-cbf4b8ab457c"
      },
      "execution_count": null,
      "outputs": [
        {
          "output_type": "execute_result",
          "data": {
            "text/plain": [
              "<tf.Tensor: shape=(224, 224, 3), dtype=float32, numpy=\n",
              "array([[[0.5749372 , 0.19900596, 0.7038239 ],\n",
              "        [0.05541027, 0.5884645 , 0.5430788 ],\n",
              "        [0.9185413 , 0.37144518, 0.84554374],\n",
              "        ...,\n",
              "        [0.6570301 , 0.7645861 , 0.48230588],\n",
              "        [0.41497958, 0.4241538 , 0.5199896 ],\n",
              "        [0.59315014, 0.23632371, 0.15606153]],\n",
              "\n",
              "       [[0.34459436, 0.24155474, 0.8630327 ],\n",
              "        [0.92559505, 0.41881108, 0.9492458 ],\n",
              "        [0.21597803, 0.15805602, 0.9682605 ],\n",
              "        ...,\n",
              "        [0.45298254, 0.6097312 , 0.45232892],\n",
              "        [0.04503286, 0.48371267, 0.7752477 ],\n",
              "        [0.644374  , 0.65862846, 0.11632323]],\n",
              "\n",
              "       [[0.18631506, 0.29340136, 0.3898226 ],\n",
              "        [0.8457128 , 0.86194694, 0.05938876],\n",
              "        [0.22856331, 0.74509835, 0.32373703],\n",
              "        ...,\n",
              "        [0.03299081, 0.8350847 , 0.77849007],\n",
              "        [0.5707276 , 0.7097032 , 0.07139933],\n",
              "        [0.6495327 , 0.17728817, 0.2139225 ]],\n",
              "\n",
              "       ...,\n",
              "\n",
              "       [[0.79031277, 0.3867849 , 0.21375918],\n",
              "        [0.25417638, 0.3020934 , 0.27064204],\n",
              "        [0.11525929, 0.42353046, 0.17679155],\n",
              "        ...,\n",
              "        [0.19160533, 0.7955607 , 0.04731905],\n",
              "        [0.82823336, 0.9449781 , 0.5071925 ],\n",
              "        [0.08030343, 0.71183395, 0.11125267]],\n",
              "\n",
              "       [[0.0182724 , 0.24598098, 0.28284335],\n",
              "        [0.55315006, 0.02655053, 0.94707537],\n",
              "        [0.35371137, 0.7348622 , 0.7635373 ],\n",
              "        ...,\n",
              "        [0.57624304, 0.02165937, 0.5579735 ],\n",
              "        [0.26192856, 0.75120795, 0.66724217],\n",
              "        [0.20921767, 0.18773961, 0.22273731]],\n",
              "\n",
              "       [[0.84338987, 0.42743158, 0.08734417],\n",
              "        [0.4523027 , 0.2841288 , 0.01409531],\n",
              "        [0.2512418 , 0.31763363, 0.5714514 ],\n",
              "        ...,\n",
              "        [0.99613905, 0.59350085, 0.2457118 ],\n",
              "        [0.38211465, 0.4309833 , 0.0525862 ],\n",
              "        [0.53084314, 0.14226651, 0.91185606]]], dtype=float32)>"
            ]
          },
          "metadata": {},
          "execution_count": 163
        }
      ]
    },
    {
      "cell_type": "code",
      "source": [
        "tf.reduce_max(op3)"
      ],
      "metadata": {
        "colab": {
          "base_uri": "https://localhost:8080/"
        },
        "id": "d1RgjsLRPrQT",
        "outputId": "f60d72eb-bd19-415d-c6f9-24c6c6b47620"
      },
      "execution_count": null,
      "outputs": [
        {
          "output_type": "execute_result",
          "data": {
            "text/plain": [
              "<tf.Tensor: shape=(), dtype=float32, numpy=0.99999976>"
            ]
          },
          "metadata": {},
          "execution_count": 159
        }
      ]
    },
    {
      "cell_type": "code",
      "source": [
        "randx=tf.random.Generator.from_seed(52)\n",
        "randx=randx.normal(shape=(10,))\n",
        "randx"
      ],
      "metadata": {
        "colab": {
          "base_uri": "https://localhost:8080/"
        },
        "id": "15M8jksSQVQ8",
        "outputId": "9c761c54-f5a3-4dc0-aaf7-6265cd9f5dc5"
      },
      "execution_count": null,
      "outputs": [
        {
          "output_type": "execute_result",
          "data": {
            "text/plain": [
              "<tf.Tensor: shape=(10,), dtype=float32, numpy=\n",
              "array([ 1.0034493 ,  0.20857747,  0.35700995,  1.0648885 ,  1.2432486 ,\n",
              "       -2.2173238 ,  0.18706243,  0.6617961 ,  0.01380118, -0.24827152],\n",
              "      dtype=float32)>"
            ]
          },
          "metadata": {},
          "execution_count": 169
        }
      ]
    },
    {
      "cell_type": "code",
      "source": [
        "tf.argmax(randx)"
      ],
      "metadata": {
        "colab": {
          "base_uri": "https://localhost:8080/"
        },
        "id": "FiS5hcv5RKeL",
        "outputId": "54165116-1ec6-4f70-ad16-d6fe2711620f"
      },
      "execution_count": null,
      "outputs": [
        {
          "output_type": "execute_result",
          "data": {
            "text/plain": [
              "<tf.Tensor: shape=(), dtype=int64, numpy=4>"
            ]
          },
          "metadata": {},
          "execution_count": 170
        }
      ]
    },
    {
      "cell_type": "code",
      "source": [],
      "metadata": {
        "id": "HO_SqxcpReeC"
      },
      "execution_count": null,
      "outputs": []
    },
    {
      "cell_type": "code",
      "source": [
        "tf.one_hot(tf.cast(randx,tf.int64),depth=9)"
      ],
      "metadata": {
        "colab": {
          "base_uri": "https://localhost:8080/"
        },
        "id": "oEBmI-onRQjj",
        "outputId": "881f0604-b85e-4a7c-f5de-d3cd6d14b762"
      },
      "execution_count": null,
      "outputs": [
        {
          "output_type": "execute_result",
          "data": {
            "text/plain": [
              "<tf.Tensor: shape=(10, 9), dtype=float32, numpy=\n",
              "array([[0., 1., 0., 0., 0., 0., 0., 0., 0.],\n",
              "       [1., 0., 0., 0., 0., 0., 0., 0., 0.],\n",
              "       [1., 0., 0., 0., 0., 0., 0., 0., 0.],\n",
              "       [0., 1., 0., 0., 0., 0., 0., 0., 0.],\n",
              "       [0., 1., 0., 0., 0., 0., 0., 0., 0.],\n",
              "       [0., 0., 0., 0., 0., 0., 0., 0., 0.],\n",
              "       [1., 0., 0., 0., 0., 0., 0., 0., 0.],\n",
              "       [1., 0., 0., 0., 0., 0., 0., 0., 0.],\n",
              "       [1., 0., 0., 0., 0., 0., 0., 0., 0.],\n",
              "       [1., 0., 0., 0., 0., 0., 0., 0., 0.]], dtype=float32)>"
            ]
          },
          "metadata": {},
          "execution_count": 173
        }
      ]
    },
    {
      "cell_type": "code",
      "source": [],
      "metadata": {
        "id": "9nxlCQgiRn4S"
      },
      "execution_count": null,
      "outputs": []
    }
  ]
}